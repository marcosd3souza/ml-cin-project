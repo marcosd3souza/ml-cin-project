{
  "nbformat": 4,
  "nbformat_minor": 0,
  "metadata": {
    "colab": {
      "name": "tratamento.ipynb",
      "provenance": [],
      "collapsed_sections": []
    },
    "kernelspec": {
      "name": "python3",
      "display_name": "Python 3"
    }
  },
  "cells": [
    {
      "cell_type": "markdown",
      "metadata": {
        "id": "4smJ-x7yROks",
        "colab_type": "text"
      },
      "source": [
        "# Tratamento de dados do multiple features dataset"
      ]
    },
    {
      "cell_type": "code",
      "metadata": {
        "id": "c8gcBOUf0plo",
        "colab_type": "code",
        "colab": {
          "base_uri": "https://localhost:8080/",
          "height": 93
        },
        "outputId": "e537ff88-2f5c-4157-f4d6-5e7b5a17d64b"
      },
      "source": [
        "# imports\n",
        "import numpy as np\n",
        "import pandas as pd\n",
        "import matplotlib.pyplot as plt\n",
        "import cv2\n",
        "from google.colab import drive\n",
        "import argparse\n",
        "import sys,os\n",
        "from sklearn import preprocessing\n",
        "from scipy.spatial.distance import pdist\n",
        "from scipy.spatial.distance import squareform\n",
        "import seaborn as sns\n",
        "\n",
        "drive.mount('/content/gdrive')"
      ],
      "execution_count": 1,
      "outputs": [
        {
          "output_type": "stream",
          "text": [
            "Drive already mounted at /content/gdrive; to attempt to forcibly remount, call drive.mount(\"/content/gdrive\", force_remount=True).\n"
          ],
          "name": "stdout"
        },
        {
          "output_type": "stream",
          "text": [
            "/usr/local/lib/python3.6/dist-packages/statsmodels/tools/_testing.py:19: FutureWarning: pandas.util.testing is deprecated. Use the functions in the public API at pandas.testing instead.\n",
            "  import pandas.util.testing as tm\n"
          ],
          "name": "stderr"
        }
      ]
    },
    {
      "cell_type": "code",
      "metadata": {
        "id": "KS6wd4hNSMux",
        "colab_type": "code",
        "colab": {
          "base_uri": "https://localhost:8080/",
          "height": 476
        },
        "outputId": "dcf7970d-347a-4770-cb4f-697a7c35ad59"
      },
      "source": [
        "## Importando os dados\n",
        "\n",
        "dir_remoto = \"/content/gdrive/My Drive/\"\n",
        "dir_local = os.getcwd() # path para rodar em máquina local ao invés do colab\n",
        "\n",
        "kar = pd.read_csv(os.path.join(dir_remoto,'data/mfeat-kar'),  delim_whitespace=True, header= None)\n",
        "fou = pd.read_csv(os.path.join(dir_remoto,'data/mfeat-fou'),  delim_whitespace=True, header= None)\n",
        "fac = pd.read_csv(os.path.join(dir_remoto,'data/mfeat-fac'),  delim_whitespace=True, header= None)\n",
        "\n",
        "print(\"mfeat-kar\")\n",
        "print(kar.shape, kar.head())\n",
        "print(\"mfeat-fou\")\n",
        "print(fou.shape, fou.head())\n",
        "print(\"mfeat-fac\")\n",
        "print(fac.shape, fac.head())"
      ],
      "execution_count": 2,
      "outputs": [
        {
          "output_type": "stream",
          "text": [
            "mfeat-kar\n",
            "(2000, 64)           0          1          2   ...        61        62        63\n",
            "0 -10.297008 -11.666789  11.560669  ...  1.814691 -1.351353 -0.473910\n",
            "1  -5.036009 -12.885333   0.161155  ...  0.485792  0.642451  0.613107\n",
            "2  -9.639157  -6.655898   0.388687  ...  1.097748  0.827182 -1.767840\n",
            "3  -6.650375  -7.043851   4.104350  ... -0.913552 -0.771735  0.304992\n",
            "4 -10.664524 -10.974133   0.194391  ...  0.298318 -0.943213  1.149847\n",
            "\n",
            "[5 rows x 64 columns]\n",
            "mfeat-fou\n",
            "(2000, 76)          0         1         2   ...        73        74        75\n",
            "0  0.065882  0.197312  0.103826  ...  0.394366  0.049971  0.344871\n",
            "1  0.049142  0.175971  0.105515  ...  0.445277  0.083978  0.354092\n",
            "2  0.034172  0.227649  0.108766  ...  0.445029  0.071234  0.261465\n",
            "3  0.062336  0.217979  0.080243  ...  0.408291  0.063010  0.401376\n",
            "4  0.061970  0.198358  0.111239  ...  0.434701  0.069218  0.405403\n",
            "\n",
            "[5 rows x 76 columns]\n",
            "mfeat-fac\n",
            "(2000, 216)    0    1    2    3    4    5    6    ...  209  210  211  212  213  214  215\n",
            "0   98  236  531  673  607  647    2  ...  632   18   36    8   15   12   13\n",
            "1  121  193  607  611  585  665    7  ...  634   15   32   11   13   15   11\n",
            "2  115  141  590  605  557  627   12  ...  656   20   35   16   14   13    6\n",
            "3   90  122  627  692  607  642    0  ...  621   16   35    7   12   15    9\n",
            "4  157  167  681  666  587  666    8  ...  653   16   35   10   15   13   13\n",
            "\n",
            "[5 rows x 216 columns]\n"
          ],
          "name": "stdout"
        }
      ]
    },
    {
      "cell_type": "markdown",
      "metadata": {
        "id": "FwUuZH2setl1",
        "colab_type": "text"
      },
      "source": [
        "## Normalizando os dados"
      ]
    },
    {
      "cell_type": "code",
      "metadata": {
        "id": "Q7AXQN-sepYc",
        "colab_type": "code",
        "colab": {
          "base_uri": "https://localhost:8080/",
          "height": 476
        },
        "outputId": "7141260b-44eb-4a50-da08-570380c4ada7"
      },
      "source": [
        "def normalization(data):\n",
        "  x = data.values #returns a numpy array\n",
        "  min_max_scaler = preprocessing.MinMaxScaler()\n",
        "  x_scaled = min_max_scaler.fit_transform(x)\n",
        "  datapd = pd.DataFrame(x_scaled)\n",
        "  return datapd\n",
        "\n",
        "\n",
        "kar = normalization(kar)\n",
        "fou = normalization(fou)\n",
        "fac = normalization(fac)\n",
        "\n",
        "print(\"mfeat-kar\")\n",
        "print(kar.shape, kar.head())\n",
        "print(\"mfeat-fou\")\n",
        "print(fou.shape, fou.head())\n",
        "print(\"mfeat-fac\")\n",
        "print(fac.shape, fac.head())"
      ],
      "execution_count": 3,
      "outputs": [
        {
          "output_type": "stream",
          "text": [
            "mfeat-kar\n",
            "(2000, 64)          0         1         2   ...        61        62        63\n",
            "0  0.191173  0.128265  0.889728  ...  0.836661  0.219735  0.433051\n",
            "1  0.354385  0.089040  0.498033  ...  0.618422  0.565718  0.595312\n",
            "2  0.211582  0.289563  0.505851  ...  0.718921  0.597774  0.239905\n",
            "3  0.304303  0.277075  0.633523  ...  0.388613  0.320316  0.549319\n",
            "4  0.179772  0.150561  0.499175  ...  0.587634  0.290560  0.675432\n",
            "\n",
            "[5 rows x 64 columns]\n",
            "mfeat-fou\n",
            "(2000, 76)          0         1         2   ...        73        74        75\n",
            "0  0.155955  0.247037  0.148847  ...  0.628352  0.095886  0.588917\n",
            "1  0.113125  0.219041  0.151407  ...  0.711892  0.162660  0.604874\n",
            "2  0.074823  0.286835  0.156336  ...  0.711485  0.137636  0.444575\n",
            "3  0.146884  0.274150  0.113103  ...  0.651201  0.121489  0.686703\n",
            "4  0.145945  0.248410  0.160085  ...  0.694537  0.133679  0.693673\n",
            "\n",
            "[5 rows x 76 columns]\n",
            "mfeat-fac\n",
            "(2000, 216)         0         1         2    ...       213       214       215\n",
            "0  0.069196  0.320248  0.040576  ...  0.785714  0.500000  0.565217\n",
            "1  0.120536  0.231405  0.140052  ...  0.642857  0.714286  0.478261\n",
            "2  0.107143  0.123967  0.117801  ...  0.714286  0.571429  0.260870\n",
            "3  0.051339  0.084711  0.166230  ...  0.571429  0.714286  0.391304\n",
            "4  0.200893  0.177686  0.236911  ...  0.785714  0.571429  0.565217\n",
            "\n",
            "[5 rows x 216 columns]\n"
          ],
          "name": "stdout"
        }
      ]
    },
    {
      "cell_type": "markdown",
      "metadata": {
        "id": "Jh0iHRhIlQQf",
        "colab_type": "text"
      },
      "source": [
        "# Matriz de dissimilaridade"
      ]
    },
    {
      "cell_type": "code",
      "metadata": {
        "id": "YBg1ZIUskB29",
        "colab_type": "code",
        "colab": {
          "base_uri": "https://localhost:8080/",
          "height": 782
        },
        "outputId": "08a2ca03-ce7e-46cf-a5d7-3067ad6d58fa"
      },
      "source": [
        "def dissimilaridade(data):\n",
        "  pairwise = pd.DataFrame(\n",
        "      squareform(pdist(data)),\n",
        "      columns = data.index,\n",
        "      index = data.index\n",
        "  )\n",
        "  return pairwise\n",
        "\n",
        "# default metric: euclidian distance para a função pdist\n",
        "\n",
        "matriz_kar = dissimilaridade(kar)\n",
        "matriz_fou = dissimilaridade(fou)\n",
        "matriz_fac = dissimilaridade(fac)\n",
        "\n",
        "\n",
        "print(\"mfeat-kar\")\n",
        "print(matriz_kar.shape, matriz_kar)\n",
        "print(\"mfeat-fou\")\n",
        "print(matriz_fou.shape, matriz_fou)\n",
        "print(\"mfeat-fac\")\n",
        "print(matriz_fac.shape, matriz_fac)"
      ],
      "execution_count": 4,
      "outputs": [
        {
          "output_type": "stream",
          "text": [
            "mfeat-kar\n",
            "(2000, 2000)           0         1         2     ...      1997      1998      1999\n",
            "0     0.000000  1.270193  1.397034  ...  1.605476  1.375733  1.655586\n",
            "1     1.270193  0.000000  1.470758  ...  1.616383  1.314507  1.666247\n",
            "2     1.397034  1.470758  0.000000  ...  1.495470  1.353730  1.698088\n",
            "3     1.330976  1.379091  1.438538  ...  1.469890  1.398961  1.585118\n",
            "4     1.333689  1.141953  1.638747  ...  1.773640  1.408295  1.821250\n",
            "...        ...       ...       ...  ...       ...       ...       ...\n",
            "1995  1.589321  1.776687  1.552311  ...  1.389383  1.157987  1.394733\n",
            "1996  1.567723  1.378748  1.741908  ...  1.686252  1.467261  1.342234\n",
            "1997  1.605476  1.616383  1.495470  ...  0.000000  1.246467  1.742059\n",
            "1998  1.375733  1.314507  1.353730  ...  1.246467  0.000000  1.466838\n",
            "1999  1.655586  1.666247  1.698088  ...  1.742059  1.466838  0.000000\n",
            "\n",
            "[2000 rows x 2000 columns]\n",
            "mfeat-fou\n",
            "(2000, 2000)           0         1         2     ...      1997      1998      1999\n",
            "0     0.000000  1.353952  1.308675  ...  2.243905  1.966262  2.135231\n",
            "1     1.353952  0.000000  0.989246  ...  2.653470  2.302680  2.427257\n",
            "2     1.308675  0.989246  0.000000  ...  2.584899  2.295063  2.339336\n",
            "3     1.509073  1.483755  1.554480  ...  2.493053  2.332205  2.156193\n",
            "4     0.950964  1.098226  1.200663  ...  2.398640  2.097823  2.192949\n",
            "...        ...       ...       ...  ...       ...       ...       ...\n",
            "1995  1.934992  2.225521  2.146542  ...  2.009816  1.680042  1.941845\n",
            "1996  2.071977  2.381274  2.346521  ...  2.082268  1.817247  1.825216\n",
            "1997  2.243905  2.653470  2.584899  ...  0.000000  1.836826  2.155979\n",
            "1998  1.966262  2.302680  2.295063  ...  1.836826  0.000000  1.596391\n",
            "1999  2.135231  2.427257  2.339336  ...  2.155979  1.596391  0.000000\n",
            "\n",
            "[2000 rows x 2000 columns]\n",
            "mfeat-fac\n",
            "(2000, 2000)           0         1         2     ...      1997      1998      1999\n",
            "0     0.000000  1.725886  1.869928  ...  4.040457  3.805022  4.600745\n",
            "1     1.725886  0.000000  1.571679  ...  3.680461  3.236586  4.153686\n",
            "2     1.869928  1.571679  0.000000  ...  3.969217  3.423565  4.545220\n",
            "3     1.759965  1.553570  1.616104  ...  3.741590  3.379092  4.255227\n",
            "4     1.645997  1.329155  1.646691  ...  3.692037  3.454330  4.287492\n",
            "...        ...       ...       ...  ...       ...       ...       ...\n",
            "1995  4.160920  3.738831  3.881553  ...  2.129954  1.753430  2.997773\n",
            "1996  4.348320  3.868827  4.203490  ...  2.970610  2.898650  2.449822\n",
            "1997  4.040457  3.680461  3.969217  ...  0.000000  1.899134  2.582854\n",
            "1998  3.805022  3.236586  3.423565  ...  1.899134  0.000000  3.206297\n",
            "1999  4.600745  4.153686  4.545220  ...  2.582854  3.206297  0.000000\n",
            "\n",
            "[2000 rows x 2000 columns]\n"
          ],
          "name": "stdout"
        }
      ]
    },
    {
      "cell_type": "code",
      "metadata": {
        "id": "otvqmMNYxoRE",
        "colab_type": "code",
        "colab": {}
      },
      "source": [
        "## salvando as matrizes\n",
        "\n",
        "matriz_kar.to_csv(os.path.join(dir_remoto,'data/matriz_kar.csv'), sep = \";\")\n",
        "matriz_fou.to_csv(os.path.join(dir_remoto,'data/matriz_fou.csv'), sep = \";\")\n",
        "matriz_fac.to_csv(os.path.join(dir_remoto,'data/matriz_fac.csv'), sep = \";\")\n"
      ],
      "execution_count": 5,
      "outputs": []
    },
    {
      "cell_type": "markdown",
      "metadata": {
        "id": "2ZBvhmmFewBX",
        "colab_type": "text"
      },
      "source": [
        "## Criando classes"
      ]
    },
    {
      "cell_type": "code",
      "metadata": {
        "id": "7XKc3ZCNTq4r",
        "colab_type": "code",
        "colab": {
          "base_uri": "https://localhost:8080/",
          "height": 867
        },
        "outputId": "fbc03c16-48bd-4dcc-adb2-c5f4f165d660"
      },
      "source": [
        "# Criando as classes para cada dataset\n",
        "\n",
        "finais = []\n",
        "for i in [kar, fou, fac]:\n",
        "  # Separando as classes\n",
        "  c_200 = i[0:200]\n",
        "  c_400 = i[200:400]\n",
        "  c_600 = i[400:600]\n",
        "  c_800 = i[600:800]\n",
        "  c_1000 = i[800:1000]\n",
        "  c_1200 = i[1000:1200]\n",
        "  c_1400 = i[1200:1400]\n",
        "  c_1600 = i[1400:1600]\n",
        "  c_1800 = i[1600:1800]\n",
        "  c_2000 = i[1800:2000]\n",
        "\n",
        "  # Atribuindo as classes\n",
        "  c_200[\"class\"] = 0\n",
        "  c_400[\"class\"] = 1\n",
        "  c_600[\"class\"] = 2\n",
        "  c_800[\"class\"] = 3\n",
        "  c_1000[\"class\"] = 4\n",
        "  c_1200[\"class\"] = 5\n",
        "  c_1400[\"class\"] = 6\n",
        "  c_1600[\"class\"] = 7\n",
        "  c_1800[\"class\"] = 8\n",
        "  c_2000[\"class\"] = 9\n",
        "\n",
        "  # juntando o dataset novamente\n",
        "  lista_datasets = [c_400,c_600,c_800,c_1000,c_1200,c_1400,c_1600,c_1800,c_2000]\n",
        "  final = c_200\n",
        "  for j in lista_datasets:\n",
        "    final = final.append(j)\n",
        " # salvando datasets finais\n",
        "  finais.append(final)\n",
        "\n",
        "kar_final = finais[0]\n",
        "fou_final = finais[1]\n",
        "fac_final = finais[2]"
      ],
      "execution_count": 6,
      "outputs": [
        {
          "output_type": "stream",
          "text": [
            "/usr/local/lib/python3.6/dist-packages/ipykernel_launcher.py:18: SettingWithCopyWarning: \n",
            "A value is trying to be set on a copy of a slice from a DataFrame.\n",
            "Try using .loc[row_indexer,col_indexer] = value instead\n",
            "\n",
            "See the caveats in the documentation: https://pandas.pydata.org/pandas-docs/stable/user_guide/indexing.html#returning-a-view-versus-a-copy\n",
            "/usr/local/lib/python3.6/dist-packages/ipykernel_launcher.py:19: SettingWithCopyWarning: \n",
            "A value is trying to be set on a copy of a slice from a DataFrame.\n",
            "Try using .loc[row_indexer,col_indexer] = value instead\n",
            "\n",
            "See the caveats in the documentation: https://pandas.pydata.org/pandas-docs/stable/user_guide/indexing.html#returning-a-view-versus-a-copy\n",
            "/usr/local/lib/python3.6/dist-packages/ipykernel_launcher.py:20: SettingWithCopyWarning: \n",
            "A value is trying to be set on a copy of a slice from a DataFrame.\n",
            "Try using .loc[row_indexer,col_indexer] = value instead\n",
            "\n",
            "See the caveats in the documentation: https://pandas.pydata.org/pandas-docs/stable/user_guide/indexing.html#returning-a-view-versus-a-copy\n",
            "/usr/local/lib/python3.6/dist-packages/ipykernel_launcher.py:21: SettingWithCopyWarning: \n",
            "A value is trying to be set on a copy of a slice from a DataFrame.\n",
            "Try using .loc[row_indexer,col_indexer] = value instead\n",
            "\n",
            "See the caveats in the documentation: https://pandas.pydata.org/pandas-docs/stable/user_guide/indexing.html#returning-a-view-versus-a-copy\n",
            "/usr/local/lib/python3.6/dist-packages/ipykernel_launcher.py:22: SettingWithCopyWarning: \n",
            "A value is trying to be set on a copy of a slice from a DataFrame.\n",
            "Try using .loc[row_indexer,col_indexer] = value instead\n",
            "\n",
            "See the caveats in the documentation: https://pandas.pydata.org/pandas-docs/stable/user_guide/indexing.html#returning-a-view-versus-a-copy\n",
            "/usr/local/lib/python3.6/dist-packages/ipykernel_launcher.py:23: SettingWithCopyWarning: \n",
            "A value is trying to be set on a copy of a slice from a DataFrame.\n",
            "Try using .loc[row_indexer,col_indexer] = value instead\n",
            "\n",
            "See the caveats in the documentation: https://pandas.pydata.org/pandas-docs/stable/user_guide/indexing.html#returning-a-view-versus-a-copy\n",
            "/usr/local/lib/python3.6/dist-packages/ipykernel_launcher.py:24: SettingWithCopyWarning: \n",
            "A value is trying to be set on a copy of a slice from a DataFrame.\n",
            "Try using .loc[row_indexer,col_indexer] = value instead\n",
            "\n",
            "See the caveats in the documentation: https://pandas.pydata.org/pandas-docs/stable/user_guide/indexing.html#returning-a-view-versus-a-copy\n",
            "/usr/local/lib/python3.6/dist-packages/ipykernel_launcher.py:25: SettingWithCopyWarning: \n",
            "A value is trying to be set on a copy of a slice from a DataFrame.\n",
            "Try using .loc[row_indexer,col_indexer] = value instead\n",
            "\n",
            "See the caveats in the documentation: https://pandas.pydata.org/pandas-docs/stable/user_guide/indexing.html#returning-a-view-versus-a-copy\n",
            "/usr/local/lib/python3.6/dist-packages/ipykernel_launcher.py:26: SettingWithCopyWarning: \n",
            "A value is trying to be set on a copy of a slice from a DataFrame.\n",
            "Try using .loc[row_indexer,col_indexer] = value instead\n",
            "\n",
            "See the caveats in the documentation: https://pandas.pydata.org/pandas-docs/stable/user_guide/indexing.html#returning-a-view-versus-a-copy\n",
            "/usr/local/lib/python3.6/dist-packages/ipykernel_launcher.py:27: SettingWithCopyWarning: \n",
            "A value is trying to be set on a copy of a slice from a DataFrame.\n",
            "Try using .loc[row_indexer,col_indexer] = value instead\n",
            "\n",
            "See the caveats in the documentation: https://pandas.pydata.org/pandas-docs/stable/user_guide/indexing.html#returning-a-view-versus-a-copy\n"
          ],
          "name": "stderr"
        }
      ]
    },
    {
      "cell_type": "code",
      "metadata": {
        "id": "TETVjoOZa5RM",
        "colab_type": "code",
        "colab": {
          "base_uri": "https://localhost:8080/",
          "height": 476
        },
        "outputId": "2754b859-c195-4bed-e9fd-7600fdf0b616"
      },
      "source": [
        "print(\"mfeat-kar\")\n",
        "print(kar_final.shape, kar_final.head())\n",
        "print(\"mfeat-fou\")\n",
        "print(fou_final.shape, fou_final.head())\n",
        "print(\"mfeat-fac\")\n",
        "print(fac_final.shape, fac_final.head())"
      ],
      "execution_count": 7,
      "outputs": [
        {
          "output_type": "stream",
          "text": [
            "mfeat-kar\n",
            "(2000, 65)           0         1         2         3  ...        61        62        63  class\n",
            "0  0.191173  0.128265  0.889728  0.392640  ...  0.836661  0.219735  0.433051      0\n",
            "1  0.354385  0.089040  0.498033  0.478535  ...  0.618422  0.565718  0.595312      0\n",
            "2  0.211582  0.289563  0.505851  0.404323  ...  0.718921  0.597774  0.239905      0\n",
            "3  0.304303  0.277075  0.633523  0.384240  ...  0.388613  0.320316  0.549319      0\n",
            "4  0.179772  0.150561  0.499175  0.474083  ...  0.587634  0.290560  0.675432      0\n",
            "\n",
            "[5 rows x 65 columns]\n",
            "mfeat-fou\n",
            "(2000, 77)           0         1         2         3  ...        73        74        75  class\n",
            "0  0.155955  0.247037  0.148847  0.352688  ...  0.628352  0.095886  0.588917      0\n",
            "1  0.113125  0.219041  0.151407  0.294052  ...  0.711892  0.162660  0.604874      0\n",
            "2  0.074823  0.286835  0.156336  0.159348  ...  0.711485  0.137636  0.444575      0\n",
            "3  0.146884  0.274150  0.113103  0.378748  ...  0.651201  0.121489  0.686703      0\n",
            "4  0.145945  0.248410  0.160085  0.329783  ...  0.694537  0.133679  0.693673      0\n",
            "\n",
            "[5 rows x 77 columns]\n",
            "mfeat-fac\n",
            "(2000, 217)           0         1         2         3  ...       213       214       215  class\n",
            "0  0.069196  0.320248  0.040576  0.219966  ...  0.785714  0.500000  0.565217      0\n",
            "1  0.120536  0.231405  0.140052  0.115059  ...  0.642857  0.714286  0.478261      0\n",
            "2  0.107143  0.123967  0.117801  0.104907  ...  0.714286  0.571429  0.260870      0\n",
            "3  0.051339  0.084711  0.166230  0.252115  ...  0.571429  0.714286  0.391304      0\n",
            "4  0.200893  0.177686  0.236911  0.208122  ...  0.785714  0.571429  0.565217      0\n",
            "\n",
            "[5 rows x 217 columns]\n"
          ],
          "name": "stdout"
        }
      ]
    }
  ]
}