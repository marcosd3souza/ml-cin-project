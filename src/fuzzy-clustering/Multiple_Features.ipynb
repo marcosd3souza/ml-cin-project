{
  "nbformat": 4,
  "nbformat_minor": 0,
  "metadata": {
    "colab": {
      "name": "Multiple_Features",
      "provenance": [],
      "collapsed_sections": []
    },
    "kernelspec": {
      "name": "python3",
      "display_name": "Python 3"
    }
  },
  "cells": [
    {
      "cell_type": "markdown",
      "metadata": {
        "id": "QLxyrIPbzEx4",
        "colab_type": "text"
      },
      "source": [
        "Normalize os dados e compute 3 matrizes de dissimilaridade (uma para cada tabela de dados mfeat-fac (VIEW1), mfeat-fou (VIEW2), mfeat-kar (VIEW3)) usando a distancia Euclidiana.\n",
        "Execute o algoritmo \"Partitioning fuzzy K-medoids clustering algorithms with relevance weight for each dissimilarity matrix estimated locally\" 100 vezes para obter uma partição fuzzy em 10 grupos e selecione o melhor resultado segundo a função objetivo, considerando os seguintes casos: i) simultaneamente nessas 3 matrizes de dissimilaridade; ii) em cada uma delas individualmente."
      ]
    },
    {
      "cell_type": "code",
      "metadata": {
        "id": "Uz7PLUQuJpx3",
        "colab_type": "code",
        "colab": {}
      },
      "source": [
        "# imports\n",
        "import numpy as np\n",
        "import pandas as pd\n",
        "import matplotlib.pyplot as plt\n",
        "import cv2\n",
        "from google.colab import drive\n",
        "import argparse\n",
        "import sys,os\n",
        "from sklearn import preprocessing\n",
        "from scipy.spatial.distance import pdist\n",
        "from scipy.spatial.distance import squareform\n",
        "import random"
      ],
      "execution_count": 1,
      "outputs": []
    },
    {
      "cell_type": "code",
      "metadata": {
        "id": "7HPaIUl7_KJ4",
        "colab_type": "code",
        "colab": {
          "base_uri": "https://localhost:8080/",
          "height": 476
        },
        "outputId": "701eb3db-7d13-4eda-aaa6-cbde09a6b54f"
      },
      "source": [
        "dir_remoto = \"/content/drive/My Drive/\"\n",
        "dir_local = os.getcwd() # path para rodar em máquina local ao invés do colab\n",
        "\n",
        "kar = pd.read_csv(os.path.join(dir_remoto,'data/mfeat-kar'),  delim_whitespace=True, header= None)\n",
        "fou = pd.read_csv(os.path.join(dir_remoto,'data/mfeat-fou'),  delim_whitespace=True, header= None)\n",
        "fac = pd.read_csv(os.path.join(dir_remoto,'data/mfeat-fac'),  delim_whitespace=True, header= None)\n",
        "\n",
        "print(\"mfeat-kar\")\n",
        "print(kar.shape, kar.head())\n",
        "print(\"mfeat-fou\")\n",
        "print(fou.shape, fou.head())\n",
        "print(\"mfeat-fac\")\n",
        "print(fac.shape, fac.head())"
      ],
      "execution_count": 2,
      "outputs": [
        {
          "output_type": "stream",
          "text": [
            "mfeat-kar\n",
            "(2000, 64)           0          1          2   ...        61        62        63\n",
            "0 -10.297008 -11.666789  11.560669  ...  1.814691 -1.351353 -0.473910\n",
            "1  -5.036009 -12.885333   0.161155  ...  0.485792  0.642451  0.613107\n",
            "2  -9.639157  -6.655898   0.388687  ...  1.097748  0.827182 -1.767840\n",
            "3  -6.650375  -7.043851   4.104350  ... -0.913552 -0.771735  0.304992\n",
            "4 -10.664524 -10.974133   0.194391  ...  0.298318 -0.943213  1.149847\n",
            "\n",
            "[5 rows x 64 columns]\n",
            "mfeat-fou\n",
            "(2000, 76)          0         1         2   ...        73        74        75\n",
            "0  0.065882  0.197312  0.103826  ...  0.394366  0.049971  0.344871\n",
            "1  0.049142  0.175971  0.105515  ...  0.445277  0.083978  0.354092\n",
            "2  0.034172  0.227649  0.108766  ...  0.445029  0.071234  0.261465\n",
            "3  0.062336  0.217979  0.080243  ...  0.408291  0.063010  0.401376\n",
            "4  0.061970  0.198358  0.111239  ...  0.434701  0.069218  0.405403\n",
            "\n",
            "[5 rows x 76 columns]\n",
            "mfeat-fac\n",
            "(2000, 216)    0    1    2    3    4    5    6    ...  209  210  211  212  213  214  215\n",
            "0   98  236  531  673  607  647    2  ...  632   18   36    8   15   12   13\n",
            "1  121  193  607  611  585  665    7  ...  634   15   32   11   13   15   11\n",
            "2  115  141  590  605  557  627   12  ...  656   20   35   16   14   13    6\n",
            "3   90  122  627  692  607  642    0  ...  621   16   35    7   12   15    9\n",
            "4  157  167  681  666  587  666    8  ...  653   16   35   10   15   13   13\n",
            "\n",
            "[5 rows x 216 columns]\n"
          ],
          "name": "stdout"
        }
      ]
    },
    {
      "cell_type": "markdown",
      "metadata": {
        "id": "wfzQU6Ek_Qhm",
        "colab_type": "text"
      },
      "source": [
        "# **Normalizando os Dados**"
      ]
    },
    {
      "cell_type": "code",
      "metadata": {
        "id": "7HnoDIhS_URS",
        "colab_type": "code",
        "colab": {
          "base_uri": "https://localhost:8080/",
          "height": 476
        },
        "outputId": "740832a9-b25c-49b2-b4e5-f66210c70e68"
      },
      "source": [
        "def normalization(data):\n",
        "  x = data.values #returns a numpy array\n",
        "  min_max_scaler = preprocessing.MinMaxScaler()\n",
        "  x_scaled = min_max_scaler.fit_transform(x)\n",
        "  datapd = pd.DataFrame(x_scaled)\n",
        "  return datapd\n",
        "\n",
        "kar = normalization(kar)\n",
        "fou = normalization(fou)\n",
        "fac = normalization(fac)\n",
        "\n",
        "print(\"mfeat-kar\")\n",
        "print(kar.shape, kar.head())\n",
        "print(\"mfeat-fou\")\n",
        "print(fou.shape, fou.head())\n",
        "print(\"mfeat-fac\")\n",
        "print(fac.shape, fac.head())"
      ],
      "execution_count": 3,
      "outputs": [
        {
          "output_type": "stream",
          "text": [
            "mfeat-kar\n",
            "(2000, 64)          0         1         2   ...        61        62        63\n",
            "0  0.191173  0.128265  0.889728  ...  0.836661  0.219735  0.433051\n",
            "1  0.354385  0.089040  0.498033  ...  0.618422  0.565718  0.595312\n",
            "2  0.211582  0.289563  0.505851  ...  0.718921  0.597774  0.239905\n",
            "3  0.304303  0.277075  0.633523  ...  0.388613  0.320316  0.549319\n",
            "4  0.179772  0.150561  0.499175  ...  0.587634  0.290560  0.675432\n",
            "\n",
            "[5 rows x 64 columns]\n",
            "mfeat-fou\n",
            "(2000, 76)          0         1         2   ...        73        74        75\n",
            "0  0.155955  0.247037  0.148847  ...  0.628352  0.095886  0.588917\n",
            "1  0.113125  0.219041  0.151407  ...  0.711892  0.162660  0.604874\n",
            "2  0.074823  0.286835  0.156336  ...  0.711485  0.137636  0.444575\n",
            "3  0.146884  0.274150  0.113103  ...  0.651201  0.121489  0.686703\n",
            "4  0.145945  0.248410  0.160085  ...  0.694537  0.133679  0.693673\n",
            "\n",
            "[5 rows x 76 columns]\n",
            "mfeat-fac\n",
            "(2000, 216)         0         1         2    ...       213       214       215\n",
            "0  0.069196  0.320248  0.040576  ...  0.785714  0.500000  0.565217\n",
            "1  0.120536  0.231405  0.140052  ...  0.642857  0.714286  0.478261\n",
            "2  0.107143  0.123967  0.117801  ...  0.714286  0.571429  0.260870\n",
            "3  0.051339  0.084711  0.166230  ...  0.571429  0.714286  0.391304\n",
            "4  0.200893  0.177686  0.236911  ...  0.785714  0.571429  0.565217\n",
            "\n",
            "[5 rows x 216 columns]\n"
          ],
          "name": "stdout"
        }
      ]
    },
    {
      "cell_type": "markdown",
      "metadata": {
        "id": "Zpoiuykf_ajC",
        "colab_type": "text"
      },
      "source": [
        "# **Matriz de Dissimilaridade**"
      ]
    },
    {
      "cell_type": "code",
      "metadata": {
        "id": "zD4Nt2AG_XFV",
        "colab_type": "code",
        "colab": {
          "base_uri": "https://localhost:8080/",
          "height": 782
        },
        "outputId": "37b65a50-e2b3-4d67-80c4-a17d80a55c63"
      },
      "source": [
        "\n",
        "def dissimilaridade(data):\n",
        "  pairwise = pd.DataFrame(squareform(pdist(data)),columns = data.index,index = data.index)\n",
        "  return pairwise\n",
        "\n",
        "# default metric: euclidian distance para a função pdist\n",
        "\n",
        "matriz_kar = dissimilaridade(kar)\n",
        "matriz_fou = dissimilaridade(fou)\n",
        "matriz_fac = dissimilaridade(fac)\n",
        "\n",
        "\n",
        "print(\"mfeat-kar\")\n",
        "print(matriz_kar.shape, matriz_kar)\n",
        "print(\"mfeat-fou\")\n",
        "print(matriz_fou.shape, matriz_fou)\n",
        "print(\"mfeat-fac\")\n",
        "print(matriz_fac.shape, matriz_fac)"
      ],
      "execution_count": 4,
      "outputs": [
        {
          "output_type": "stream",
          "text": [
            "mfeat-kar\n",
            "(2000, 2000)           0         1         2     ...      1997      1998      1999\n",
            "0     0.000000  1.270193  1.397034  ...  1.605476  1.375733  1.655586\n",
            "1     1.270193  0.000000  1.470758  ...  1.616383  1.314507  1.666247\n",
            "2     1.397034  1.470758  0.000000  ...  1.495470  1.353730  1.698088\n",
            "3     1.330976  1.379091  1.438538  ...  1.469890  1.398961  1.585118\n",
            "4     1.333689  1.141953  1.638747  ...  1.773640  1.408295  1.821250\n",
            "...        ...       ...       ...  ...       ...       ...       ...\n",
            "1995  1.589321  1.776687  1.552311  ...  1.389383  1.157987  1.394733\n",
            "1996  1.567723  1.378748  1.741908  ...  1.686252  1.467261  1.342234\n",
            "1997  1.605476  1.616383  1.495470  ...  0.000000  1.246467  1.742059\n",
            "1998  1.375733  1.314507  1.353730  ...  1.246467  0.000000  1.466838\n",
            "1999  1.655586  1.666247  1.698088  ...  1.742059  1.466838  0.000000\n",
            "\n",
            "[2000 rows x 2000 columns]\n",
            "mfeat-fou\n",
            "(2000, 2000)           0         1         2     ...      1997      1998      1999\n",
            "0     0.000000  1.353952  1.308675  ...  2.243905  1.966262  2.135231\n",
            "1     1.353952  0.000000  0.989246  ...  2.653470  2.302680  2.427257\n",
            "2     1.308675  0.989246  0.000000  ...  2.584899  2.295063  2.339336\n",
            "3     1.509073  1.483755  1.554480  ...  2.493053  2.332205  2.156193\n",
            "4     0.950964  1.098226  1.200663  ...  2.398640  2.097823  2.192949\n",
            "...        ...       ...       ...  ...       ...       ...       ...\n",
            "1995  1.934992  2.225521  2.146542  ...  2.009816  1.680042  1.941845\n",
            "1996  2.071977  2.381274  2.346521  ...  2.082268  1.817247  1.825216\n",
            "1997  2.243905  2.653470  2.584899  ...  0.000000  1.836826  2.155979\n",
            "1998  1.966262  2.302680  2.295063  ...  1.836826  0.000000  1.596391\n",
            "1999  2.135231  2.427257  2.339336  ...  2.155979  1.596391  0.000000\n",
            "\n",
            "[2000 rows x 2000 columns]\n",
            "mfeat-fac\n",
            "(2000, 2000)           0         1         2     ...      1997      1998      1999\n",
            "0     0.000000  1.725886  1.869928  ...  4.040457  3.805022  4.600745\n",
            "1     1.725886  0.000000  1.571679  ...  3.680461  3.236586  4.153686\n",
            "2     1.869928  1.571679  0.000000  ...  3.969217  3.423565  4.545220\n",
            "3     1.759965  1.553570  1.616104  ...  3.741590  3.379092  4.255227\n",
            "4     1.645997  1.329155  1.646691  ...  3.692037  3.454330  4.287492\n",
            "...        ...       ...       ...  ...       ...       ...       ...\n",
            "1995  4.160920  3.738831  3.881553  ...  2.129954  1.753430  2.997773\n",
            "1996  4.348320  3.868827  4.203490  ...  2.970610  2.898650  2.449822\n",
            "1997  4.040457  3.680461  3.969217  ...  0.000000  1.899134  2.582854\n",
            "1998  3.805022  3.236586  3.423565  ...  1.899134  0.000000  3.206297\n",
            "1999  4.600745  4.153686  4.545220  ...  2.582854  3.206297  0.000000\n",
            "\n",
            "[2000 rows x 2000 columns]\n"
          ],
          "name": "stdout"
        }
      ]
    },
    {
      "cell_type": "code",
      "metadata": {
        "id": "v0a7YpEW_jUx",
        "colab_type": "code",
        "colab": {}
      },
      "source": [
        "## salvando as matrizes\n",
        "#matriz_kar.to_csv(os.path.join('data/matriz_kar.csv'), sep = \";\")\n",
        "#matriz_fou.to_csv(os.path.join('data/matriz_fou.csv'), sep = \";\")\n",
        "#matriz_fac.to_csv(os.path.join('data/matriz_fac.csv'), sep = \";\")"
      ],
      "execution_count": 5,
      "outputs": []
    },
    {
      "cell_type": "code",
      "metadata": {
        "id": "XTp_Vea0ERyw",
        "colab_type": "code",
        "colab": {}
      },
      "source": [
        "# PARÂMETROS INICIAIS\n",
        "\n",
        "K = 10 # Número de classes\n",
        "N = 2000 # Número de objetos\n",
        "t = 0 # tempo inicial\n",
        "m = 1.6 # valor m \n",
        "T = 10 # Número máximo de rodadas\n",
        "e = 1e-10 # Erro permissível\n",
        "s = 1 # valor s \n",
        "q = 2 # cardinalidade q"
      ],
      "execution_count": 6,
      "outputs": []
    },
    {
      "cell_type": "code",
      "metadata": {
        "id": "kQ501IXMhL_F",
        "colab_type": "code",
        "colab": {
          "base_uri": "https://localhost:8080/",
          "height": 255
        },
        "outputId": "5e2d7979-7fa5-4085-9153-8ff53322a644"
      },
      "source": [
        "# Criar a matriz de dissimilaridade com P visoões\n",
        "#dj = matriz_kar # Matriz Kar\n",
        "di = matriz_fou # Matriz Fou\n",
        "#dz = matriz_fac # Matriz Fac\n",
        "Dj = [[0]] # Cria-se uma matriz nula\n",
        "Dj[0] = di # Acrescenta na posição 0, a matriz\n",
        "#Dj[1] = di # Acrescenta na posição 1, a matriz Fou\n",
        "#Dj[2] = dz # Acrescenta na posição 2, a matriz Fac\n",
        "print(Dj)"
      ],
      "execution_count": 7,
      "outputs": [
        {
          "output_type": "stream",
          "text": [
            "[          0         1         2     ...      1997      1998      1999\n",
            "0     0.000000  1.353952  1.308675  ...  2.243905  1.966262  2.135231\n",
            "1     1.353952  0.000000  0.989246  ...  2.653470  2.302680  2.427257\n",
            "2     1.308675  0.989246  0.000000  ...  2.584899  2.295063  2.339336\n",
            "3     1.509073  1.483755  1.554480  ...  2.493053  2.332205  2.156193\n",
            "4     0.950964  1.098226  1.200663  ...  2.398640  2.097823  2.192949\n",
            "...        ...       ...       ...  ...       ...       ...       ...\n",
            "1995  1.934992  2.225521  2.146542  ...  2.009816  1.680042  1.941845\n",
            "1996  2.071977  2.381274  2.346521  ...  2.082268  1.817247  1.825216\n",
            "1997  2.243905  2.653470  2.584899  ...  0.000000  1.836826  2.155979\n",
            "1998  1.966262  2.302680  2.295063  ...  1.836826  0.000000  1.596391\n",
            "1999  2.135231  2.427257  2.339336  ...  2.155979  1.596391  0.000000\n",
            "\n",
            "[2000 rows x 2000 columns]]\n"
          ],
          "name": "stdout"
        }
      ]
    },
    {
      "cell_type": "code",
      "metadata": {
        "id": "vNp1-s_MhfSj",
        "colab_type": "code",
        "colab": {
          "base_uri": "https://localhost:8080/",
          "height": 323
        },
        "outputId": "97096278-729b-44e0-9c8d-e95d1d1ea708"
      },
      "source": [
        "P = len(Dj) # Número de Partições Fuzzy\n",
        "print(P)\n",
        "\n",
        "# Matriz V de vetores de pesos de relevância\n",
        "v = np.arange(K*P)  \n",
        "v = v.reshape((K, P))\n",
        "v = np.ones_like(v, dtype=float) # Inicialmente é igual a 1 para todo v_kj\n",
        "print('v =',v)\n",
        "\n",
        "# Matriz U (dimensão NxK)\n",
        "U = np.arange(N*K) \n",
        "U = U.reshape((N, K))\n",
        "U = np.zeros_like(U, dtype=float) # Inicialmente é igual a 0 para todo U_ik\n",
        "print('U =',U)\n"
      ],
      "execution_count": 8,
      "outputs": [
        {
          "output_type": "stream",
          "text": [
            "1\n",
            "v = [[1.]\n",
            " [1.]\n",
            " [1.]\n",
            " [1.]\n",
            " [1.]\n",
            " [1.]\n",
            " [1.]\n",
            " [1.]\n",
            " [1.]\n",
            " [1.]]\n",
            "U = [[0. 0. 0. ... 0. 0. 0.]\n",
            " [0. 0. 0. ... 0. 0. 0.]\n",
            " [0. 0. 0. ... 0. 0. 0.]\n",
            " ...\n",
            " [0. 0. 0. ... 0. 0. 0.]\n",
            " [0. 0. 0. ... 0. 0. 0.]\n",
            " [0. 0. 0. ... 0. 0. 0.]]\n"
          ],
          "name": "stdout"
        }
      ]
    },
    {
      "cell_type": "code",
      "metadata": {
        "id": "JELp_-rJiPCb",
        "colab_type": "code",
        "colab": {}
      },
      "source": [
        "# Função de Adequação \"J\" (Equações: 06 e 07)\n",
        "def FMatching(ki, ii): # Equação 07\n",
        "  vkj1 = 0\n",
        "  for j in range(0,P):\n",
        "    dj1 = 0\n",
        "    for e in G[ki]:\n",
        "      dj1 += Dj[j][ii][e-1]\n",
        "    vkj1 += dj1 * v[ki][j]\n",
        "  return vkj1\n",
        "\n",
        "def fitnessFunction(): # Equação 06\n",
        "  J = 0\n",
        "  for i in range(0, N):\n",
        "    for j in range(0, K):\n",
        "      J += ((U[i][j])**m) * FMatching(j, i)\n",
        "  return J\n",
        "\n",
        "# Etapa 1: Cálculo dos melhores protótipos (Procedimento 2.3):\n",
        "# A partição Fuzzy U e o vetor de vetores de pesos de relevância V_k são fixos\n",
        "def argumentos(ki, hi): # Essa função vai retornar o calculo dos somatórios para o k-ésimo cluster e o h-éssimo argumento.\n",
        "  L = 0\n",
        "  somaUVD = 0\n",
        "  for i in range(0, N):\n",
        "    somaVD = 0\n",
        "    for j in range(0, P):\n",
        "       somaVD += ((v[ki][j])**s) * Dj[j][i][hi] # Não ficou tão claro na função, se ele soma também cada matriz de dissimilaridade Dj para as p visões diferentes\n",
        "    somaUVD += ((U[i][ki])**m) * somaVD\n",
        "  L += somaUVD\n",
        "  return L\n",
        "\n",
        "def Arg():\n",
        "  mat = []\n",
        "  for k in range(0, K):\n",
        "    G_in = []  # Para armazenar os argumentos internos de cada k\n",
        "    for h in range(0, N):\n",
        "      G_in.append(argumentos(k, h))\n",
        "    mat.append(G_in)\n",
        "  return mat   # Retorna a matriz (NxK) com todos os argumentos calculados\n",
        "\n",
        "def prototype(matrixArgumentos, cluster, G_verificação):\n",
        "  G_out = [] # Para armazenar os prototipos para todos os K cluster\n",
        "  L = np.argmin(matrixArgumentos[cluster], axis=0)\n",
        "  while len(G_out) == 0:\n",
        "    if (L+1) not in G_verificação:\n",
        "      G_out.append(L+1)\n",
        "    else:\n",
        "      matrixArgumentos[cluster][L] = 1000000000000\n",
        "      L = np.argmin(matrixArgumentos[cluster], axis=0)\n",
        "  return G_out[0]\n",
        "\n",
        "#Etapa 2: Cálculo do melhor vetor de pesos de relevância das visões nos grupos (Equação 09)\n",
        "# Partição Fuzzy U e vetor de representantes G fixos!\n",
        "def relevanceWeights(ki, ji):\n",
        "  prodUP = 1\n",
        "  for h in range(0, P):\n",
        "    uik2 = 0\n",
        "    for i in range(0,N):\n",
        "      DjUp2 = 0\n",
        "      for e in G[ki]:\n",
        "        DjUp2 += Dj[h][i][(e)-1]\n",
        "      uik2 += ((U[i][ki])**m) * DjUp2\n",
        "    prodUP *= uik2\n",
        "  DjUDown2 = 0\n",
        "  for i in range(0,N):\n",
        "    DjDown2 = 0\n",
        "    for e in G[ki]:\n",
        "      DjDown2 += Dj[ji][i][(e)-1]\n",
        "    DjUDown2 += ((U[i][ki])**m) * DjDown2 \n",
        "  resultado = (prodUP**(1/P))/(DjUDown2)\n",
        "  return resultado\n",
        "\n",
        "# Etapa 3: Definição da Melhor Partição Fuzzy (Equação 11)\n",
        "# Vetores de representantes G e vetores dos pesos V são fixos!\n",
        "# Q maior do que 1\n",
        "def fuzzyPartition(ii, ki, s):\n",
        "  total3 = 0\n",
        "  soma3 = 0\n",
        "  for h in range(0,K):\n",
        "    vikUP3 = 0\n",
        "    for j in range(0,P):\n",
        "      djUP3 = 0\n",
        "      for e in G[ki]:\n",
        "        djUP3 += Dj[j][ii][(e)-1]\n",
        "      vikUP3 += (v[ki][j]**s) * djUP3\n",
        "    vikDown3 = 0\n",
        "    for j in range(0,P):\n",
        "      djDown3 = 0\n",
        "      for e in G[h]:\n",
        "        djDown3 += Dj[j][ii][(e)-1]\n",
        "      vikDown3 += (v[h][j]**s) * djDown3\n",
        "    soma3 += (vikUP3/vikDown3)**(1/(m-1))\n",
        "  total3 = (soma3**(-1))\n",
        "  return total3"
      ],
      "execution_count": 9,
      "outputs": []
    },
    {
      "cell_type": "code",
      "metadata": {
        "id": "J0ke48zg7Efs",
        "colab_type": "code",
        "colab": {
          "base_uri": "https://localhost:8080/",
          "height": 34
        },
        "outputId": "ea395327-7afa-40a5-8382-b408511335b7"
      },
      "source": [
        "# Escolher um melhor de N rodadas\n",
        "J_lista = [] # A lista de soluções J inicia com números com diferença bem alta\n",
        "Cluster = []\n",
        "rod = 0 # rodada inicial\n",
        "rodada = 10 # rodada final\n",
        "# Matriz de representantes Gk para cada cluster k\n",
        "while rod < rodada:\n",
        "  rod += 1\n",
        "  G = []\n",
        "  check_list = []\n",
        "  for c in range(0,K):\n",
        "    G_i = []\n",
        "    while len(G_i) < q:\n",
        "      num = random.randint(1,N)\n",
        "      if num not in check_list:\n",
        "        G_i.append(num)\n",
        "        check_list.append(num)\n",
        "    G.append(G_i)\n",
        "  Cluster.append(G)\n",
        "  #print('G(t=0)=',G)\n",
        "  # Para o grau de pertinência Uik inicial.\n",
        "  for i in range(0,N):\n",
        "    for k in range(0,K):\n",
        "      U[i][k] = fuzzyPartition(i, k, s)\n",
        "  J_lista.append(fitnessFunction()) # Etapa Inicial para o J(0)\n",
        "\n",
        "menor = np.argmin(J_lista)\n",
        "print(menor)"
      ],
      "execution_count": 10,
      "outputs": [
        {
          "output_type": "stream",
          "text": [
            "2\n"
          ],
          "name": "stdout"
        }
      ]
    },
    {
      "cell_type": "code",
      "metadata": {
        "id": "rGPJkraPjCkC",
        "colab_type": "code",
        "colab": {
          "base_uri": "https://localhost:8080/",
          "height": 782
        },
        "outputId": "8b470b27-8eb0-4184-97f1-d4327742f917"
      },
      "source": [
        "import time\n",
        "inicio=time.time()\n",
        "\n",
        "# Algoritmo, união de todas as etapas:\n",
        "\n",
        "#1) Inicialização\n",
        "Jt = [10000000] # A lista de soluções J inicia com números com diferença bem alta\n",
        "t = 0 # tempo inicial\n",
        "# Matriz de representantes Gk para cada cluster k\n",
        "G = Cluster[menor]\n",
        "print('G(t=0)=',G)\n",
        "print('')\n",
        "# Para o grau de pertinência Uik inicial.\n",
        "for i in range(0,N):\n",
        "  for k in range(0,K):\n",
        "    U[i][k] = fuzzyPartition(i, k, s)\n",
        "print(\"U_ij (t=0)\", U) # A matriz com a Partição Fuzzy calculada na Inicialização\n",
        "print('')\n",
        "Jt.append(fitnessFunction()) # Etapa Inicial para o J(0)\n",
        "print(\"J(t=0)\", Jt[-1])\n",
        "print('')\n",
        "parada = True\n",
        "while parada == True:\n",
        "  if ((Jt[-2]-Jt[-1]) > e) and (t < T):\n",
        "    t += 1\n",
        "    #2) Etapa 1:\n",
        "    G_verificação = []  # Uma lista para armazenar todos os protótipos de G e servir para verificar se o elemento eL já está na lista\n",
        "    matrixArgumentos = np.array(Arg())\n",
        "    #print(\"matrixArgumentos:\", matrixArgumentos)\n",
        "    for cluster in range(0,K):\n",
        "      eL = []\n",
        "      while len(eL) < q:\n",
        "        eL.append(prototype(matrixArgumentos, cluster, G_verificação))\n",
        "        if len(eL) == 1:\n",
        "          G_verificação.append(eL[0])\n",
        "        elif len(eL) == 2:\n",
        "          G_verificação.append(eL[1])\n",
        "      G[cluster] = eL\n",
        "    print(\"G:\",G)\n",
        "\n",
        "    #3) Etapa 2:\n",
        "    for k in range(0, K):\n",
        "      for j in range(0, P):\n",
        "        v[k][j] = relevanceWeights(k, j) \n",
        "    \n",
        "    #4) Etapa 3:\n",
        "    for i in range(0,N):\n",
        "      for k in range(0,K):\n",
        "        U[i][k] = fuzzyPartition(i, k, s)\n",
        "\n",
        "    #5) Critério de parada:\n",
        "    Jt.append(fitnessFunction())\n",
        "    print(\"ERRO\", abs(Jt[-1]-Jt[-2]))\n",
        "    print(\"t = %.f e J(t) = %.10f\" %(t, Jt[-1]))\n",
        "    print('')\n",
        "    #print(\"U = \",U)\n",
        "    #print(\"V = \",v)\n",
        "  else:\n",
        "    parada = False\n",
        "    print(\"FIM do algoritmo\")\n",
        "\n",
        "print(\"J: \",Jt[-1])\n",
        "print(\"G = \",G)\n",
        "print(\"U = \",U)\n",
        "print(\"V = \",v)\n",
        "fim=time.time()\n",
        "print(\"Tempo total de execução do modelo: %f\" %(fim-inicio))\n",
        "\n",
        "# Salvar a saída em csv:\n",
        "dir_remoto = \"/content/drive/My Drive/\"\n",
        "dir_local = os.getcwd() # path para rodar em máquina local ao invés do colab\n",
        "\n",
        "pd.DataFrame(U).to_csv('drive/My Drive/data/Fou/matriz_U_q2-3.csv', index=False)\n",
        "pd.DataFrame(v).to_csv('drive/My Drive/data/Fou/matriz_v_q2-3.csv', index=False)\n"
      ],
      "execution_count": 11,
      "outputs": [
        {
          "output_type": "stream",
          "text": [
            "G(t=0)= [[860, 2000], [1587, 1462], [129, 756], [1588, 1011], [922, 320], [1569, 1651], [1384, 940], [1116, 967], [285, 1731], [1939, 1853]]\n",
            "\n",
            "U_ij (t=0) [[0.10164784 0.09257458 0.09721607 ... 0.09551992 0.11870612 0.09441162]\n",
            " [0.09984379 0.08748026 0.11695477 ... 0.09466555 0.12810082 0.09051935]\n",
            " [0.1018144  0.09502339 0.11309256 ... 0.09124691 0.12306803 0.09465347]\n",
            " ...\n",
            " [0.09571974 0.10688046 0.07409592 ... 0.09686271 0.08281794 0.11061093]\n",
            " [0.11645284 0.10991264 0.07154002 ... 0.09306015 0.09301644 0.11679097]\n",
            " [0.30254724 0.0767412  0.06453718 ... 0.07503049 0.07473699 0.08283924]]\n",
            "\n",
            "J(t=0) 2073.0825565613927\n",
            "\n",
            "G: [[393, 375], [526, 818], [1718, 396], [662, 297], [385, 322], [316, 1908], [243, 940], [693, 350], [1769, 1612], [1392, 289]]\n",
            "ERRO 251.57806314780214\n",
            "t = 1 e J(t) = 1821.5044934136\n",
            "\n",
            "G: [[393, 375], [818, 526], [396, 297], [662, 385], [322, 316], [1908, 1718], [243, 940], [693, 350], [1769, 1612], [1392, 289]]\n",
            "ERRO 0.638556066792944\n",
            "t = 2 e J(t) = 1820.8659373468\n",
            "\n",
            "G: [[393, 375], [818, 526], [396, 297], [662, 385], [316, 322], [1718, 1908], [243, 940], [693, 350], [1769, 1612], [1392, 289]]\n",
            "ERRO 0.0\n",
            "t = 3 e J(t) = 1820.8659373468\n",
            "\n",
            "FIM do algoritmo\n",
            "J:  1820.8659373467976\n",
            "G =  [[393, 375], [818, 526], [396, 297], [662, 385], [316, 322], [1718, 1908], [243, 940], [693, 350], [1769, 1612], [1392, 289]]\n",
            "U =  [[0.1001034  0.09606297 0.0981588  ... 0.09535829 0.11929735 0.09792723]\n",
            " [0.10266704 0.10139177 0.09597892 ... 0.09511725 0.11588919 0.09979485]\n",
            " [0.10260605 0.09814353 0.09591907 ... 0.09683486 0.114352   0.09934747]\n",
            " ...\n",
            " [0.09629356 0.10227172 0.09643481 ... 0.10128373 0.09077587 0.10736826]\n",
            " [0.0954446  0.10952264 0.09958357 ... 0.0948328  0.08261279 0.11549961]\n",
            " [0.09861962 0.09894491 0.10906725 ... 0.0950991  0.08888345 0.10848362]]\n",
            "V =  [[1.]\n",
            " [1.]\n",
            " [1.]\n",
            " [1.]\n",
            " [1.]\n",
            " [1.]\n",
            " [1.]\n",
            " [1.]\n",
            " [1.]\n",
            " [1.]]\n",
            "Tempo total de execução do modelo: 2274.361416\n"
          ],
          "name": "stdout"
        }
      ]
    },
    {
      "cell_type": "markdown",
      "metadata": {
        "id": "jxfmhQOw_dIb",
        "colab_type": "text"
      },
      "source": [
        "# **Modified Partition Entropy & Partition Entropy**\n",
        "- O Coeficiente de Partição Modificado é usado para medir a quantidade de sobreposição entre os grupos.\n",
        "- O Partition Entropy mede a imprecisão de uma partição do grupo."
      ]
    },
    {
      "cell_type": "code",
      "metadata": {
        "id": "PrASVlW6_jR_",
        "colab_type": "code",
        "colab": {
          "base_uri": "https://localhost:8080/",
          "height": 88
        },
        "outputId": "bb717cc6-5c01-494b-c124-b013be8818ac"
      },
      "source": [
        "#print(U)\n",
        "# Modified Partition Entropy\n",
        "def mpc(matrizU, N):\n",
        "  MPC = (sum(sum(matrizU**2)))/N\n",
        "  return MPC\n",
        "\n",
        "print(\"MPC:\", mpc(U, N))\n",
        "\n",
        "# Partition Entropy\n",
        "def part_Entropy(MatrizU, N):\n",
        "  L = np.log10(MatrizU)\n",
        "  PE = -(sum(sum((MatrizU**2)*L)))/N\n",
        "  return PE\n",
        "print(\"PE:\", part_Entropy(U, N))"
      ],
      "execution_count": 12,
      "outputs": [
        {
          "output_type": "stream",
          "text": [
            "MPC: 0.10150395028501806\n",
            "PE: 0.10044245891319817\n",
            "Partição Crispy [[1, 9], [2, 9], [3, 9], [4, 9], [5, 9], [6, 9], [7, 9], [8, 9], [9, 9], [10, 9], [11, 9], [12, 9], [13, 9], [14, 9], [15, 9], [16, 9], [17, 9], [18, 9], [19, 9], [20, 9], [21, 9], [22, 9], [23, 9], [24, 9], [25, 9], [26, 9], [27, 9], [28, 9], [29, 9], [30, 9], [31, 9], [32, 9], [33, 9], [34, 9], [35, 9], [36, 9], [37, 9], [38, 9], [39, 9], [40, 9], [41, 9], [42, 9], [43, 9], [44, 9], [45, 9], [46, 9], [47, 9], [48, 9], [49, 9], [50, 7], [51, 9], [52, 9], [53, 9], [54, 6], [55, 9], [56, 9], [57, 9], [58, 9], [59, 9], [60, 9], [61, 9], [62, 9], [63, 9], [64, 9], [65, 9], [66, 9], [67, 9], [68, 9], [69, 9], [70, 9], [71, 9], [72, 9], [73, 9], [74, 9], [75, 9], [76, 9], [77, 9], [78, 9], [79, 9], [80, 9], [81, 9], [82, 9], [83, 9], [84, 9], [85, 9], [86, 9], [87, 9], [88, 9], [89, 9], [90, 9], [91, 9], [92, 9], [93, 9], [94, 9], [95, 9], [96, 9], [97, 9], [98, 9], [99, 9], [100, 9], [101, 9], [102, 9], [103, 9], [104, 9], [105, 9], [106, 9], [107, 9], [108, 9], [109, 9], [110, 9], [111, 9], [112, 9], [113, 9], [114, 9], [115, 9], [116, 9], [117, 9], [118, 9], [119, 9], [120, 9], [121, 9], [122, 9], [123, 9], [124, 9], [125, 9], [126, 9], [127, 9], [128, 9], [129, 9], [130, 9], [131, 9], [132, 9], [133, 9], [134, 9], [135, 9], [136, 9], [137, 9], [138, 9], [139, 9], [140, 9], [141, 9], [142, 9], [143, 9], [144, 9], [145, 6], [146, 9], [147, 9], [148, 9], [149, 9], [150, 9], [151, 9], [152, 9], [153, 9], [154, 9], [155, 9], [156, 9], [157, 9], [158, 9], [159, 9], [160, 9], [161, 9], [162, 9], [163, 9], [164, 9], [165, 9], [166, 9], [167, 9], [168, 9], [169, 9], [170, 9], [171, 9], [172, 9], [173, 9], [174, 9], [175, 9], [176, 9], [177, 9], [178, 9], [179, 9], [180, 9], [181, 9], [182, 9], [183, 9], [184, 9], [185, 9], [186, 9], [187, 9], [188, 9], [189, 9], [190, 9], [191, 9], [192, 9], [193, 9], [194, 9], [195, 9], [196, 9], [197, 9], [198, 9], [199, 9], [200, 9], [201, 5], [202, 5], [203, 3], [204, 1], [205, 9], [206, 5], [207, 7], [208, 3], [209, 9], [210, 5], [211, 1], [212, 4], [213, 9], [214, 3], [215, 7], [216, 5], [217, 5], [218, 1], [219, 1], [220, 3], [221, 5], [222, 3], [223, 7], [224, 5], [225, 5], [226, 5], [227, 3], [228, 1], [229, 1], [230, 3], [231, 5], [232, 5], [233, 1], [234, 3], [235, 1], [236, 9], [237, 1], [238, 10], [239, 1], [240, 3], [241, 9], [242, 5], [243, 7], [244, 5], [245, 6], [246, 4], [247, 7], [248, 7], [249, 1], [250, 1], [251, 5], [252, 5], [253, 5], [254, 3], [255, 2], [256, 1], [257, 1], [258, 1], [259, 3], [260, 5], [261, 5], [262, 2], [263, 3], [264, 1], [265, 9], [266, 4], [267, 1], [268, 3], [269, 1], [270, 2], [271, 1], [272, 3], [273, 4], [274, 8], [275, 1], [276, 5], [277, 5], [278, 5], [279, 1], [280, 7], [281, 1], [282, 7], [283, 10], [284, 7], [285, 1], [286, 1], [287, 1], [288, 3], [289, 10], [290, 1], [291, 7], [292, 1], [293, 7], [294, 3], [295, 1], [296, 1], [297, 3], [298, 3], [299, 5], [300, 2], [301, 3], [302, 3], [303, 1], [304, 3], [305, 6], [306, 6], [307, 10], [308, 5], [309, 5], [310, 5], [311, 6], [312, 1], [313, 5], [314, 1], [315, 1], [316, 5], [317, 1], [318, 5], [319, 2], [320, 5], [321, 3], [322, 5], [323, 6], [324, 3], [325, 3], [326, 5], [327, 1], [328, 3], [329, 2], [330, 1], [331, 5], [332, 5], [333, 5], [334, 5], [335, 5], [336, 5], [337, 10], [338, 4], [339, 5], [340, 1], [341, 1], [342, 1], [343, 2], [344, 1], [345, 3], [346, 3], [347, 1], [348, 5], [349, 2], [350, 8], [351, 5], [352, 7], [353, 2], [354, 3], [355, 2], [356, 7], [357, 1], [358, 3], [359, 5], [360, 6], [361, 3], [362, 7], [363, 7], [364, 3], [365, 7], [366, 7], [367, 3], [368, 7], [369, 9], [370, 1], [371, 2], [372, 2], [373, 1], [374, 1], [375, 1], [376, 7], [377, 7], [378, 1], [379, 1], [380, 3], [381, 4], [382, 1], [383, 3], [384, 5], [385, 4], [386, 3], [387, 1], [388, 4], [389, 1], [390, 3], [391, 2], [392, 2], [393, 1], [394, 5], [395, 5], [396, 3], [397, 8], [398, 3], [399, 5], [400, 8], [401, 2], [402, 4], [403, 6], [404, 2], [405, 4], [406, 5], [407, 5], [408, 5], [409, 2], [410, 6], [411, 2], [412, 5], [413, 5], [414, 4], [415, 2], [416, 6], [417, 1], [418, 2], [419, 4], [420, 1], [421, 4], [422, 9], [423, 9], [424, 5], [425, 2], [426, 2], [427, 2], [428, 5], [429, 2], [430, 1], [431, 2], [432, 5], [433, 2], [434, 5], [435, 2], [436, 4], [437, 2], [438, 5], [439, 2], [440, 3], [441, 5], [442, 5], [443, 9], [444, 5], [445, 5], [446, 2], [447, 5], [448, 10], [449, 4], [450, 2], [451, 4], [452, 5], [453, 2], [454, 4], [455, 4], [456, 5], [457, 2], [458, 4], [459, 6], [460, 2], [461, 2], [462, 5], [463, 2], [464, 5], [465, 2], [466, 4], [467, 5], [468, 5], [469, 4], [470, 5], [471, 2], [472, 4], [473, 2], [474, 4], [475, 5], [476, 4], [477, 2], [478, 7], [479, 4], [480, 4], [481, 2], [482, 2], [483, 5], [484, 5], [485, 5], [486, 4], [487, 4], [488, 5], [489, 2], [490, 4], [491, 4], [492, 2], [493, 5], [494, 2], [495, 4], [496, 4], [497, 4], [498, 5], [499, 5], [500, 2], [501, 2], [502, 4], [503, 2], [504, 4], [505, 4], [506, 2], [507, 5], [508, 5], [509, 4], [510, 5], [511, 2], [512, 5], [513, 5], [514, 4], [515, 6], [516, 4], [517, 5], [518, 4], [519, 3], [520, 5], [521, 5], [522, 5], [523, 3], [524, 2], [525, 2], [526, 2], [527, 8], [528, 6], [529, 2], [530, 4], [531, 5], [532, 5], [533, 4], [534, 5], [535, 5], [536, 2], [537, 4], [538, 1], [539, 5], [540, 2], [541, 2], [542, 5], [543, 10], [544, 4], [545, 2], [546, 4], [547, 4], [548, 4], [549, 2], [550, 2], [551, 2], [552, 3], [553, 4], [554, 5], [555, 2], [556, 2], [557, 5], [558, 4], [559, 2], [560, 5], [561, 5], [562, 5], [563, 4], [564, 4], [565, 4], [566, 5], [567, 4], [568, 4], [569, 1], [570, 5], [571, 9], [572, 4], [573, 2], [574, 2], [575, 5], [576, 4], [577, 1], [578, 4], [579, 2], [580, 5], [581, 4], [582, 4], [583, 4], [584, 5], [585, 5], [586, 4], [587, 4], [588, 10], [589, 4], [590, 5], [591, 4], [592, 5], [593, 5], [594, 5], [595, 4], [596, 2], [597, 4], [598, 5], [599, 4], [600, 1], [601, 8], [602, 7], [603, 3], [604, 4], [605, 3], [606, 1], [607, 3], [608, 3], [609, 1], [610, 8], [611, 8], [612, 1], [613, 8], [614, 8], [615, 8], [616, 6], [617, 10], [618, 6], [619, 1], [620, 4], [621, 3], [622, 8], [623, 4], [624, 8], [625, 8], [626, 3], [627, 8], [628, 4], [629, 4], [630, 2], [631, 3], [632, 2], [633, 4], [634, 3], [635, 8], [636, 1], [637, 1], [638, 8], [639, 3], [640, 1], [641, 8], [642, 8], [643, 8], [644, 8], [645, 4], [646, 8], [647, 5], [648, 8], [649, 8], [650, 1], [651, 8], [652, 2], [653, 6], [654, 4], [655, 8], [656, 3], [657, 2], [658, 3], [659, 3], [660, 1], [661, 1], [662, 4], [663, 4], [664, 8], [665, 3], [666, 3], [667, 6], [668, 8], [669, 5], [670, 3], [671, 8], [672, 8], [673, 8], [674, 4], [675, 8], [676, 5], [677, 3], [678, 6], [679, 3], [680, 8], [681, 5], [682, 8], [683, 2], [684, 8], [685, 8], [686, 8], [687, 6], [688, 1], [689, 8], [690, 8], [691, 8], [692, 4], [693, 8], [694, 3], [695, 2], [696, 5], [697, 8], [698, 2], [699, 1], [700, 8], [701, 8], [702, 8], [703, 3], [704, 4], [705, 1], [706, 8], [707, 8], [708, 8], [709, 1], [710, 5], [711, 7], [712, 8], [713, 3], [714, 5], [715, 3], [716, 6], [717, 8], [718, 8], [719, 3], [720, 8], [721, 3], [722, 8], [723, 8], [724, 2], [725, 8], [726, 1], [727, 8], [728, 3], [729, 4], [730, 3], [731, 8], [732, 3], [733, 4], [734, 6], [735, 1], [736, 8], [737, 8], [738, 1], [739, 8], [740, 7], [741, 8], [742, 8], [743, 8], [744, 3], [745, 8], [746, 4], [747, 8], [748, 3], [749, 1], [750, 8], [751, 1], [752, 1], [753, 2], [754, 3], [755, 1], [756, 1], [757, 8], [758, 2], [759, 6], [760, 8], [761, 8], [762, 3], [763, 4], [764, 2], [765, 4], [766, 8], [767, 8], [768, 7], [769, 1], [770, 3], [771, 5], [772, 3], [773, 2], [774, 4], [775, 1], [776, 1], [777, 6], [778, 8], [779, 3], [780, 3], [781, 8], [782, 3], [783, 8], [784, 2], [785, 8], [786, 8], [787, 3], [788, 8], [789, 8], [790, 3], [791, 2], [792, 8], [793, 8], [794, 5], [795, 8], [796, 8], [797, 5], [798, 4], [799, 8], [800, 8], [801, 4], [802, 10], [803, 7], [804, 5], [805, 2], [806, 7], [807, 8], [808, 2], [809, 1], [810, 10], [811, 2], [812, 8], [813, 2], [814, 3], [815, 7], [816, 9], [817, 1], [818, 2], [819, 5], [820, 8], [821, 7], [822, 2], [823, 8], [824, 7], [825, 6], [826, 1], [827, 8], [828, 7], [829, 7], [830, 2], [831, 3], [832, 8], [833, 5], [834, 7], [835, 10], [836, 8], [837, 2], [838, 1], [839, 7], [840, 7], [841, 2], [842, 2], [843, 3], [844, 2], [845, 2], [846, 5], [847, 3], [848, 7], [849, 8], [850, 2], [851, 3], [852, 4], [853, 7], [854, 2], [855, 7], [856, 1], [857, 1], [858, 7], [859, 7], [860, 1], [861, 8], [862, 6], [863, 7], [864, 7], [865, 3], [866, 7], [867, 2], [868, 2], [869, 1], [870, 7], [871, 2], [872, 2], [873, 6], [874, 8], [875, 5], [876, 5], [877, 1], [878, 5], [879, 5], [880, 7], [881, 7], [882, 2], [883, 7], [884, 8], [885, 8], [886, 7], [887, 8], [888, 8], [889, 2], [890, 2], [891, 8], [892, 1], [893, 7], [894, 2], [895, 7], [896, 8], [897, 7], [898, 8], [899, 7], [900, 8], [901, 7], [902, 3], [903, 7], [904, 8], [905, 5], [906, 4], [907, 2], [908, 2], [909, 1], [910, 2], [911, 2], [912, 2], [913, 1], [914, 1], [915, 6], [916, 2], [917, 7], [918, 2], [919, 2], [920, 5], [921, 1], [922, 7], [923, 2], [924, 2], [925, 8], [926, 7], [927, 2], [928, 2], [929, 7], [930, 3], [931, 1], [932, 2], [933, 10], [934, 2], [935, 1], [936, 2], [937, 7], [938, 2], [939, 2], [940, 7], [941, 8], [942, 2], [943, 2], [944, 2], [945, 2], [946, 3], [947, 8], [948, 2], [949, 6], [950, 2], [951, 2], [952, 3], [953, 2], [954, 7], [955, 8], [956, 1], [957, 7], [958, 5], [959, 7], [960, 2], [961, 7], [962, 7], [963, 2], [964, 7], [965, 8], [966, 7], [967, 1], [968, 2], [969, 8], [970, 7], [971, 2], [972, 8], [973, 2], [974, 7], [975, 7], [976, 8], [977, 7], [978, 6], [979, 7], [980, 2], [981, 2], [982, 8], [983, 2], [984, 2], [985, 2], [986, 8], [987, 8], [988, 2], [989, 7], [990, 2], [991, 2], [992, 2], [993, 7], [994, 5], [995, 7], [996, 7], [997, 2], [998, 1], [999, 2], [1000, 1], [1001, 2], [1002, 5], [1003, 8], [1004, 8], [1005, 1], [1006, 3], [1007, 10], [1008, 8], [1009, 8], [1010, 8], [1011, 10], [1012, 1], [1013, 3], [1014, 8], [1015, 8], [1016, 8], [1017, 8], [1018, 8], [1019, 5], [1020, 8], [1021, 3], [1022, 1], [1023, 8], [1024, 3], [1025, 4], [1026, 8], [1027, 1], [1028, 3], [1029, 8], [1030, 3], [1031, 3], [1032, 7], [1033, 2], [1034, 8], [1035, 7], [1036, 8], [1037, 6], [1038, 3], [1039, 3], [1040, 1], [1041, 5], [1042, 8], [1043, 3], [1044, 8], [1045, 3], [1046, 3], [1047, 3], [1048, 2], [1049, 8], [1050, 8], [1051, 8], [1052, 3], [1053, 1], [1054, 3], [1055, 8], [1056, 3], [1057, 8], [1058, 8], [1059, 8], [1060, 7], [1061, 8], [1062, 3], [1063, 8], [1064, 1], [1065, 7], [1066, 4], [1067, 4], [1068, 10], [1069, 8], [1070, 8], [1071, 8], [1072, 7], [1073, 5], [1074, 3], [1075, 6], [1076, 7], [1077, 3], [1078, 8], [1079, 1], [1080, 3], [1081, 8], [1082, 3], [1083, 8], [1084, 8], [1085, 1], [1086, 8], [1087, 2], [1088, 3], [1089, 3], [1090, 3], [1091, 7], [1092, 5], [1093, 7], [1094, 3], [1095, 8], [1096, 8], [1097, 8], [1098, 1], [1099, 7], [1100, 8], [1101, 3], [1102, 3], [1103, 3], [1104, 8], [1105, 8], [1106, 8], [1107, 6], [1108, 7], [1109, 1], [1110, 8], [1111, 8], [1112, 10], [1113, 8], [1114, 6], [1115, 3], [1116, 8], [1117, 1], [1118, 8], [1119, 8], [1120, 3], [1121, 2], [1122, 3], [1123, 8], [1124, 8], [1125, 8], [1126, 3], [1127, 7], [1128, 7], [1129, 6], [1130, 5], [1131, 1], [1132, 8], [1133, 3], [1134, 4], [1135, 8], [1136, 3], [1137, 8], [1138, 1], [1139, 4], [1140, 10], [1141, 8], [1142, 8], [1143, 1], [1144, 8], [1145, 7], [1146, 8], [1147, 8], [1148, 8], [1149, 3], [1150, 7], [1151, 10], [1152, 8], [1153, 7], [1154, 5], [1155, 8], [1156, 3], [1157, 8], [1158, 7], [1159, 3], [1160, 8], [1161, 2], [1162, 8], [1163, 8], [1164, 7], [1165, 2], [1166, 7], [1167, 2], [1168, 8], [1169, 7], [1170, 8], [1171, 10], [1172, 8], [1173, 3], [1174, 8], [1175, 5], [1176, 3], [1177, 1], [1178, 10], [1179, 8], [1180, 8], [1181, 8], [1182, 8], [1183, 8], [1184, 3], [1185, 8], [1186, 8], [1187, 3], [1188, 5], [1189, 8], [1190, 3], [1191, 3], [1192, 3], [1193, 8], [1194, 8], [1195, 8], [1196, 3], [1197, 10], [1198, 1], [1199, 8], [1200, 8], [1201, 4], [1202, 6], [1203, 6], [1204, 6], [1205, 10], [1206, 8], [1207, 10], [1208, 10], [1209, 8], [1210, 2], [1211, 7], [1212, 6], [1213, 2], [1214, 6], [1215, 2], [1216, 6], [1217, 9], [1218, 10], [1219, 7], [1220, 10], [1221, 6], [1222, 10], [1223, 2], [1224, 6], [1225, 2], [1226, 2], [1227, 8], [1228, 10], [1229, 3], [1230, 8], [1231, 7], [1232, 8], [1233, 10], [1234, 7], [1235, 10], [1236, 4], [1237, 6], [1238, 7], [1239, 2], [1240, 10], [1241, 7], [1242, 10], [1243, 8], [1244, 7], [1245, 6], [1246, 7], [1247, 10], [1248, 2], [1249, 10], [1250, 10], [1251, 10], [1252, 7], [1253, 10], [1254, 2], [1255, 2], [1256, 10], [1257, 10], [1258, 2], [1259, 10], [1260, 7], [1261, 6], [1262, 7], [1263, 7], [1264, 10], [1265, 7], [1266, 7], [1267, 10], [1268, 10], [1269, 10], [1270, 6], [1271, 7], [1272, 7], [1273, 7], [1274, 2], [1275, 7], [1276, 10], [1277, 7], [1278, 7], [1279, 7], [1280, 7], [1281, 10], [1282, 8], [1283, 7], [1284, 7], [1285, 6], [1286, 7], [1287, 2], [1288, 1], [1289, 7], [1290, 2], [1291, 2], [1292, 2], [1293, 10], [1294, 6], [1295, 10], [1296, 1], [1297, 7], [1298, 7], [1299, 2], [1300, 9], [1301, 4], [1302, 2], [1303, 6], [1304, 10], [1305, 10], [1306, 6], [1307, 7], [1308, 8], [1309, 7], [1310, 10], [1311, 2], [1312, 10], [1313, 7], [1314, 10], [1315, 10], [1316, 7], [1317, 7], [1318, 1], [1319, 1], [1320, 7], [1321, 2], [1322, 10], [1323, 10], [1324, 1], [1325, 8], [1326, 7], [1327, 8], [1328, 6], [1329, 6], [1330, 7], [1331, 2], [1332, 10], [1333, 7], [1334, 7], [1335, 6], [1336, 8], [1337, 10], [1338, 10], [1339, 5], [1340, 1], [1341, 10], [1342, 10], [1343, 2], [1344, 2], [1345, 7], [1346, 6], [1347, 10], [1348, 10], [1349, 10], [1350, 6], [1351, 10], [1352, 6], [1353, 9], [1354, 7], [1355, 2], [1356, 10], [1357, 6], [1358, 7], [1359, 2], [1360, 6], [1361, 8], [1362, 10], [1363, 2], [1364, 8], [1365, 10], [1366, 7], [1367, 7], [1368, 6], [1369, 7], [1370, 10], [1371, 6], [1372, 7], [1373, 6], [1374, 10], [1375, 8], [1376, 7], [1377, 4], [1378, 7], [1379, 2], [1380, 2], [1381, 8], [1382, 10], [1383, 10], [1384, 10], [1385, 6], [1386, 2], [1387, 7], [1388, 10], [1389, 10], [1390, 2], [1391, 8], [1392, 10], [1393, 10], [1394, 6], [1395, 7], [1396, 4], [1397, 8], [1398, 2], [1399, 2], [1400, 7], [1401, 5], [1402, 5], [1403, 7], [1404, 2], [1405, 10], [1406, 7], [1407, 5], [1408, 7], [1409, 5], [1410, 7], [1411, 7], [1412, 2], [1413, 2], [1414, 7], [1415, 7], [1416, 2], [1417, 7], [1418, 5], [1419, 2], [1420, 7], [1421, 5], [1422, 5], [1423, 5], [1424, 5], [1425, 5], [1426, 7], [1427, 5], [1428, 10], [1429, 2], [1430, 7], [1431, 5], [1432, 5], [1433, 2], [1434, 7], [1435, 5], [1436, 7], [1437, 4], [1438, 7], [1439, 4], [1440, 7], [1441, 5], [1442, 7], [1443, 5], [1444, 7], [1445, 2], [1446, 5], [1447, 5], [1448, 5], [1449, 5], [1450, 2], [1451, 5], [1452, 7], [1453, 5], [1454, 7], [1455, 5], [1456, 2], [1457, 2], [1458, 10], [1459, 7], [1460, 7], [1461, 7], [1462, 5], [1463, 7], [1464, 7], [1465, 5], [1466, 2], [1467, 10], [1468, 2], [1469, 2], [1470, 2], [1471, 7], [1472, 2], [1473, 5], [1474, 7], [1475, 2], [1476, 5], [1477, 7], [1478, 2], [1479, 7], [1480, 4], [1481, 7], [1482, 7], [1483, 7], [1484, 5], [1485, 7], [1486, 2], [1487, 7], [1488, 7], [1489, 2], [1490, 7], [1491, 2], [1492, 7], [1493, 2], [1494, 5], [1495, 7], [1496, 7], [1497, 5], [1498, 2], [1499, 2], [1500, 5], [1501, 7], [1502, 7], [1503, 4], [1504, 5], [1505, 7], [1506, 2], [1507, 2], [1508, 2], [1509, 5], [1510, 7], [1511, 5], [1512, 5], [1513, 2], [1514, 5], [1515, 5], [1516, 7], [1517, 10], [1518, 2], [1519, 7], [1520, 7], [1521, 2], [1522, 5], [1523, 10], [1524, 7], [1525, 7], [1526, 7], [1527, 2], [1528, 7], [1529, 2], [1530, 7], [1531, 7], [1532, 7], [1533, 2], [1534, 7], [1535, 10], [1536, 5], [1537, 7], [1538, 7], [1539, 5], [1540, 5], [1541, 7], [1542, 7], [1543, 7], [1544, 2], [1545, 7], [1546, 2], [1547, 2], [1548, 5], [1549, 2], [1550, 7], [1551, 7], [1552, 5], [1553, 2], [1554, 7], [1555, 7], [1556, 5], [1557, 4], [1558, 7], [1559, 7], [1560, 2], [1561, 2], [1562, 2], [1563, 7], [1564, 5], [1565, 2], [1566, 2], [1567, 7], [1568, 5], [1569, 4], [1570, 10], [1571, 2], [1572, 5], [1573, 10], [1574, 2], [1575, 7], [1576, 2], [1577, 2], [1578, 2], [1579, 7], [1580, 7], [1581, 7], [1582, 5], [1583, 2], [1584, 7], [1585, 7], [1586, 2], [1587, 2], [1588, 7], [1589, 5], [1590, 5], [1591, 5], [1592, 5], [1593, 5], [1594, 2], [1595, 5], [1596, 2], [1597, 5], [1598, 2], [1599, 7], [1600, 5], [1601, 6], [1602, 4], [1603, 9], [1604, 9], [1605, 9], [1606, 9], [1607, 9], [1608, 9], [1609, 9], [1610, 9], [1611, 9], [1612, 9], [1613, 8], [1614, 9], [1615, 9], [1616, 9], [1617, 9], [1618, 9], [1619, 9], [1620, 9], [1621, 9], [1622, 9], [1623, 9], [1624, 9], [1625, 9], [1626, 9], [1627, 9], [1628, 9], [1629, 9], [1630, 9], [1631, 9], [1632, 9], [1633, 9], [1634, 9], [1635, 9], [1636, 9], [1637, 9], [1638, 9], [1639, 9], [1640, 1], [1641, 9], [1642, 9], [1643, 1], [1644, 9], [1645, 9], [1646, 9], [1647, 9], [1648, 9], [1649, 9], [1650, 9], [1651, 9], [1652, 9], [1653, 9], [1654, 9], [1655, 9], [1656, 9], [1657, 9], [1658, 9], [1659, 9], [1660, 9], [1661, 9], [1662, 9], [1663, 9], [1664, 9], [1665, 9], [1666, 9], [1667, 9], [1668, 1], [1669, 9], [1670, 9], [1671, 9], [1672, 9], [1673, 9], [1674, 9], [1675, 9], [1676, 9], [1677, 9], [1678, 9], [1679, 9], [1680, 9], [1681, 9], [1682, 9], [1683, 9], [1684, 9], [1685, 9], [1686, 9], [1687, 9], [1688, 9], [1689, 9], [1690, 9], [1691, 9], [1692, 9], [1693, 9], [1694, 9], [1695, 9], [1696, 9], [1697, 1], [1698, 9], [1699, 9], [1700, 9], [1701, 9], [1702, 9], [1703, 9], [1704, 9], [1705, 9], [1706, 9], [1707, 9], [1708, 6], [1709, 9], [1710, 6], [1711, 9], [1712, 9], [1713, 9], [1714, 9], [1715, 9], [1716, 9], [1717, 9], [1718, 6], [1719, 9], [1720, 9], [1721, 9], [1722, 9], [1723, 9], [1724, 9], [1725, 9], [1726, 9], [1727, 9], [1728, 9], [1729, 9], [1730, 8], [1731, 9], [1732, 9], [1733, 9], [1734, 9], [1735, 9], [1736, 9], [1737, 1], [1738, 9], [1739, 9], [1740, 9], [1741, 9], [1742, 9], [1743, 9], [1744, 9], [1745, 9], [1746, 9], [1747, 9], [1748, 9], [1749, 9], [1750, 9], [1751, 9], [1752, 9], [1753, 9], [1754, 9], [1755, 9], [1756, 9], [1757, 9], [1758, 1], [1759, 9], [1760, 9], [1761, 9], [1762, 9], [1763, 9], [1764, 9], [1765, 9], [1766, 9], [1767, 9], [1768, 9], [1769, 9], [1770, 9], [1771, 9], [1772, 9], [1773, 9], [1774, 9], [1775, 9], [1776, 9], [1777, 9], [1778, 9], [1779, 9], [1780, 8], [1781, 9], [1782, 9], [1783, 9], [1784, 9], [1785, 9], [1786, 9], [1787, 9], [1788, 9], [1789, 9], [1790, 9], [1791, 9], [1792, 9], [1793, 9], [1794, 9], [1795, 9], [1796, 9], [1797, 9], [1798, 9], [1799, 9], [1800, 9], [1801, 7], [1802, 10], [1803, 1], [1804, 7], [1805, 8], [1806, 7], [1807, 8], [1808, 4], [1809, 7], [1810, 10], [1811, 7], [1812, 10], [1813, 10], [1814, 7], [1815, 8], [1816, 7], [1817, 6], [1818, 6], [1819, 2], [1820, 6], [1821, 8], [1822, 10], [1823, 8], [1824, 10], [1825, 8], [1826, 6], [1827, 7], [1828, 7], [1829, 3], [1830, 8], [1831, 2], [1832, 10], [1833, 6], [1834, 8], [1835, 7], [1836, 2], [1837, 8], [1838, 2], [1839, 9], [1840, 7], [1841, 10], [1842, 8], [1843, 2], [1844, 7], [1845, 2], [1846, 7], [1847, 9], [1848, 6], [1849, 10], [1850, 1], [1851, 10], [1852, 6], [1853, 6], [1854, 7], [1855, 7], [1856, 2], [1857, 10], [1858, 4], [1859, 7], [1860, 7], [1861, 2], [1862, 8], [1863, 4], [1864, 7], [1865, 8], [1866, 7], [1867, 7], [1868, 10], [1869, 2], [1870, 10], [1871, 1], [1872, 10], [1873, 1], [1874, 2], [1875, 7], [1876, 10], [1877, 2], [1878, 8], [1879, 10], [1880, 10], [1881, 9], [1882, 10], [1883, 8], [1884, 6], [1885, 1], [1886, 6], [1887, 6], [1888, 7], [1889, 2], [1890, 6], [1891, 10], [1892, 6], [1893, 3], [1894, 7], [1895, 7], [1896, 4], [1897, 6], [1898, 7], [1899, 7], [1900, 10], [1901, 8], [1902, 7], [1903, 10], [1904, 10], [1905, 7], [1906, 2], [1907, 10], [1908, 6], [1909, 7], [1910, 10], [1911, 2], [1912, 6], [1913, 1], [1914, 6], [1915, 1], [1916, 5], [1917, 10], [1918, 8], [1919, 6], [1920, 2], [1921, 7], [1922, 6], [1923, 10], [1924, 10], [1925, 10], [1926, 6], [1927, 6], [1928, 6], [1929, 6], [1930, 2], [1931, 7], [1932, 6], [1933, 10], [1934, 7], [1935, 8], [1936, 2], [1937, 6], [1938, 7], [1939, 7], [1940, 4], [1941, 2], [1942, 7], [1943, 7], [1944, 7], [1945, 7], [1946, 2], [1947, 10], [1948, 2], [1949, 2], [1950, 2], [1951, 7], [1952, 7], [1953, 7], [1954, 7], [1955, 5], [1956, 6], [1957, 8], [1958, 10], [1959, 10], [1960, 10], [1961, 8], [1962, 2], [1963, 7], [1964, 2], [1965, 7], [1966, 10], [1967, 7], [1968, 6], [1969, 8], [1970, 7], [1971, 8], [1972, 2], [1973, 10], [1974, 7], [1975, 2], [1976, 10], [1977, 10], [1978, 8], [1979, 7], [1980, 8], [1981, 7], [1982, 10], [1983, 10], [1984, 7], [1985, 2], [1986, 10], [1987, 6], [1988, 10], [1989, 10], [1990, 10], [1991, 6], [1992, 2], [1993, 8], [1994, 6], [1995, 7], [1996, 6], [1997, 2], [1998, 10], [1999, 10], [2000, 3]]\n"
          ],
          "name": "stdout"
        }
      ]
    },
    {
      "cell_type": "markdown",
      "metadata": {
        "id": "-c9gut5hyV8s",
        "colab_type": "text"
      },
      "source": [
        "# **Criando uma Partição Crispy**"
      ]
    },
    {
      "cell_type": "code",
      "metadata": {
        "id": "CDffZokJybRv",
        "colab_type": "code",
        "colab": {
          "base_uri": "https://localhost:8080/",
          "height": 54
        },
        "outputId": "c27d2909-bb12-47a0-b915-e2c21c889f87"
      },
      "source": [
        "# Partição Crispy\n",
        "def crispyPartition(matrizU):\n",
        "  crispy_partition = []\n",
        "  i = 0\n",
        "  for linha in matrizU:\n",
        "    i += 1\n",
        "    crispy_partition.append([i, (np.argmax(linha)+1)])\n",
        "  return crispy_partition\n",
        "\n",
        "print(\"Partição Crispy\", crispyPartition(U))"
      ],
      "execution_count": 13,
      "outputs": [
        {
          "output_type": "stream",
          "text": [
            "Partição Crispy [[1, 9], [2, 9], [3, 9], [4, 9], [5, 9], [6, 9], [7, 9], [8, 9], [9, 9], [10, 9], [11, 9], [12, 9], [13, 9], [14, 9], [15, 9], [16, 9], [17, 9], [18, 9], [19, 9], [20, 9], [21, 9], [22, 9], [23, 9], [24, 9], [25, 9], [26, 9], [27, 9], [28, 9], [29, 9], [30, 9], [31, 9], [32, 9], [33, 9], [34, 9], [35, 9], [36, 9], [37, 9], [38, 9], [39, 9], [40, 9], [41, 9], [42, 9], [43, 9], [44, 9], [45, 9], [46, 9], [47, 9], [48, 9], [49, 9], [50, 7], [51, 9], [52, 9], [53, 9], [54, 6], [55, 9], [56, 9], [57, 9], [58, 9], [59, 9], [60, 9], [61, 9], [62, 9], [63, 9], [64, 9], [65, 9], [66, 9], [67, 9], [68, 9], [69, 9], [70, 9], [71, 9], [72, 9], [73, 9], [74, 9], [75, 9], [76, 9], [77, 9], [78, 9], [79, 9], [80, 9], [81, 9], [82, 9], [83, 9], [84, 9], [85, 9], [86, 9], [87, 9], [88, 9], [89, 9], [90, 9], [91, 9], [92, 9], [93, 9], [94, 9], [95, 9], [96, 9], [97, 9], [98, 9], [99, 9], [100, 9], [101, 9], [102, 9], [103, 9], [104, 9], [105, 9], [106, 9], [107, 9], [108, 9], [109, 9], [110, 9], [111, 9], [112, 9], [113, 9], [114, 9], [115, 9], [116, 9], [117, 9], [118, 9], [119, 9], [120, 9], [121, 9], [122, 9], [123, 9], [124, 9], [125, 9], [126, 9], [127, 9], [128, 9], [129, 9], [130, 9], [131, 9], [132, 9], [133, 9], [134, 9], [135, 9], [136, 9], [137, 9], [138, 9], [139, 9], [140, 9], [141, 9], [142, 9], [143, 9], [144, 9], [145, 6], [146, 9], [147, 9], [148, 9], [149, 9], [150, 9], [151, 9], [152, 9], [153, 9], [154, 9], [155, 9], [156, 9], [157, 9], [158, 9], [159, 9], [160, 9], [161, 9], [162, 9], [163, 9], [164, 9], [165, 9], [166, 9], [167, 9], [168, 9], [169, 9], [170, 9], [171, 9], [172, 9], [173, 9], [174, 9], [175, 9], [176, 9], [177, 9], [178, 9], [179, 9], [180, 9], [181, 9], [182, 9], [183, 9], [184, 9], [185, 9], [186, 9], [187, 9], [188, 9], [189, 9], [190, 9], [191, 9], [192, 9], [193, 9], [194, 9], [195, 9], [196, 9], [197, 9], [198, 9], [199, 9], [200, 9], [201, 5], [202, 5], [203, 3], [204, 1], [205, 9], [206, 5], [207, 7], [208, 3], [209, 9], [210, 5], [211, 1], [212, 4], [213, 9], [214, 3], [215, 7], [216, 5], [217, 5], [218, 1], [219, 1], [220, 3], [221, 5], [222, 3], [223, 7], [224, 5], [225, 5], [226, 5], [227, 3], [228, 1], [229, 1], [230, 3], [231, 5], [232, 5], [233, 1], [234, 3], [235, 1], [236, 9], [237, 1], [238, 10], [239, 1], [240, 3], [241, 9], [242, 5], [243, 7], [244, 5], [245, 6], [246, 4], [247, 7], [248, 7], [249, 1], [250, 1], [251, 5], [252, 5], [253, 5], [254, 3], [255, 2], [256, 1], [257, 1], [258, 1], [259, 3], [260, 5], [261, 5], [262, 2], [263, 3], [264, 1], [265, 9], [266, 4], [267, 1], [268, 3], [269, 1], [270, 2], [271, 1], [272, 3], [273, 4], [274, 8], [275, 1], [276, 5], [277, 5], [278, 5], [279, 1], [280, 7], [281, 1], [282, 7], [283, 10], [284, 7], [285, 1], [286, 1], [287, 1], [288, 3], [289, 10], [290, 1], [291, 7], [292, 1], [293, 7], [294, 3], [295, 1], [296, 1], [297, 3], [298, 3], [299, 5], [300, 2], [301, 3], [302, 3], [303, 1], [304, 3], [305, 6], [306, 6], [307, 10], [308, 5], [309, 5], [310, 5], [311, 6], [312, 1], [313, 5], [314, 1], [315, 1], [316, 5], [317, 1], [318, 5], [319, 2], [320, 5], [321, 3], [322, 5], [323, 6], [324, 3], [325, 3], [326, 5], [327, 1], [328, 3], [329, 2], [330, 1], [331, 5], [332, 5], [333, 5], [334, 5], [335, 5], [336, 5], [337, 10], [338, 4], [339, 5], [340, 1], [341, 1], [342, 1], [343, 2], [344, 1], [345, 3], [346, 3], [347, 1], [348, 5], [349, 2], [350, 8], [351, 5], [352, 7], [353, 2], [354, 3], [355, 2], [356, 7], [357, 1], [358, 3], [359, 5], [360, 6], [361, 3], [362, 7], [363, 7], [364, 3], [365, 7], [366, 7], [367, 3], [368, 7], [369, 9], [370, 1], [371, 2], [372, 2], [373, 1], [374, 1], [375, 1], [376, 7], [377, 7], [378, 1], [379, 1], [380, 3], [381, 4], [382, 1], [383, 3], [384, 5], [385, 4], [386, 3], [387, 1], [388, 4], [389, 1], [390, 3], [391, 2], [392, 2], [393, 1], [394, 5], [395, 5], [396, 3], [397, 8], [398, 3], [399, 5], [400, 8], [401, 2], [402, 4], [403, 6], [404, 2], [405, 4], [406, 5], [407, 5], [408, 5], [409, 2], [410, 6], [411, 2], [412, 5], [413, 5], [414, 4], [415, 2], [416, 6], [417, 1], [418, 2], [419, 4], [420, 1], [421, 4], [422, 9], [423, 9], [424, 5], [425, 2], [426, 2], [427, 2], [428, 5], [429, 2], [430, 1], [431, 2], [432, 5], [433, 2], [434, 5], [435, 2], [436, 4], [437, 2], [438, 5], [439, 2], [440, 3], [441, 5], [442, 5], [443, 9], [444, 5], [445, 5], [446, 2], [447, 5], [448, 10], [449, 4], [450, 2], [451, 4], [452, 5], [453, 2], [454, 4], [455, 4], [456, 5], [457, 2], [458, 4], [459, 6], [460, 2], [461, 2], [462, 5], [463, 2], [464, 5], [465, 2], [466, 4], [467, 5], [468, 5], [469, 4], [470, 5], [471, 2], [472, 4], [473, 2], [474, 4], [475, 5], [476, 4], [477, 2], [478, 7], [479, 4], [480, 4], [481, 2], [482, 2], [483, 5], [484, 5], [485, 5], [486, 4], [487, 4], [488, 5], [489, 2], [490, 4], [491, 4], [492, 2], [493, 5], [494, 2], [495, 4], [496, 4], [497, 4], [498, 5], [499, 5], [500, 2], [501, 2], [502, 4], [503, 2], [504, 4], [505, 4], [506, 2], [507, 5], [508, 5], [509, 4], [510, 5], [511, 2], [512, 5], [513, 5], [514, 4], [515, 6], [516, 4], [517, 5], [518, 4], [519, 3], [520, 5], [521, 5], [522, 5], [523, 3], [524, 2], [525, 2], [526, 2], [527, 8], [528, 6], [529, 2], [530, 4], [531, 5], [532, 5], [533, 4], [534, 5], [535, 5], [536, 2], [537, 4], [538, 1], [539, 5], [540, 2], [541, 2], [542, 5], [543, 10], [544, 4], [545, 2], [546, 4], [547, 4], [548, 4], [549, 2], [550, 2], [551, 2], [552, 3], [553, 4], [554, 5], [555, 2], [556, 2], [557, 5], [558, 4], [559, 2], [560, 5], [561, 5], [562, 5], [563, 4], [564, 4], [565, 4], [566, 5], [567, 4], [568, 4], [569, 1], [570, 5], [571, 9], [572, 4], [573, 2], [574, 2], [575, 5], [576, 4], [577, 1], [578, 4], [579, 2], [580, 5], [581, 4], [582, 4], [583, 4], [584, 5], [585, 5], [586, 4], [587, 4], [588, 10], [589, 4], [590, 5], [591, 4], [592, 5], [593, 5], [594, 5], [595, 4], [596, 2], [597, 4], [598, 5], [599, 4], [600, 1], [601, 8], [602, 7], [603, 3], [604, 4], [605, 3], [606, 1], [607, 3], [608, 3], [609, 1], [610, 8], [611, 8], [612, 1], [613, 8], [614, 8], [615, 8], [616, 6], [617, 10], [618, 6], [619, 1], [620, 4], [621, 3], [622, 8], [623, 4], [624, 8], [625, 8], [626, 3], [627, 8], [628, 4], [629, 4], [630, 2], [631, 3], [632, 2], [633, 4], [634, 3], [635, 8], [636, 1], [637, 1], [638, 8], [639, 3], [640, 1], [641, 8], [642, 8], [643, 8], [644, 8], [645, 4], [646, 8], [647, 5], [648, 8], [649, 8], [650, 1], [651, 8], [652, 2], [653, 6], [654, 4], [655, 8], [656, 3], [657, 2], [658, 3], [659, 3], [660, 1], [661, 1], [662, 4], [663, 4], [664, 8], [665, 3], [666, 3], [667, 6], [668, 8], [669, 5], [670, 3], [671, 8], [672, 8], [673, 8], [674, 4], [675, 8], [676, 5], [677, 3], [678, 6], [679, 3], [680, 8], [681, 5], [682, 8], [683, 2], [684, 8], [685, 8], [686, 8], [687, 6], [688, 1], [689, 8], [690, 8], [691, 8], [692, 4], [693, 8], [694, 3], [695, 2], [696, 5], [697, 8], [698, 2], [699, 1], [700, 8], [701, 8], [702, 8], [703, 3], [704, 4], [705, 1], [706, 8], [707, 8], [708, 8], [709, 1], [710, 5], [711, 7], [712, 8], [713, 3], [714, 5], [715, 3], [716, 6], [717, 8], [718, 8], [719, 3], [720, 8], [721, 3], [722, 8], [723, 8], [724, 2], [725, 8], [726, 1], [727, 8], [728, 3], [729, 4], [730, 3], [731, 8], [732, 3], [733, 4], [734, 6], [735, 1], [736, 8], [737, 8], [738, 1], [739, 8], [740, 7], [741, 8], [742, 8], [743, 8], [744, 3], [745, 8], [746, 4], [747, 8], [748, 3], [749, 1], [750, 8], [751, 1], [752, 1], [753, 2], [754, 3], [755, 1], [756, 1], [757, 8], [758, 2], [759, 6], [760, 8], [761, 8], [762, 3], [763, 4], [764, 2], [765, 4], [766, 8], [767, 8], [768, 7], [769, 1], [770, 3], [771, 5], [772, 3], [773, 2], [774, 4], [775, 1], [776, 1], [777, 6], [778, 8], [779, 3], [780, 3], [781, 8], [782, 3], [783, 8], [784, 2], [785, 8], [786, 8], [787, 3], [788, 8], [789, 8], [790, 3], [791, 2], [792, 8], [793, 8], [794, 5], [795, 8], [796, 8], [797, 5], [798, 4], [799, 8], [800, 8], [801, 4], [802, 10], [803, 7], [804, 5], [805, 2], [806, 7], [807, 8], [808, 2], [809, 1], [810, 10], [811, 2], [812, 8], [813, 2], [814, 3], [815, 7], [816, 9], [817, 1], [818, 2], [819, 5], [820, 8], [821, 7], [822, 2], [823, 8], [824, 7], [825, 6], [826, 1], [827, 8], [828, 7], [829, 7], [830, 2], [831, 3], [832, 8], [833, 5], [834, 7], [835, 10], [836, 8], [837, 2], [838, 1], [839, 7], [840, 7], [841, 2], [842, 2], [843, 3], [844, 2], [845, 2], [846, 5], [847, 3], [848, 7], [849, 8], [850, 2], [851, 3], [852, 4], [853, 7], [854, 2], [855, 7], [856, 1], [857, 1], [858, 7], [859, 7], [860, 1], [861, 8], [862, 6], [863, 7], [864, 7], [865, 3], [866, 7], [867, 2], [868, 2], [869, 1], [870, 7], [871, 2], [872, 2], [873, 6], [874, 8], [875, 5], [876, 5], [877, 1], [878, 5], [879, 5], [880, 7], [881, 7], [882, 2], [883, 7], [884, 8], [885, 8], [886, 7], [887, 8], [888, 8], [889, 2], [890, 2], [891, 8], [892, 1], [893, 7], [894, 2], [895, 7], [896, 8], [897, 7], [898, 8], [899, 7], [900, 8], [901, 7], [902, 3], [903, 7], [904, 8], [905, 5], [906, 4], [907, 2], [908, 2], [909, 1], [910, 2], [911, 2], [912, 2], [913, 1], [914, 1], [915, 6], [916, 2], [917, 7], [918, 2], [919, 2], [920, 5], [921, 1], [922, 7], [923, 2], [924, 2], [925, 8], [926, 7], [927, 2], [928, 2], [929, 7], [930, 3], [931, 1], [932, 2], [933, 10], [934, 2], [935, 1], [936, 2], [937, 7], [938, 2], [939, 2], [940, 7], [941, 8], [942, 2], [943, 2], [944, 2], [945, 2], [946, 3], [947, 8], [948, 2], [949, 6], [950, 2], [951, 2], [952, 3], [953, 2], [954, 7], [955, 8], [956, 1], [957, 7], [958, 5], [959, 7], [960, 2], [961, 7], [962, 7], [963, 2], [964, 7], [965, 8], [966, 7], [967, 1], [968, 2], [969, 8], [970, 7], [971, 2], [972, 8], [973, 2], [974, 7], [975, 7], [976, 8], [977, 7], [978, 6], [979, 7], [980, 2], [981, 2], [982, 8], [983, 2], [984, 2], [985, 2], [986, 8], [987, 8], [988, 2], [989, 7], [990, 2], [991, 2], [992, 2], [993, 7], [994, 5], [995, 7], [996, 7], [997, 2], [998, 1], [999, 2], [1000, 1], [1001, 2], [1002, 5], [1003, 8], [1004, 8], [1005, 1], [1006, 3], [1007, 10], [1008, 8], [1009, 8], [1010, 8], [1011, 10], [1012, 1], [1013, 3], [1014, 8], [1015, 8], [1016, 8], [1017, 8], [1018, 8], [1019, 5], [1020, 8], [1021, 3], [1022, 1], [1023, 8], [1024, 3], [1025, 4], [1026, 8], [1027, 1], [1028, 3], [1029, 8], [1030, 3], [1031, 3], [1032, 7], [1033, 2], [1034, 8], [1035, 7], [1036, 8], [1037, 6], [1038, 3], [1039, 3], [1040, 1], [1041, 5], [1042, 8], [1043, 3], [1044, 8], [1045, 3], [1046, 3], [1047, 3], [1048, 2], [1049, 8], [1050, 8], [1051, 8], [1052, 3], [1053, 1], [1054, 3], [1055, 8], [1056, 3], [1057, 8], [1058, 8], [1059, 8], [1060, 7], [1061, 8], [1062, 3], [1063, 8], [1064, 1], [1065, 7], [1066, 4], [1067, 4], [1068, 10], [1069, 8], [1070, 8], [1071, 8], [1072, 7], [1073, 5], [1074, 3], [1075, 6], [1076, 7], [1077, 3], [1078, 8], [1079, 1], [1080, 3], [1081, 8], [1082, 3], [1083, 8], [1084, 8], [1085, 1], [1086, 8], [1087, 2], [1088, 3], [1089, 3], [1090, 3], [1091, 7], [1092, 5], [1093, 7], [1094, 3], [1095, 8], [1096, 8], [1097, 8], [1098, 1], [1099, 7], [1100, 8], [1101, 3], [1102, 3], [1103, 3], [1104, 8], [1105, 8], [1106, 8], [1107, 6], [1108, 7], [1109, 1], [1110, 8], [1111, 8], [1112, 10], [1113, 8], [1114, 6], [1115, 3], [1116, 8], [1117, 1], [1118, 8], [1119, 8], [1120, 3], [1121, 2], [1122, 3], [1123, 8], [1124, 8], [1125, 8], [1126, 3], [1127, 7], [1128, 7], [1129, 6], [1130, 5], [1131, 1], [1132, 8], [1133, 3], [1134, 4], [1135, 8], [1136, 3], [1137, 8], [1138, 1], [1139, 4], [1140, 10], [1141, 8], [1142, 8], [1143, 1], [1144, 8], [1145, 7], [1146, 8], [1147, 8], [1148, 8], [1149, 3], [1150, 7], [1151, 10], [1152, 8], [1153, 7], [1154, 5], [1155, 8], [1156, 3], [1157, 8], [1158, 7], [1159, 3], [1160, 8], [1161, 2], [1162, 8], [1163, 8], [1164, 7], [1165, 2], [1166, 7], [1167, 2], [1168, 8], [1169, 7], [1170, 8], [1171, 10], [1172, 8], [1173, 3], [1174, 8], [1175, 5], [1176, 3], [1177, 1], [1178, 10], [1179, 8], [1180, 8], [1181, 8], [1182, 8], [1183, 8], [1184, 3], [1185, 8], [1186, 8], [1187, 3], [1188, 5], [1189, 8], [1190, 3], [1191, 3], [1192, 3], [1193, 8], [1194, 8], [1195, 8], [1196, 3], [1197, 10], [1198, 1], [1199, 8], [1200, 8], [1201, 4], [1202, 6], [1203, 6], [1204, 6], [1205, 10], [1206, 8], [1207, 10], [1208, 10], [1209, 8], [1210, 2], [1211, 7], [1212, 6], [1213, 2], [1214, 6], [1215, 2], [1216, 6], [1217, 9], [1218, 10], [1219, 7], [1220, 10], [1221, 6], [1222, 10], [1223, 2], [1224, 6], [1225, 2], [1226, 2], [1227, 8], [1228, 10], [1229, 3], [1230, 8], [1231, 7], [1232, 8], [1233, 10], [1234, 7], [1235, 10], [1236, 4], [1237, 6], [1238, 7], [1239, 2], [1240, 10], [1241, 7], [1242, 10], [1243, 8], [1244, 7], [1245, 6], [1246, 7], [1247, 10], [1248, 2], [1249, 10], [1250, 10], [1251, 10], [1252, 7], [1253, 10], [1254, 2], [1255, 2], [1256, 10], [1257, 10], [1258, 2], [1259, 10], [1260, 7], [1261, 6], [1262, 7], [1263, 7], [1264, 10], [1265, 7], [1266, 7], [1267, 10], [1268, 10], [1269, 10], [1270, 6], [1271, 7], [1272, 7], [1273, 7], [1274, 2], [1275, 7], [1276, 10], [1277, 7], [1278, 7], [1279, 7], [1280, 7], [1281, 10], [1282, 8], [1283, 7], [1284, 7], [1285, 6], [1286, 7], [1287, 2], [1288, 1], [1289, 7], [1290, 2], [1291, 2], [1292, 2], [1293, 10], [1294, 6], [1295, 10], [1296, 1], [1297, 7], [1298, 7], [1299, 2], [1300, 9], [1301, 4], [1302, 2], [1303, 6], [1304, 10], [1305, 10], [1306, 6], [1307, 7], [1308, 8], [1309, 7], [1310, 10], [1311, 2], [1312, 10], [1313, 7], [1314, 10], [1315, 10], [1316, 7], [1317, 7], [1318, 1], [1319, 1], [1320, 7], [1321, 2], [1322, 10], [1323, 10], [1324, 1], [1325, 8], [1326, 7], [1327, 8], [1328, 6], [1329, 6], [1330, 7], [1331, 2], [1332, 10], [1333, 7], [1334, 7], [1335, 6], [1336, 8], [1337, 10], [1338, 10], [1339, 5], [1340, 1], [1341, 10], [1342, 10], [1343, 2], [1344, 2], [1345, 7], [1346, 6], [1347, 10], [1348, 10], [1349, 10], [1350, 6], [1351, 10], [1352, 6], [1353, 9], [1354, 7], [1355, 2], [1356, 10], [1357, 6], [1358, 7], [1359, 2], [1360, 6], [1361, 8], [1362, 10], [1363, 2], [1364, 8], [1365, 10], [1366, 7], [1367, 7], [1368, 6], [1369, 7], [1370, 10], [1371, 6], [1372, 7], [1373, 6], [1374, 10], [1375, 8], [1376, 7], [1377, 4], [1378, 7], [1379, 2], [1380, 2], [1381, 8], [1382, 10], [1383, 10], [1384, 10], [1385, 6], [1386, 2], [1387, 7], [1388, 10], [1389, 10], [1390, 2], [1391, 8], [1392, 10], [1393, 10], [1394, 6], [1395, 7], [1396, 4], [1397, 8], [1398, 2], [1399, 2], [1400, 7], [1401, 5], [1402, 5], [1403, 7], [1404, 2], [1405, 10], [1406, 7], [1407, 5], [1408, 7], [1409, 5], [1410, 7], [1411, 7], [1412, 2], [1413, 2], [1414, 7], [1415, 7], [1416, 2], [1417, 7], [1418, 5], [1419, 2], [1420, 7], [1421, 5], [1422, 5], [1423, 5], [1424, 5], [1425, 5], [1426, 7], [1427, 5], [1428, 10], [1429, 2], [1430, 7], [1431, 5], [1432, 5], [1433, 2], [1434, 7], [1435, 5], [1436, 7], [1437, 4], [1438, 7], [1439, 4], [1440, 7], [1441, 5], [1442, 7], [1443, 5], [1444, 7], [1445, 2], [1446, 5], [1447, 5], [1448, 5], [1449, 5], [1450, 2], [1451, 5], [1452, 7], [1453, 5], [1454, 7], [1455, 5], [1456, 2], [1457, 2], [1458, 10], [1459, 7], [1460, 7], [1461, 7], [1462, 5], [1463, 7], [1464, 7], [1465, 5], [1466, 2], [1467, 10], [1468, 2], [1469, 2], [1470, 2], [1471, 7], [1472, 2], [1473, 5], [1474, 7], [1475, 2], [1476, 5], [1477, 7], [1478, 2], [1479, 7], [1480, 4], [1481, 7], [1482, 7], [1483, 7], [1484, 5], [1485, 7], [1486, 2], [1487, 7], [1488, 7], [1489, 2], [1490, 7], [1491, 2], [1492, 7], [1493, 2], [1494, 5], [1495, 7], [1496, 7], [1497, 5], [1498, 2], [1499, 2], [1500, 5], [1501, 7], [1502, 7], [1503, 4], [1504, 5], [1505, 7], [1506, 2], [1507, 2], [1508, 2], [1509, 5], [1510, 7], [1511, 5], [1512, 5], [1513, 2], [1514, 5], [1515, 5], [1516, 7], [1517, 10], [1518, 2], [1519, 7], [1520, 7], [1521, 2], [1522, 5], [1523, 10], [1524, 7], [1525, 7], [1526, 7], [1527, 2], [1528, 7], [1529, 2], [1530, 7], [1531, 7], [1532, 7], [1533, 2], [1534, 7], [1535, 10], [1536, 5], [1537, 7], [1538, 7], [1539, 5], [1540, 5], [1541, 7], [1542, 7], [1543, 7], [1544, 2], [1545, 7], [1546, 2], [1547, 2], [1548, 5], [1549, 2], [1550, 7], [1551, 7], [1552, 5], [1553, 2], [1554, 7], [1555, 7], [1556, 5], [1557, 4], [1558, 7], [1559, 7], [1560, 2], [1561, 2], [1562, 2], [1563, 7], [1564, 5], [1565, 2], [1566, 2], [1567, 7], [1568, 5], [1569, 4], [1570, 10], [1571, 2], [1572, 5], [1573, 10], [1574, 2], [1575, 7], [1576, 2], [1577, 2], [1578, 2], [1579, 7], [1580, 7], [1581, 7], [1582, 5], [1583, 2], [1584, 7], [1585, 7], [1586, 2], [1587, 2], [1588, 7], [1589, 5], [1590, 5], [1591, 5], [1592, 5], [1593, 5], [1594, 2], [1595, 5], [1596, 2], [1597, 5], [1598, 2], [1599, 7], [1600, 5], [1601, 6], [1602, 4], [1603, 9], [1604, 9], [1605, 9], [1606, 9], [1607, 9], [1608, 9], [1609, 9], [1610, 9], [1611, 9], [1612, 9], [1613, 8], [1614, 9], [1615, 9], [1616, 9], [1617, 9], [1618, 9], [1619, 9], [1620, 9], [1621, 9], [1622, 9], [1623, 9], [1624, 9], [1625, 9], [1626, 9], [1627, 9], [1628, 9], [1629, 9], [1630, 9], [1631, 9], [1632, 9], [1633, 9], [1634, 9], [1635, 9], [1636, 9], [1637, 9], [1638, 9], [1639, 9], [1640, 1], [1641, 9], [1642, 9], [1643, 1], [1644, 9], [1645, 9], [1646, 9], [1647, 9], [1648, 9], [1649, 9], [1650, 9], [1651, 9], [1652, 9], [1653, 9], [1654, 9], [1655, 9], [1656, 9], [1657, 9], [1658, 9], [1659, 9], [1660, 9], [1661, 9], [1662, 9], [1663, 9], [1664, 9], [1665, 9], [1666, 9], [1667, 9], [1668, 1], [1669, 9], [1670, 9], [1671, 9], [1672, 9], [1673, 9], [1674, 9], [1675, 9], [1676, 9], [1677, 9], [1678, 9], [1679, 9], [1680, 9], [1681, 9], [1682, 9], [1683, 9], [1684, 9], [1685, 9], [1686, 9], [1687, 9], [1688, 9], [1689, 9], [1690, 9], [1691, 9], [1692, 9], [1693, 9], [1694, 9], [1695, 9], [1696, 9], [1697, 1], [1698, 9], [1699, 9], [1700, 9], [1701, 9], [1702, 9], [1703, 9], [1704, 9], [1705, 9], [1706, 9], [1707, 9], [1708, 6], [1709, 9], [1710, 6], [1711, 9], [1712, 9], [1713, 9], [1714, 9], [1715, 9], [1716, 9], [1717, 9], [1718, 6], [1719, 9], [1720, 9], [1721, 9], [1722, 9], [1723, 9], [1724, 9], [1725, 9], [1726, 9], [1727, 9], [1728, 9], [1729, 9], [1730, 8], [1731, 9], [1732, 9], [1733, 9], [1734, 9], [1735, 9], [1736, 9], [1737, 1], [1738, 9], [1739, 9], [1740, 9], [1741, 9], [1742, 9], [1743, 9], [1744, 9], [1745, 9], [1746, 9], [1747, 9], [1748, 9], [1749, 9], [1750, 9], [1751, 9], [1752, 9], [1753, 9], [1754, 9], [1755, 9], [1756, 9], [1757, 9], [1758, 1], [1759, 9], [1760, 9], [1761, 9], [1762, 9], [1763, 9], [1764, 9], [1765, 9], [1766, 9], [1767, 9], [1768, 9], [1769, 9], [1770, 9], [1771, 9], [1772, 9], [1773, 9], [1774, 9], [1775, 9], [1776, 9], [1777, 9], [1778, 9], [1779, 9], [1780, 8], [1781, 9], [1782, 9], [1783, 9], [1784, 9], [1785, 9], [1786, 9], [1787, 9], [1788, 9], [1789, 9], [1790, 9], [1791, 9], [1792, 9], [1793, 9], [1794, 9], [1795, 9], [1796, 9], [1797, 9], [1798, 9], [1799, 9], [1800, 9], [1801, 7], [1802, 10], [1803, 1], [1804, 7], [1805, 8], [1806, 7], [1807, 8], [1808, 4], [1809, 7], [1810, 10], [1811, 7], [1812, 10], [1813, 10], [1814, 7], [1815, 8], [1816, 7], [1817, 6], [1818, 6], [1819, 2], [1820, 6], [1821, 8], [1822, 10], [1823, 8], [1824, 10], [1825, 8], [1826, 6], [1827, 7], [1828, 7], [1829, 3], [1830, 8], [1831, 2], [1832, 10], [1833, 6], [1834, 8], [1835, 7], [1836, 2], [1837, 8], [1838, 2], [1839, 9], [1840, 7], [1841, 10], [1842, 8], [1843, 2], [1844, 7], [1845, 2], [1846, 7], [1847, 9], [1848, 6], [1849, 10], [1850, 1], [1851, 10], [1852, 6], [1853, 6], [1854, 7], [1855, 7], [1856, 2], [1857, 10], [1858, 4], [1859, 7], [1860, 7], [1861, 2], [1862, 8], [1863, 4], [1864, 7], [1865, 8], [1866, 7], [1867, 7], [1868, 10], [1869, 2], [1870, 10], [1871, 1], [1872, 10], [1873, 1], [1874, 2], [1875, 7], [1876, 10], [1877, 2], [1878, 8], [1879, 10], [1880, 10], [1881, 9], [1882, 10], [1883, 8], [1884, 6], [1885, 1], [1886, 6], [1887, 6], [1888, 7], [1889, 2], [1890, 6], [1891, 10], [1892, 6], [1893, 3], [1894, 7], [1895, 7], [1896, 4], [1897, 6], [1898, 7], [1899, 7], [1900, 10], [1901, 8], [1902, 7], [1903, 10], [1904, 10], [1905, 7], [1906, 2], [1907, 10], [1908, 6], [1909, 7], [1910, 10], [1911, 2], [1912, 6], [1913, 1], [1914, 6], [1915, 1], [1916, 5], [1917, 10], [1918, 8], [1919, 6], [1920, 2], [1921, 7], [1922, 6], [1923, 10], [1924, 10], [1925, 10], [1926, 6], [1927, 6], [1928, 6], [1929, 6], [1930, 2], [1931, 7], [1932, 6], [1933, 10], [1934, 7], [1935, 8], [1936, 2], [1937, 6], [1938, 7], [1939, 7], [1940, 4], [1941, 2], [1942, 7], [1943, 7], [1944, 7], [1945, 7], [1946, 2], [1947, 10], [1948, 2], [1949, 2], [1950, 2], [1951, 7], [1952, 7], [1953, 7], [1954, 7], [1955, 5], [1956, 6], [1957, 8], [1958, 10], [1959, 10], [1960, 10], [1961, 8], [1962, 2], [1963, 7], [1964, 2], [1965, 7], [1966, 10], [1967, 7], [1968, 6], [1969, 8], [1970, 7], [1971, 8], [1972, 2], [1973, 10], [1974, 7], [1975, 2], [1976, 10], [1977, 10], [1978, 8], [1979, 7], [1980, 8], [1981, 7], [1982, 10], [1983, 10], [1984, 7], [1985, 2], [1986, 10], [1987, 6], [1988, 10], [1989, 10], [1990, 10], [1991, 6], [1992, 2], [1993, 8], [1994, 6], [1995, 7], [1996, 6], [1997, 2], [1998, 10], [1999, 10], [2000, 3]]\n"
          ],
          "name": "stdout"
        }
      ]
    },
    {
      "cell_type": "code",
      "metadata": {
        "id": "XMMuzMOt3BSH",
        "colab_type": "code",
        "colab": {}
      },
      "source": [
        ""
      ],
      "execution_count": null,
      "outputs": []
    }
  ]
}