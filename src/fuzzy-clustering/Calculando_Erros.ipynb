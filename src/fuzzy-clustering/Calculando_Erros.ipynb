{
  "nbformat": 4,
  "nbformat_minor": 0,
  "metadata": {
    "colab": {
      "name": "Calculando Erros.ipynb",
      "provenance": []
    },
    "kernelspec": {
      "name": "python3",
      "display_name": "Python 3"
    }
  },
  "cells": [
    {
      "cell_type": "code",
      "metadata": {
        "id": "I49IJDVeIeAS",
        "colab_type": "code",
        "colab": {
          "base_uri": "https://localhost:8080/",
          "height": 34
        },
        "outputId": "1c852559-5134-4b55-af50-2736ccb6c175"
      },
      "source": [
        "# imports\n",
        "import numpy as np\n",
        "import pandas as pd\n",
        "import matplotlib.pyplot as plt\n",
        "import cv2\n",
        "from google.colab import drive\n",
        "import argparse\n",
        "import sys,os\n",
        "from sklearn import preprocessing\n",
        "\n",
        "drive.mount('/content/gdrive')"
      ],
      "execution_count": 1,
      "outputs": [
        {
          "output_type": "stream",
          "text": [
            "Drive already mounted at /content/gdrive; to attempt to forcibly remount, call drive.mount(\"/content/gdrive\", force_remount=True).\n"
          ],
          "name": "stdout"
        }
      ]
    },
    {
      "cell_type": "markdown",
      "metadata": {
        "id": "KBg4YP5TRbMI",
        "colab_type": "text"
      },
      "source": [
        "## Importando os dados e gerando a matriz resultado"
      ]
    },
    {
      "cell_type": "code",
      "metadata": {
        "id": "BBwoXi1YIW04",
        "colab_type": "code",
        "colab": {}
      },
      "source": [
        "## Importando os dados\n",
        "\n",
        "dir = \"/content/gdrive/My Drive/\"\n",
        "dir_local = os.getcwd() # path para rodar em máquina local ao invés do colab\n",
        "\n",
        "kar = pd.read_csv(os.path.join(dir,'data/mfeat-kar'),  delim_whitespace=True, header= None)\n",
        "fou = pd.read_csv(os.path.join(dir,'data/mfeat-fou'),  delim_whitespace=True, header= None)\n",
        "fac = pd.read_csv(os.path.join(dir,'data/mfeat-fac'),  delim_whitespace=True, header= None)\n"
      ],
      "execution_count": 2,
      "outputs": []
    },
    {
      "cell_type": "code",
      "metadata": {
        "id": "Af4Bti_9IFxK",
        "colab_type": "code",
        "colab": {
          "base_uri": "https://localhost:8080/",
          "height": 867
        },
        "outputId": "b96c8427-e503-4754-d6aa-1778338f6ef7"
      },
      "source": [
        "# Criando as classes para o dataset\n",
        "\n",
        "finais = []\n",
        "for i in [kar]:\n",
        "  # Separando as classes\n",
        "  c_200 = i[0:200]\n",
        "  c_400 = i[200:400]\n",
        "  c_600 = i[400:600]\n",
        "  c_800 = i[600:800]\n",
        "  c_1000 = i[800:1000]\n",
        "  c_1200 = i[1000:1200]\n",
        "  c_1400 = i[1200:1400]\n",
        "  c_1600 = i[1400:1600]\n",
        "  c_1800 = i[1600:1800]\n",
        "  c_2000 = i[1800:2000]\n",
        "\n",
        "  # Atribuindo as classes\n",
        "  c_200[\"class\"] = 0\n",
        "  c_400[\"class\"] = 1\n",
        "  c_600[\"class\"] = 2\n",
        "  c_800[\"class\"] = 3\n",
        "  c_1000[\"class\"] = 4\n",
        "  c_1200[\"class\"] = 5\n",
        "  c_1400[\"class\"] = 6\n",
        "  c_1600[\"class\"] = 7\n",
        "  c_1800[\"class\"] = 8\n",
        "  c_2000[\"class\"] = 9\n",
        "\n",
        "  # juntando o dataset novamente\n",
        "  lista_datasets = [c_400,c_600,c_800,c_1000,c_1200,c_1400,c_1600,c_1800,c_2000]\n",
        "  final = c_200\n",
        "  for j in lista_datasets:\n",
        "    final = final.append(j)\n",
        " # salvando datasets finais\n",
        "  finais.append(final)\n",
        "\n",
        "kar_final = finais[0]"
      ],
      "execution_count": 3,
      "outputs": [
        {
          "output_type": "stream",
          "text": [
            "/usr/local/lib/python3.6/dist-packages/ipykernel_launcher.py:18: SettingWithCopyWarning: \n",
            "A value is trying to be set on a copy of a slice from a DataFrame.\n",
            "Try using .loc[row_indexer,col_indexer] = value instead\n",
            "\n",
            "See the caveats in the documentation: https://pandas.pydata.org/pandas-docs/stable/user_guide/indexing.html#returning-a-view-versus-a-copy\n",
            "/usr/local/lib/python3.6/dist-packages/ipykernel_launcher.py:19: SettingWithCopyWarning: \n",
            "A value is trying to be set on a copy of a slice from a DataFrame.\n",
            "Try using .loc[row_indexer,col_indexer] = value instead\n",
            "\n",
            "See the caveats in the documentation: https://pandas.pydata.org/pandas-docs/stable/user_guide/indexing.html#returning-a-view-versus-a-copy\n",
            "/usr/local/lib/python3.6/dist-packages/ipykernel_launcher.py:20: SettingWithCopyWarning: \n",
            "A value is trying to be set on a copy of a slice from a DataFrame.\n",
            "Try using .loc[row_indexer,col_indexer] = value instead\n",
            "\n",
            "See the caveats in the documentation: https://pandas.pydata.org/pandas-docs/stable/user_guide/indexing.html#returning-a-view-versus-a-copy\n",
            "/usr/local/lib/python3.6/dist-packages/ipykernel_launcher.py:21: SettingWithCopyWarning: \n",
            "A value is trying to be set on a copy of a slice from a DataFrame.\n",
            "Try using .loc[row_indexer,col_indexer] = value instead\n",
            "\n",
            "See the caveats in the documentation: https://pandas.pydata.org/pandas-docs/stable/user_guide/indexing.html#returning-a-view-versus-a-copy\n",
            "/usr/local/lib/python3.6/dist-packages/ipykernel_launcher.py:22: SettingWithCopyWarning: \n",
            "A value is trying to be set on a copy of a slice from a DataFrame.\n",
            "Try using .loc[row_indexer,col_indexer] = value instead\n",
            "\n",
            "See the caveats in the documentation: https://pandas.pydata.org/pandas-docs/stable/user_guide/indexing.html#returning-a-view-versus-a-copy\n",
            "/usr/local/lib/python3.6/dist-packages/ipykernel_launcher.py:23: SettingWithCopyWarning: \n",
            "A value is trying to be set on a copy of a slice from a DataFrame.\n",
            "Try using .loc[row_indexer,col_indexer] = value instead\n",
            "\n",
            "See the caveats in the documentation: https://pandas.pydata.org/pandas-docs/stable/user_guide/indexing.html#returning-a-view-versus-a-copy\n",
            "/usr/local/lib/python3.6/dist-packages/ipykernel_launcher.py:24: SettingWithCopyWarning: \n",
            "A value is trying to be set on a copy of a slice from a DataFrame.\n",
            "Try using .loc[row_indexer,col_indexer] = value instead\n",
            "\n",
            "See the caveats in the documentation: https://pandas.pydata.org/pandas-docs/stable/user_guide/indexing.html#returning-a-view-versus-a-copy\n",
            "/usr/local/lib/python3.6/dist-packages/ipykernel_launcher.py:25: SettingWithCopyWarning: \n",
            "A value is trying to be set on a copy of a slice from a DataFrame.\n",
            "Try using .loc[row_indexer,col_indexer] = value instead\n",
            "\n",
            "See the caveats in the documentation: https://pandas.pydata.org/pandas-docs/stable/user_guide/indexing.html#returning-a-view-versus-a-copy\n",
            "/usr/local/lib/python3.6/dist-packages/ipykernel_launcher.py:26: SettingWithCopyWarning: \n",
            "A value is trying to be set on a copy of a slice from a DataFrame.\n",
            "Try using .loc[row_indexer,col_indexer] = value instead\n",
            "\n",
            "See the caveats in the documentation: https://pandas.pydata.org/pandas-docs/stable/user_guide/indexing.html#returning-a-view-versus-a-copy\n",
            "/usr/local/lib/python3.6/dist-packages/ipykernel_launcher.py:27: SettingWithCopyWarning: \n",
            "A value is trying to be set on a copy of a slice from a DataFrame.\n",
            "Try using .loc[row_indexer,col_indexer] = value instead\n",
            "\n",
            "See the caveats in the documentation: https://pandas.pydata.org/pandas-docs/stable/user_guide/indexing.html#returning-a-view-versus-a-copy\n"
          ],
          "name": "stderr"
        }
      ]
    },
    {
      "cell_type": "code",
      "metadata": {
        "id": "wXvhyf06O6uk",
        "colab_type": "code",
        "colab": {}
      },
      "source": [
        "table_results = pd.DataFrame()\n",
        "table_results[\"partition\"] = kar_final[\"class\"]\n",
        "table_results[\"instance\"] = kar_final.index\n",
        "table_results[\"instance\"] = table_results[\"instance\"] + 1\n",
        "\n",
        "\n",
        "table_results.set_index('instance', inplace= True)\n",
        "\n",
        "table_results.sort_index(inplace=True)"
      ],
      "execution_count": 4,
      "outputs": []
    },
    {
      "cell_type": "code",
      "metadata": {
        "id": "PYUCLrHQPtQc",
        "colab_type": "code",
        "colab": {
          "base_uri": "https://localhost:8080/",
          "height": 450
        },
        "outputId": "e48d9012-2c75-4a4f-fffb-ef0b8023549c"
      },
      "source": [
        "table_results"
      ],
      "execution_count": 5,
      "outputs": [
        {
          "output_type": "execute_result",
          "data": {
            "text/html": [
              "<div>\n",
              "<style scoped>\n",
              "    .dataframe tbody tr th:only-of-type {\n",
              "        vertical-align: middle;\n",
              "    }\n",
              "\n",
              "    .dataframe tbody tr th {\n",
              "        vertical-align: top;\n",
              "    }\n",
              "\n",
              "    .dataframe thead th {\n",
              "        text-align: right;\n",
              "    }\n",
              "</style>\n",
              "<table border=\"1\" class=\"dataframe\">\n",
              "  <thead>\n",
              "    <tr style=\"text-align: right;\">\n",
              "      <th></th>\n",
              "      <th>partition</th>\n",
              "    </tr>\n",
              "    <tr>\n",
              "      <th>instance</th>\n",
              "      <th></th>\n",
              "    </tr>\n",
              "  </thead>\n",
              "  <tbody>\n",
              "    <tr>\n",
              "      <th>1</th>\n",
              "      <td>0</td>\n",
              "    </tr>\n",
              "    <tr>\n",
              "      <th>2</th>\n",
              "      <td>0</td>\n",
              "    </tr>\n",
              "    <tr>\n",
              "      <th>3</th>\n",
              "      <td>0</td>\n",
              "    </tr>\n",
              "    <tr>\n",
              "      <th>4</th>\n",
              "      <td>0</td>\n",
              "    </tr>\n",
              "    <tr>\n",
              "      <th>5</th>\n",
              "      <td>0</td>\n",
              "    </tr>\n",
              "    <tr>\n",
              "      <th>...</th>\n",
              "      <td>...</td>\n",
              "    </tr>\n",
              "    <tr>\n",
              "      <th>1996</th>\n",
              "      <td>9</td>\n",
              "    </tr>\n",
              "    <tr>\n",
              "      <th>1997</th>\n",
              "      <td>9</td>\n",
              "    </tr>\n",
              "    <tr>\n",
              "      <th>1998</th>\n",
              "      <td>9</td>\n",
              "    </tr>\n",
              "    <tr>\n",
              "      <th>1999</th>\n",
              "      <td>9</td>\n",
              "    </tr>\n",
              "    <tr>\n",
              "      <th>2000</th>\n",
              "      <td>9</td>\n",
              "    </tr>\n",
              "  </tbody>\n",
              "</table>\n",
              "<p>2000 rows × 1 columns</p>\n",
              "</div>"
            ],
            "text/plain": [
              "          partition\n",
              "instance           \n",
              "1                 0\n",
              "2                 0\n",
              "3                 0\n",
              "4                 0\n",
              "5                 0\n",
              "...             ...\n",
              "1996              9\n",
              "1997              9\n",
              "1998              9\n",
              "1999              9\n",
              "2000              9\n",
              "\n",
              "[2000 rows x 1 columns]"
            ]
          },
          "metadata": {
            "tags": []
          },
          "execution_count": 5
        }
      ]
    },
    {
      "cell_type": "markdown",
      "metadata": {
        "id": "l9xugUn_ZN3O",
        "colab_type": "text"
      },
      "source": [
        "## Importando partições crisp"
      ]
    },
    {
      "cell_type": "code",
      "metadata": {
        "id": "mr5gA-2CP1lH",
        "colab_type": "code",
        "colab": {
          "base_uri": "https://localhost:8080/",
          "height": 450
        },
        "outputId": "ee44a905-9aaa-4b13-c753-ad867a02c199"
      },
      "source": [
        "y_kar = pd.read_csv(os.path.join(dir,'data/y_kar.csv'), sep=\";\")\n",
        "y_fou = pd.read_csv(os.path.join(dir,'data/y_fou.csv'), sep=\";\")\n",
        "y_fac = pd.read_csv(os.path.join(dir,'data/y_fac.csv'), sep=\";\")\n",
        "\n",
        "y_kar.set_index('instance', inplace= True)\n",
        "y_fou.set_index('instance', inplace= True)\n",
        "y_fac.set_index('instance', inplace= True)\n",
        "\n",
        "y_kar.sort_index(inplace=True)\n",
        "y_fou.sort_index(inplace=True)\n",
        "y_fac.sort_index(inplace=True)\n",
        "\n",
        "y_fac"
      ],
      "execution_count": 6,
      "outputs": [
        {
          "output_type": "execute_result",
          "data": {
            "text/html": [
              "<div>\n",
              "<style scoped>\n",
              "    .dataframe tbody tr th:only-of-type {\n",
              "        vertical-align: middle;\n",
              "    }\n",
              "\n",
              "    .dataframe tbody tr th {\n",
              "        vertical-align: top;\n",
              "    }\n",
              "\n",
              "    .dataframe thead th {\n",
              "        text-align: right;\n",
              "    }\n",
              "</style>\n",
              "<table border=\"1\" class=\"dataframe\">\n",
              "  <thead>\n",
              "    <tr style=\"text-align: right;\">\n",
              "      <th></th>\n",
              "      <th>partition</th>\n",
              "    </tr>\n",
              "    <tr>\n",
              "      <th>instance</th>\n",
              "      <th></th>\n",
              "    </tr>\n",
              "  </thead>\n",
              "  <tbody>\n",
              "    <tr>\n",
              "      <th>1</th>\n",
              "      <td>5</td>\n",
              "    </tr>\n",
              "    <tr>\n",
              "      <th>2</th>\n",
              "      <td>5</td>\n",
              "    </tr>\n",
              "    <tr>\n",
              "      <th>3</th>\n",
              "      <td>5</td>\n",
              "    </tr>\n",
              "    <tr>\n",
              "      <th>4</th>\n",
              "      <td>5</td>\n",
              "    </tr>\n",
              "    <tr>\n",
              "      <th>5</th>\n",
              "      <td>5</td>\n",
              "    </tr>\n",
              "    <tr>\n",
              "      <th>...</th>\n",
              "      <td>...</td>\n",
              "    </tr>\n",
              "    <tr>\n",
              "      <th>1996</th>\n",
              "      <td>9</td>\n",
              "    </tr>\n",
              "    <tr>\n",
              "      <th>1997</th>\n",
              "      <td>1</td>\n",
              "    </tr>\n",
              "    <tr>\n",
              "      <th>1998</th>\n",
              "      <td>1</td>\n",
              "    </tr>\n",
              "    <tr>\n",
              "      <th>1999</th>\n",
              "      <td>4</td>\n",
              "    </tr>\n",
              "    <tr>\n",
              "      <th>2000</th>\n",
              "      <td>7</td>\n",
              "    </tr>\n",
              "  </tbody>\n",
              "</table>\n",
              "<p>2000 rows × 1 columns</p>\n",
              "</div>"
            ],
            "text/plain": [
              "          partition\n",
              "instance           \n",
              "1                 5\n",
              "2                 5\n",
              "3                 5\n",
              "4                 5\n",
              "5                 5\n",
              "...             ...\n",
              "1996              9\n",
              "1997              1\n",
              "1998              1\n",
              "1999              4\n",
              "2000              7\n",
              "\n",
              "[2000 rows x 1 columns]"
            ]
          },
          "metadata": {
            "tags": []
          },
          "execution_count": 6
        }
      ]
    },
    {
      "cell_type": "markdown",
      "metadata": {
        "id": "W8FyPVoQY_pG",
        "colab_type": "text"
      },
      "source": [
        "## Índice de Rand Corrigido"
      ]
    },
    {
      "cell_type": "code",
      "metadata": {
        "id": "3SI9XKrZSABo",
        "colab_type": "code",
        "colab": {
          "base_uri": "https://localhost:8080/",
          "height": 85
        },
        "outputId": "be2f25f6-4e0c-4539-af98-cc4c5002ff2c"
      },
      "source": [
        "from sklearn.metrics import adjusted_rand_score\n",
        "\n",
        "\n",
        "# kar\n",
        "kar_rand = adjusted_rand_score(table_results[\"partition\"], y_kar[\"partition\"])\n",
        "# fou\n",
        "fou_rand = adjusted_rand_score(table_results[\"partition\"], y_fou[\"partition\"])\n",
        "# fac\n",
        "fac_rand = adjusted_rand_score(table_results[\"partition\"], y_fac[\"partition\"])\n",
        "\n",
        "\n",
        "\n",
        "print(\"Índice de Rand Corrigido\")\n",
        "print(\"kar: \", kar_rand)\n",
        "print(\"fou: \", fou_rand)\n",
        "print(\"fac: \", fac_rand)\n"
      ],
      "execution_count": 7,
      "outputs": [
        {
          "output_type": "stream",
          "text": [
            "Índice de Rand Corrigido\n",
            "kar:  0.19568019163639314\n",
            "fou:  0.1724784187969813\n",
            "fac:  0.44049672931206224\n"
          ],
          "name": "stdout"
        }
      ]
    },
    {
      "cell_type": "markdown",
      "metadata": {
        "id": "A9naegpJY8xF",
        "colab_type": "text"
      },
      "source": [
        "## F-Measure"
      ]
    },
    {
      "cell_type": "code",
      "metadata": {
        "id": "thlDPKzVTZUk",
        "colab_type": "code",
        "colab": {
          "base_uri": "https://localhost:8080/",
          "height": 85
        },
        "outputId": "6a3ab882-d0de-4fe7-eed3-5bc2ee8e150f"
      },
      "source": [
        "from sklearn.metrics import f1_score\n",
        "\n",
        "# kar\n",
        "kar_f1 = f1_score(table_results[\"partition\"], y_kar[\"partition\"], average='weighted')\n",
        "# fou\n",
        "fou_f1 = f1_score(table_results[\"partition\"], y_fou[\"partition\"], average='weighted')\n",
        "# fac\n",
        "fac_f1 = f1_score(table_results[\"partition\"], y_fac[\"partition\"], average='weighted')\n",
        "\n",
        "print(\"F-Measure\")\n",
        "print(\"kar: \", kar_f1)\n",
        "print(\"fou: \", fou_f1)\n",
        "print(\"fac: \", fac_f1)"
      ],
      "execution_count": 8,
      "outputs": [
        {
          "output_type": "stream",
          "text": [
            "F-Measure\n",
            "kar:  0.0844735681370224\n",
            "fou:  0.10654205663321853\n",
            "fac:  0.21156578506503093\n"
          ],
          "name": "stdout"
        }
      ]
    },
    {
      "cell_type": "markdown",
      "metadata": {
        "id": "GJmwVVMBY6Sq",
        "colab_type": "text"
      },
      "source": [
        "## Classification Report"
      ]
    },
    {
      "cell_type": "code",
      "metadata": {
        "id": "EAJS0xi-Vxhy",
        "colab_type": "code",
        "colab": {}
      },
      "source": [
        "from sklearn.metrics import classification_report\n",
        "\n",
        "# kar\n",
        "kar_c = classification_report(table_results[\"partition\"], y_kar[\"partition\"])\n",
        "# fou\n",
        "fou_c = classification_report(table_results[\"partition\"], y_fou[\"partition\"])\n",
        "# fac\n",
        "fac_c = classification_report(table_results[\"partition\"], y_fac[\"partition\"])\n"
      ],
      "execution_count": 9,
      "outputs": []
    },
    {
      "cell_type": "markdown",
      "metadata": {
        "id": "fI-mfnixZdIP",
        "colab_type": "text"
      },
      "source": [
        "### kar"
      ]
    },
    {
      "cell_type": "code",
      "metadata": {
        "id": "JPUgMtQtZiD3",
        "colab_type": "code",
        "colab": {
          "base_uri": "https://localhost:8080/",
          "height": 306
        },
        "outputId": "fce00b4c-ba60-46d7-8c58-8d406a567534"
      },
      "source": [
        "print(kar_c)"
      ],
      "execution_count": 10,
      "outputs": [
        {
          "output_type": "stream",
          "text": [
            "              precision    recall  f1-score   support\n",
            "\n",
            "           0       0.24      0.26      0.25       200\n",
            "           1       0.15      0.28      0.20       200\n",
            "           2       0.01      0.01      0.01       200\n",
            "           3       0.02      0.01      0.01       200\n",
            "           4       0.05      0.04      0.04       200\n",
            "           5       0.07      0.05      0.06       200\n",
            "           6       0.29      0.12      0.17       200\n",
            "           7       0.00      0.01      0.00       200\n",
            "           8       0.02      0.04      0.03       200\n",
            "           9       0.10      0.06      0.07       200\n",
            "\n",
            "    accuracy                           0.09      2000\n",
            "   macro avg       0.10      0.09      0.08      2000\n",
            "weighted avg       0.10      0.09      0.08      2000\n",
            "\n"
          ],
          "name": "stdout"
        }
      ]
    },
    {
      "cell_type": "markdown",
      "metadata": {
        "id": "YOa2Qx6zZYei",
        "colab_type": "text"
      },
      "source": [
        "### fou"
      ]
    },
    {
      "cell_type": "code",
      "metadata": {
        "id": "wzu-ro2jWh4B",
        "colab_type": "code",
        "colab": {
          "base_uri": "https://localhost:8080/",
          "height": 306
        },
        "outputId": "281d37b3-5120-4c71-a224-e4c9b33c6a59"
      },
      "source": [
        "print(fou_c)"
      ],
      "execution_count": 11,
      "outputs": [
        {
          "output_type": "stream",
          "text": [
            "              precision    recall  f1-score   support\n",
            "\n",
            "           0       0.08      0.08      0.08       200\n",
            "           1       0.06      0.08      0.07       200\n",
            "           2       0.30      0.12      0.17       200\n",
            "           3       0.11      0.12      0.12       200\n",
            "           4       0.16      0.09      0.11       200\n",
            "           5       0.15      0.18      0.16       200\n",
            "           6       0.30      0.40      0.34       200\n",
            "           7       0.00      0.00      0.00       200\n",
            "           8       0.01      0.01      0.01       200\n",
            "           9       0.01      0.01      0.01       200\n",
            "\n",
            "    accuracy                           0.11      2000\n",
            "   macro avg       0.12      0.11      0.11      2000\n",
            "weighted avg       0.12      0.11      0.11      2000\n",
            "\n"
          ],
          "name": "stdout"
        }
      ]
    },
    {
      "cell_type": "markdown",
      "metadata": {
        "id": "PdahOWGnZVLR",
        "colab_type": "text"
      },
      "source": [
        "### fac"
      ]
    },
    {
      "cell_type": "code",
      "metadata": {
        "id": "QXzuesdBWj4s",
        "colab_type": "code",
        "colab": {
          "base_uri": "https://localhost:8080/",
          "height": 306
        },
        "outputId": "08fe5756-1474-4ab9-b2b6-7cf7fcea095a"
      },
      "source": [
        "print(fac_c)"
      ],
      "execution_count": 12,
      "outputs": [
        {
          "output_type": "stream",
          "text": [
            "              precision    recall  f1-score   support\n",
            "\n",
            "           0       0.09      0.04      0.06       200\n",
            "           1       0.53      0.64      0.58       200\n",
            "           2       0.63      0.85      0.72       200\n",
            "           3       0.00      0.00      0.00       200\n",
            "           4       0.00      0.00      0.00       200\n",
            "           5       0.04      0.04      0.04       200\n",
            "           6       0.00      0.00      0.00       200\n",
            "           7       0.57      0.73      0.64       200\n",
            "           8       0.01      0.01      0.01       200\n",
            "           9       0.07      0.07      0.07       200\n",
            "\n",
            "    accuracy                           0.24      2000\n",
            "   macro avg       0.19      0.24      0.21      2000\n",
            "weighted avg       0.19      0.24      0.21      2000\n",
            "\n"
          ],
          "name": "stdout"
        }
      ]
    },
    {
      "cell_type": "markdown",
      "metadata": {
        "id": "5NhJKDiiXdrH",
        "colab_type": "text"
      },
      "source": [
        "## Matriz de Confusão"
      ]
    },
    {
      "cell_type": "markdown",
      "metadata": {
        "id": "KSV_kFaAYfnY",
        "colab_type": "text"
      },
      "source": [
        "### kar"
      ]
    },
    {
      "cell_type": "code",
      "metadata": {
        "id": "v-EHEvj6XdLe",
        "colab_type": "code",
        "colab": {
          "base_uri": "https://localhost:8080/",
          "height": 349
        },
        "outputId": "29f70b20-e4e2-4772-9d2f-24ecda79f517"
      },
      "source": [
        "import seaborn as sns\n",
        "import matplotlib.pyplot as plt\n",
        "from sklearn.metrics import confusion_matrix     \n",
        "\n",
        "cm = confusion_matrix(table_results[\"partition\"], y_kar[\"partition\"])\n",
        "ax= plt.subplot()\n",
        "sns.heatmap(cm, annot=True, ax = ax, cmap=\"YlGnBu\"); #annot=True to annotate cells\n",
        "\n",
        "# labels, title and ticks\n",
        "ax.set_xlabel('Predicted labels');ax.set_ylabel('True labels'); \n",
        "ax.set_title('Confusion Matrix'); "
      ],
      "execution_count": 13,
      "outputs": [
        {
          "output_type": "stream",
          "text": [
            "/usr/local/lib/python3.6/dist-packages/statsmodels/tools/_testing.py:19: FutureWarning: pandas.util.testing is deprecated. Use the functions in the public API at pandas.testing instead.\n",
            "  import pandas.util.testing as tm\n"
          ],
          "name": "stderr"
        },
        {
          "output_type": "display_data",
          "data": {
            "image/png": "[encoded data removed]",
            "text/plain": [
              "<Figure size 432x288 with 2 Axes>"
            ]
          },
          "metadata": {
            "tags": [],
            "needs_background": "light"
          }
        }
      ]
    },
    {
      "cell_type": "markdown",
      "metadata": {
        "id": "KupuazalYm9k",
        "colab_type": "text"
      },
      "source": [
        "### fou"
      ]
    },
    {
      "cell_type": "code",
      "metadata": {
        "id": "IwCwBatLYpUA",
        "colab_type": "code",
        "colab": {
          "base_uri": "https://localhost:8080/",
          "height": 295
        },
        "outputId": "10ef8272-04a8-4225-ddde-ac61a4f2c3a2"
      },
      "source": [
        "cm = confusion_matrix(table_results[\"partition\"], y_fou[\"partition\"])\n",
        "ax= plt.subplot()\n",
        "sns.heatmap(cm, annot=True, ax = ax, cmap=\"YlGnBu\"); #annot=True to annotate cells\n",
        "\n",
        "# labels, title and ticks\n",
        "ax.set_xlabel('Predicted labels');ax.set_ylabel('True labels'); \n",
        "ax.set_title('Confusion Matrix'); "
      ],
      "execution_count": 14,
      "outputs": [
        {
          "output_type": "display_data",
          "data": {
            "image/png": "[encoded data removed]",
            "text/plain": [
              "<Figure size 432x288 with 2 Axes>"
            ]
          },
          "metadata": {
            "tags": [],
            "needs_background": "light"
          }
        }
      ]
    },
    {
      "cell_type": "markdown",
      "metadata": {
        "id": "OulZ7slUYpnK",
        "colab_type": "text"
      },
      "source": [
        "### fac"
      ]
    },
    {
      "cell_type": "code",
      "metadata": {
        "id": "fTf_wsp5Yq3l",
        "colab_type": "code",
        "colab": {
          "base_uri": "https://localhost:8080/",
          "height": 295
        },
        "outputId": "2fd7cdb3-d174-40e0-83c7-02dfd48eca6d"
      },
      "source": [
        "cm = confusion_matrix(table_results[\"partition\"], y_fac[\"partition\"])\n",
        "ax= plt.subplot()\n",
        "sns.heatmap(cm, annot=True, ax = ax, cmap=\"YlGnBu\"); #annot=True to annotate cells\n",
        "\n",
        "# labels, title and ticks\n",
        "ax.set_xlabel('Predicted labels');ax.set_ylabel('True labels'); \n",
        "ax.set_title('Confusion Matrix'); "
      ],
      "execution_count": 15,
      "outputs": [
        {
          "output_type": "display_data",
          "data": {
            "image/png": "[encoded data removed]",
            "text/plain": [
              "<Figure size 432x288 with 2 Axes>"
            ]
          },
          "metadata": {
            "tags": [],
            "needs_background": "light"
          }
        }
      ]
    }
  ]
}