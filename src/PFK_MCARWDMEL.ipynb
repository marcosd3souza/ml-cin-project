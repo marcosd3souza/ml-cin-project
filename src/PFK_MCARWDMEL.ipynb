{
  "nbformat": 4,
  "nbformat_minor": 0,
  "metadata": {
    "colab": {
      "name": "PFK-MCARWDMEL.ipynb",
      "provenance": [],
      "collapsed_sections": []
    },
    "kernelspec": {
      "name": "python3",
      "display_name": "Python 3"
    }
  },
  "cells": [
    {
      "cell_type": "markdown",
      "metadata": {
        "id": "gtPXHTBzGte6",
        "colab_type": "text"
      },
      "source": [
        "Este algoritmo é projetado para fornecer uma partição fuzzy e um protótipo para cada cluster fuzzy, além de aprender um peso de relevância para cada matriz de dissimilaridade que muda na iteração de cada algoritmo e é diferente de um cluster fuzzy para outro."
      ]
    },
    {
      "cell_type": "code",
      "metadata": {
        "id": "43XWlIhzEf_x",
        "colab_type": "code",
        "colab": {}
      },
      "source": [
        "# PARÂMETROS INICIAIS\n",
        "\n",
        "K = 3 # Número de classes\n",
        "N = 6 # Número de objetos\n",
        "t = 0 # tempo inicial\n",
        "m = 1.6 # valor m \n",
        "T = 150  # Número máximo de rodadas\n",
        "e = 1e-10 # Erro permissível\n",
        "s = 1 # valor s \n",
        "q = 1 # cardinalidade q"
      ],
      "execution_count": 1,
      "outputs": []
    },
    {
      "cell_type": "code",
      "metadata": {
        "id": "aJhhcX0AFuN9",
        "colab_type": "code",
        "colab": {}
      },
      "source": [
        "# Dados de entrada\n",
        "p1 = 3 # 3 variaveis descritivas para cada objeto\n",
        "p2 = 4 # 4 variaveis descritivas para cada objeto\n",
        "\n",
        "# Matrizes de objetos e_i normalziados\n",
        "E1 = [[0.13043, 0.32609, 0.44022],\n",
        "     [0.45109, 0.03804, 0.91304],\n",
        "     [0.4837, 0.34783, 0.47283],\n",
        "     [0.34783, 0.4837, 1.0],\n",
        "     [0.49457, 0.0, 0.57609],\n",
        "     [0.49457, 0.0, 0.40761]]\n",
        "E2 = [[0.1005, 0.80905, 1.0, 0.8593],\n",
        "      [0.31658, 0.64824, 0.46231, 0.61809],\n",
        "      [0.31658, 0.1809, 0.66332, 0.84422],\n",
        "      [0.79899, 0.08543, 0.78392, 0.78392],\n",
        "      [0.67839, 0.71357, 0.85427, 0.73367],\n",
        "      [0.73367, 0.40201, 0.0, 0.1005]]\n",
        "\n",
        "# Matrizes de Dissimilaridade\n",
        "D1 = [[0.0, 0.6398, 0.3554, 0.6208, 0.5073, 0.4898],\n",
        "     [0.6398, 0.0, 0.5392, 0.4656, 0.3418, 0.5087],\n",
        "     [0.3554, 0.5392, 0.0, 0.5610, 0.3629, 0.3540],\n",
        "     [0.6208, 0.4656, 0.5610, 0.0, 0.6596, 0.7787],\n",
        "     [0.5073, 0.3418, 0.3629, 0.6596, 0.0, 0.1684],\n",
        "     [0.4898, 0.5087, 0.3540, 0.7787, 0.1684, 0.0]]\n",
        "D2 = [[0.0, 0.64795, 0.74488, 1.03145, 0.61652, 1.46368],\n",
        "      [0.64795, 0.0, 0.55673, 0.82487, 0.5497, 0.8463],\n",
        "      [0.74488, 0.55673, 0.0, 0.50992, 0.68068, 1.10271],\n",
        "      [1.03145, 0.82487, 0.50992, 0.0, 0.64543, 1.08907],\n",
        "      [0.61652, 0.5497, 0.68068, 0.64543, 0.0, 1.10942],\n",
        "      [1.46368, 0.8463, 1.10271, 1.08907, 1.10942, 0.0]]\n",
        "# Dj = D[0] = = D1 e D[1] = D2  Matriz de dissimilaridade com \"p\" visões\n",
        "Dj = [[[0.0, 0.6398, 0.3554, 0.6208, 0.5073, 0.4898],\n",
        "      [0.6398, 0.0, 0.5392, 0.4656, 0.3418, 0.5087],\n",
        "      [0.3554, 0.5392, 0.0, 0.5610, 0.3629, 0.3540],\n",
        "      [0.6208, 0.4656, 0.5610, 0.0, 0.6596, 0.7787],\n",
        "      [0.5073, 0.3418, 0.3629, 0.6596, 0.0, 0.1684],\n",
        "      [0.4898, 0.5087, 0.3540, 0.7787, 0.1684, 0.0]],\n",
        "     [[0.0, 0.64795, 0.74488, 1.03145, 0.61652, 1.46368],\n",
        "      [0.64795, 0.0, 0.55673, 0.82487, 0.5497, 0.8463],\n",
        "      [0.74488, 0.55673, 0.0, 0.50992, 0.68068, 1.10271],\n",
        "      [1.03145, 0.82487, 0.50992, 0.0, 0.64543, 1.08907],\n",
        "      [0.61652, 0.5497, 0.68068, 0.64543, 0.0, 1.10942],\n",
        "      [1.46368, 0.8463, 1.10271, 1.08907, 1.10942, 0.0]]]\n",
        "P = len(Dj) # Número de Partições Fuzzy\n",
        "# Gk é o representante do grupo Pk (1 <= k <= K)\n",
        "'''G = [[g1 = g11, g12, ..., g1p],\n",
        "     [g2 = g21, g22, ..., g2p],\n",
        "     [g3 = g31, g32, ..., g3p],\n",
        "     [gK = gK1, gK2, ..., gKp]]'''\n",
        "G = [[2],\n",
        "     [3],\n",
        "     [1]]\n",
        "\n",
        "#Uik é o grau de pertinência exclusivo do objeto i no grupo k. Logo, uik = 1, se o objeto i estiver no grupo k; e 0, otherwise.\n",
        "#Uik é o representante do grupo Pk (i = 1,..., N) e (k= 1,...,K)\n",
        "'''U = [[u1 = u11, u12, u13],\n",
        "     [u2 = u21, u22, u23],\n",
        "     [u3 = u31, u32, u33],\n",
        "     [u4 = u41, u42, u43],\n",
        "     [u5 = u51, u52, u53],\n",
        "     [u6 = u61, u62, u63]]'''\n",
        "U = [[1, 0, 0],\n",
        "     [0, 0, 1],\n",
        "     [1, 0, 0],\n",
        "     [0, 0, 1],\n",
        "     [0, 1, 0],\n",
        "     [0, 1, 0]]\n",
        "\n",
        "# V é um vetor k-dimensional de vetores de peso de relevância (um para cada partição fuzzy P)\n",
        "'''v = [[v1 = v11, v12, ..., v1p],\n",
        "        [v2 = v21, v22, ..., v2p],\n",
        "        [v3 = v31, v32, ..., v3p]]'''\n",
        "v = [[1, 1],\n",
        "     [1, 1],\n",
        "     [1, 1]]"
      ],
      "execution_count": 2,
      "outputs": []
    },
    {
      "cell_type": "code",
      "metadata": {
        "id": "0baJF81KFF0m",
        "colab_type": "code",
        "colab": {}
      },
      "source": [
        "# Função de Adequação \"J\" (Equações: 06 e 07)\n",
        "\n",
        "def FMatching(ki, ii): # Equação 07\n",
        "  vkj1 = 0\n",
        "  for j in range(0,P):\n",
        "    dj1 = 0\n",
        "    for e in G[ki]:\n",
        "      dj1 += Dj[j][ii][e-1]\n",
        "    vkj1 += dj1 * v[ki][j]\n",
        "  return vkj1\n",
        "\n",
        "def fitnessFunction(): # Equação 06\n",
        "  J = 0\n",
        "  for i in range(0, N):\n",
        "    for j in range(0, K):\n",
        "      J += ((U[i][j])**m) * FMatching(j, i)\n",
        "  return J"
      ],
      "execution_count": 3,
      "outputs": []
    },
    {
      "cell_type": "code",
      "metadata": {
        "id": "eQMWHeKOLQWj",
        "colab_type": "code",
        "colab": {
          "base_uri": "https://localhost:8080/",
          "height": 52
        },
        "outputId": "62aa71df-348c-45f0-e254-6021a4cfee57"
      },
      "source": [
        "# Etapa 1: Cálculo dos melhores protótipos:\n",
        "# A partição Fuzzy U e o vetor de vetores de pesos de relevância V_k são fixos\n",
        "\n",
        "#Procedimento 2.3\n",
        "import numpy as np # Usar o numpy para utilizar a função \"argmin\"\n",
        "\n",
        "def prototype(clt, G_verificação):\n",
        "  G_out = [] # Para armazenar os prototipos para todos os K cluster\n",
        "  G_in = []  # Para armazenar os argumentos internos de cada k\n",
        "  for h in range(0, N):\n",
        "    G_in.append(argumentos(clt, h))\n",
        "    #print(\"G_in: \", G_in)\n",
        "  L = np.argmin(G_in, axis=0)\n",
        "  #print(\"L:\", L)\n",
        "  while len(G_out) == 0:\n",
        "    if (L+1) not in G_verificação:\n",
        "      G_out.append(L+1)\n",
        "    else:\n",
        "      G_in[L] = 10000\n",
        "      L = np.argmin(G_in, axis=0)\n",
        "  return G_out\n",
        "\n",
        "def argumentos(ki, hi): # Essa função vai retornar o calculo dos somatórios para o k-ésimo cluster e o h-éssimo argumento.\n",
        "  L = 0\n",
        "  somaUVD = 0\n",
        "  for i in range(0, N):\n",
        "    somaVD = 0\n",
        "    for j in range(0, P):\n",
        "       somaVD += ((v[ki][j])**s) * Dj[j][i][hi] # Não ficou tão claro na função, se ele soma também cada matriz de dissimilaridade Dj para as p visões diferentes\n",
        "    somaUVD += ((U[i][ki])**m) * somaVD\n",
        "  L += somaUVD\n",
        "  return L\n",
        "'''  \n",
        "G_verificação = []  # Uma lista para armazenar todos os protótipos de G e servir para verificar se o elemento eL já está na lista\n",
        "for cluster in range(0,K):\n",
        "  eL = prototype(cluster, G_verificação)\n",
        "  G_verificação.append(eL)\n",
        "  print(eL)\n",
        "  G[cluster] = eL\n",
        "print(G)'''"
      ],
      "execution_count": 4,
      "outputs": [
        {
          "output_type": "execute_result",
          "data": {
            "application/vnd.google.colaboratory.intrinsic+json": {
              "type": "string"
            },
            "text/plain": [
              "'  \\nG_verificação = []  # Uma lista para armazenar todos os protótipos de G e servir para verificar se o elemento eL já está na lista\\nfor cluster in range(0,K):\\n  eL = prototype(cluster, G_verificação)\\n  G_verificação.append(eL)\\n  print(eL)\\n  G[cluster] = eL\\nprint(G)'"
            ]
          },
          "metadata": {
            "tags": []
          },
          "execution_count": 4
        }
      ]
    },
    {
      "cell_type": "code",
      "metadata": {
        "id": "lZSTOTBWUWsg",
        "colab_type": "code",
        "colab": {
          "base_uri": "https://localhost:8080/",
          "height": 35
        },
        "outputId": "14810000-fbc2-4892-bad7-f3613efa84a5"
      },
      "source": [
        "#Etapa 2: Cálculo do melhor vetor de pesos de relevância das visões nos grupos (Equação 09)\n",
        "# Partição Fuzzy U e vetor de representantes G fixos!\n",
        "\n",
        "def relevanceWeights(ki, ji):\n",
        "  prodUP = 1\n",
        "  for h in range(0, P):\n",
        "    uik2 = 0\n",
        "    for i in range(0,N):\n",
        "      DjUp2 = 0\n",
        "      for e in G[ki]:\n",
        "        DjUp2 += Dj[h][i][(e)-1]\n",
        "      uik2 += ((U[i][ki])**m) * DjUp2\n",
        "    prodUP *= uik2\n",
        "\n",
        "  DjUDown2 = 0\n",
        "  for i in range(0,N):\n",
        "    DjDown2 = 0\n",
        "    for e in G[ki]:\n",
        "      DjDown2 += Dj[ji][i][(e)-1]\n",
        "    DjUDown2 += ((U[i][ki])**m) * DjDown2\n",
        "    \n",
        "  resultado = (prodUP**(1/P))/(DjUDown2)\n",
        "  return resultado\n",
        "'''\n",
        "for k in range(0, K):\n",
        "  for j in range(0, P):\n",
        "    v[k][j] = relevanceWeights(k, j) \n",
        "print(v) # A matriz de pesos de relevância depois da etapa 2'''"
      ],
      "execution_count": 5,
      "outputs": [
        {
          "output_type": "execute_result",
          "data": {
            "application/vnd.google.colaboratory.intrinsic+json": {
              "type": "string"
            },
            "text/plain": [
              "'\\nfor k in range(0, K):\\n  for j in range(0, P):\\n    v[k][j] = relevanceWeights(k, j) \\nprint(v) # A matriz de pesos de relevância depois da etapa 2'"
            ]
          },
          "metadata": {
            "tags": []
          },
          "execution_count": 5
        }
      ]
    },
    {
      "cell_type": "code",
      "metadata": {
        "id": "X_33loOnkHdI",
        "colab_type": "code",
        "colab": {
          "base_uri": "https://localhost:8080/",
          "height": 35
        },
        "outputId": "76b1e7c4-4737-4f0a-8498-d61c9ea03f68"
      },
      "source": [
        "# Etapa 3: Definição da Melhor Partição Fuzzy (Equação 11)\n",
        "# Vetores de representantes G e vetores dos pesos V são fixos!\n",
        "\n",
        "def fuzzyPartition(ii, ki, s):\n",
        "  total3 = 0\n",
        "  soma3 = 0\n",
        "  for h in range(0,K):\n",
        "    vikUP3 = 0\n",
        "    for j in range(0,P):\n",
        "      djUP3 = 0\n",
        "      for e in G[ki]:\n",
        "        djUP3 += Dj[j][ii][(e)-1]\n",
        "      vikUP3 += (v[ki][j]**s) * djUP3\n",
        "    vikDown3 = 0\n",
        "    for j in range(0,P):\n",
        "      djDown3 = 0\n",
        "      for e in G[h]:\n",
        "        djDown3 += Dj[j][ii][(e)-1]\n",
        "      vikDown3 += (v[h][j]**s) * djDown3\n",
        "    if vikDown3 == 0:\n",
        "      soma3 += 0\n",
        "    else:\n",
        "      soma3 += (vikUP3/vikDown3)**(1/(m-1))\n",
        "  if soma3 == 0:\n",
        "    total3 = 0\n",
        "  else:\n",
        "    total3 = (soma3**(-1))\n",
        "  return total3\n",
        "'''\n",
        "for i in range(0,N):\n",
        "  for k in range(0,K):\n",
        "    U[i][k] = fuzzyPartition(i, k, s)\n",
        "print(U) # A matriz com a Partição Fuzzy depois da etapa 3'''"
      ],
      "execution_count": 6,
      "outputs": [
        {
          "output_type": "execute_result",
          "data": {
            "application/vnd.google.colaboratory.intrinsic+json": {
              "type": "string"
            },
            "text/plain": [
              "'\\nfor i in range(0,N):\\n  for k in range(0,K):\\n    U[i][k] = fuzzyPartition(i, k, s)\\nprint(U) # A matriz com a Partição Fuzzy depois da etapa 3'"
            ]
          },
          "metadata": {
            "tags": []
          },
          "execution_count": 6
        }
      ]
    },
    {
      "cell_type": "code",
      "metadata": {
        "id": "kEVJzJJ1SgXM",
        "colab_type": "code",
        "colab": {
          "base_uri": "https://localhost:8080/",
          "height": 1000
        },
        "outputId": "c6202b97-9a19-4e1a-8558-f5bf83daf77f"
      },
      "source": [
        "# Algoritmo, união de todas as etapas:\n",
        "\n",
        "#1) Inicialização\n",
        "Jt = [10000] # A lista de soluções J inicia com números com diferença bem alta\n",
        "t = 0 # tempo inicial\n",
        "T = 11\n",
        "erro = 1e-03\n",
        "s = 1\n",
        "# Para o grau de pertinência Uik inicial.\n",
        "for i in range(0,N):\n",
        "  for k in range(0,K):\n",
        "    U[i][k] = fuzzyPartition(i, k, s)\n",
        "print(U) # A matriz com a Partição Fuzzy calculada na Inicialização\n",
        "\n",
        "Jt.append(fitnessFunction()) # Etapa Inicial para o J(0)\n",
        "print(\"J('t=0')\", Jt[-1])\n",
        "\n",
        "while (t < T):  # or (abs(Jt[-1]-Jt[-2])>erro)\n",
        "  t += 1\n",
        "  #2) Etapa 1:\n",
        "  G = [] # Armazenar os K clusters designados\n",
        "  for particao in range(0,K):\n",
        "    G.append([])\n",
        "  G_verificação = []  # Uma lista para armazenar todos os protótipos de G e servir para verificar se o elemento eL já está na lista\n",
        "  for cluster in range(0,K):\n",
        "    eL = prototype(cluster, G_verificação)\n",
        "    G_verificação.append(eL)\n",
        "    G[cluster] = eL\n",
        "  print(G)\n",
        "  #3) Etapa 2:\n",
        "  for k in range(0, K):\n",
        "    for j in range(0, P):\n",
        "      v[k][j] = relevanceWeights(k, j) \n",
        "  \n",
        "  #4) Etapa 3:\n",
        "  for i in range(0,N):\n",
        "    for k in range(0,K):\n",
        "      U[i][k] = fuzzyPartition(i, k, s)\n",
        "\n",
        "  #5) Critério de parada:\n",
        "  Jt.append(fitnessFunction())\n",
        "  print(\"ERRO\", abs(Jt[-1]-Jt[-2]))\n",
        "  print(\"t = %.f e J(t) = %.10f\" %(t, Jt[-1]))\n",
        "  print(\"U = \",U)\n",
        "  print(\"V = \",v)\n",
        "\n",
        "#print(\"J: \",Jt[-1])\n",
        "#print(\"U = \",U)\n",
        "#print(\"V = \",v)"
      ],
      "execution_count": 7,
      "outputs": [
        {
          "output_type": "stream",
          "text": [
            "[[0.4348181366644634, 0.5651818633355365, 0], [0, 0.5668036814162779, 0.4331963185837222], [0.5016505669187326, 0, 0.4983494330812675], [0.3303671550203165, 0.45079767677009935, 0.2188351682095842], [0.40834548013530936, 0.3140656358907923, 0.27758888397389836], [0.41154254054081385, 0.3647749923064576, 0.2236824671527286]]\n",
            "J('t=0') 4.265570847209421\n",
            "[[3], [2], [5]]\n",
            "ERRO 0.4568811109533608\n",
            "t = 1 e J(t) = 3.8086897363\n",
            "U =  [[0.397745478221526, 0.26864276106582363, 0.3336117607126504], [0.38423528677992974, 0, 0.6157647132200703], [0, 0.4552358386692843, 0.5447641613307158], [0.3821127360664132, 0.33320421048088317, 0.28468305345270356], [0.4443688229374979, 0.555631177062502, 0], [0.2970060314810203, 0.2836965430663172, 0.4192974254526626]]\n",
            "V =  [[1.4039378297700102, 0.7122822526719845], [1.1728715790986763, 0.8526082631897998], [1.3647089715348222, 0.7327569620029304]]\n",
            "[[5], [3], [2]]\n",
            "ERRO 0.0025338481573360383\n",
            "t = 2 e J(t) = 3.8112235844\n",
            "U =  [[0.3388236734540882, 0.3926795685343371, 0.26849675801157474], [0.6115105231353645, 0.3884894768646354, 0], [0.5412178299685242, 0, 0.45878217003147587], [0.2905644495352978, 0.385218125767447, 0.3242174246972552], [0, 0.4458533742634611, 0.5541466257365388], [0.402001699450491, 0.3040656641382036, 0.29393263641130535]]\n",
            "V =  [[1.2519972205264718, 0.7987238179166999], [1.3410042935165782, 0.745709767548658], [1.1306895682715963, 0.8844160484549515]]\n",
            "[[2], [5], [3]]\n",
            "ERRO 6.39348824207353e-05\n",
            "t = 3 e J(t) = 3.8112875193\n",
            "U =  [[0.2685648982093413, 0.33850220391962443, 0.3929328978710342], [0, 0.6121901267602678, 0.38780987323973215], [0.45872067130274613, 0.5412793286972539, 0], [0.3246734680088065, 0.29067415867736635, 0.38465237331382707], [0.554012741274759, 0, 0.445987258725241], [0.2931287986578326, 0.40269061056164057, 0.3041805907805269]]\n",
            "V =  [[1.1285817508432865, 0.8860678451098388], [1.2569476466703364, 0.7955780836608489], [1.3492423191165985, 0.7411567113124193]]\n",
            "[[5], [2], [3]]\n",
            "ERRO 0.008305519038003695\n",
            "t = 4 e J(t) = 3.8029820003\n",
            "U =  [[0.33641997584054983, 0.27127442252755535, 0.39230560163189476], [0.60511969633858, 0, 0.3948803036614201], [0.5426773991242041, 0.45732260087579596, 0], [0.28140746418660534, 0.322844875668336, 0.39574766014505874], [0, 0.5553692170555111, 0.444630782944489], [0.4212986459635137, 0.2887710591578323, 0.28993029487865407]]\n",
            "V =  [[1.3357714769422862, 0.748631047497061], [1.1287435970844986, 0.8859407952195356], [1.2612410688109985, 0.7928698364878997]]\n",
            "[[2], [5], [3]]\n",
            "ERRO 1.682981979023168e-05\n",
            "t = 5 e J(t) = 3.8029988301\n",
            "U =  [[0.27134819263617815, 0.33685955330909395, 0.3917922540547279], [0, 0.6045048839109408, 0.3954951160890592], [0.45728262453748586, 0.5427173754625141, 0], [0.3223736157265005, 0.281204970893196, 0.39642141338030346], [0.5557227724024583, 0, 0.44427722759754185], [0.28947950393655114, 0.4212346044294097, 0.2892858916340392]]\n",
            "V =  [[1.130443226659031, 0.8846087768206196], [1.3326065179166016, 0.7504090566534232], [1.2512410196416042, 0.7992065351937011]]\n",
            "[[5], [2], [3]]\n",
            "ERRO 2.7872351634261605e-05\n",
            "t = 6 e J(t) = 3.8029709577\n",
            "U =  [[0.3368337949082614, 0.2713819030797514, 0.3917843020119872], [0.6044502374800634, 0, 0.39554976251993657], [0.5427200246165449, 0.457279975383455, 0], [0.28112395625490794, 0.322364300111683, 0.396511743633409], [0, 0.5557381537231263, 0.44426184627687376], [0.42140951550441963, 0.28943125403538295, 0.2891592304601974]]\n",
            "V =  [[1.3333885148490552, 0.7499689616819626], [1.1303424863376819, 0.8846876164409315], [1.250582302258142, 0.7996275000808245]]\n",
            "[[2], [5], [3]]\n",
            "ERRO 9.048513209819475e-07\n",
            "t = 7 e J(t) = 3.8029718626\n",
            "U =  [[0.27138210152982, 0.33683842950787257, 0.3917794689623075], [0, 0.6044453483330022, 0.3955546516669976], [0.45727956765425415, 0.542720432345746, 0], [0.3223601381256714, 0.2811232466536273, 0.39651661522070125], [0.5557414806917181, 0, 0.44425851930828175], [0.2894387774282242, 0.4214063517667332, 0.2891548708050425]]\n",
            "V =  [[1.130361837878803, 0.8846724707873761], [1.333347110839241, 0.7499922502330064], [1.2504978228444243, 0.7996815202167776]]\n",
            "[[5], [2], [3]]\n",
            "ERRO 2.7294345272821374e-07\n",
            "t = 8 e J(t) = 3.8029715896\n",
            "U =  [[0.33683811724054885, 0.27138241860905693, 0.3917794641503942], [0.6044449031922456, 0, 0.3955550968077543], [0.5427204501913419, 0.4572795498086581, 0], [0.28112249080442725, 0.3223601107694903, 0.39651739842608247], [0, 0.5557415772936556, 0.4442584227063444], [0.421408053520071, 0.2894382099151947, 0.28915373656473425]]\n",
            "V =  [[1.3333551202024918, 0.7499877450863456], [1.1303605841228925, 0.8846734520347361], [1.250492834305597, 0.7996847103528615]]\n",
            "[[2], [5], [3]]\n",
            "ERRO 1.2605767096829368e-08\n",
            "t = 9 e J(t) = 3.8029716022\n",
            "U =  [[0.2713824158132355, 0.3368381657091816, 0.39177941847758285], [0, 0.604444863485673, 0.3955551365143271], [0.45727954620388495, 0.5427204537961151, 0], [0.3223600718012212, 0.2811224952186379, 0.39651743298014086], [0.5557416073765911, 0, 0.44425839262340894], [0.28943828948695904, 0.42140799851395866, 0.2891537119990823]]\n",
            "V =  [[1.130360785973622, 0.8846732940568727], [1.33335461040521, 0.7499880318380548], [1.2504921082988767, 0.7996851746312601]]\n",
            "[[5], [2], [3]]\n",
            "ERRO 2.7684361469937357e-09\n",
            "t = 10 e J(t) = 3.8029715995\n",
            "U =  [[0.3368381620399342, 0.27138241885538955, 0.3917794191046762], [0.6044448598576252, 0, 0.3955551401423748], [0.5427204539117575, 0.4572795460882425, 0], [0.2811224880002577, 0.3223600721161612, 0.3965174398835812], [0, 0.5557416078476989, 0.44425839215230106], [0.4214080154296302, 0.2894382829439469, 0.28915370162642284]]\n",
            "V =  [[1.3333546937148955, 0.7499879849778553], [1.130360771132606, 0.8846733056721471], [1.250492071780073, 0.7996851979849036]]\n",
            "[[2], [5], [3]]\n",
            "ERRO 1.6007772885018312e-10\n",
            "t = 11 e J(t) = 3.8029715996\n",
            "U =  [[0.2713824187841223, 0.3368381625526888, 0.39177941866318894], [0, 0.6044448595352756, 0.3955551404647244], [0.4572795460558287, 0.5427204539441713, 0], [0.32236007174272596, 0.28112248814835, 0.396517440108924], [0.5557416081254695, 0, 0.4442583918745305], [0.28943828379339115, 0.4214080146599037, 0.28915370154670517]]\n",
            "V =  [[1.130360773261558, 0.8846733040059297], [1.3333546876631013, 0.7499879883818805], [1.2504920654469618, 0.7996852020349056]]\n"
          ],
          "name": "stdout"
        }
      ]
    },
    {
      "cell_type": "code",
      "metadata": {
        "id": "liW_SHj-m0f8",
        "colab_type": "code",
        "colab": {}
      },
      "source": [
        ""
      ],
      "execution_count": 10,
      "outputs": []
    }
  ]
}