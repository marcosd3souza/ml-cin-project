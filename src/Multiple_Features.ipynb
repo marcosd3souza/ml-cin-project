{
  "nbformat": 4,
  "nbformat_minor": 0,
  "metadata": {
    "colab": {
      "name": "Multiple_Features",
      "provenance": [],
      "collapsed_sections": []
    },
    "kernelspec": {
      "name": "python3",
      "display_name": "Python 3"
    }
  },
  "cells": [
    {
      "cell_type": "markdown",
      "metadata": {
        "id": "QLxyrIPbzEx4",
        "colab_type": "text"
      },
      "source": [
        "Normalize os dados e compute 3 matrizes de dissimilaridade (uma para cada tabela de dados mfeat-fac (VIEW1), mfeat-fou (VIEW2), mfeat-kar (VIEW3)) usando a distancia Euclidiana.\n",
        "Execute o algoritmo \"Partitioning fuzzy K-medoids clustering algorithms with relevance weight for each dissimilarity matrix estimated locally\" 100 vezes para obter uma partição fuzzy em 10 grupos e selecione o melhor resultado segundo a função objetivo, considerando os seguintes casos: i) simultaneamente nessas 3 matrizes de dissimilaridade; ii) em cada uma delas individualmente."
      ]
    },
    {
      "cell_type": "code",
      "metadata": {
        "id": "Uz7PLUQuJpx3",
        "colab_type": "code",
        "colab": {}
      },
      "source": [
        "# imports\n",
        "import numpy as np\n",
        "import pandas as pd\n",
        "import matplotlib.pyplot as plt\n",
        "import cv2\n",
        "from google.colab import drive\n",
        "import argparse\n",
        "import sys,os\n",
        "from sklearn import preprocessing\n",
        "from scipy.spatial.distance import pdist\n",
        "from scipy.spatial.distance import squareform\n",
        "import random"
      ],
      "execution_count": null,
      "outputs": []
    },
    {
      "cell_type": "code",
      "metadata": {
        "id": "7HPaIUl7_KJ4",
        "colab_type": "code",
        "colab": {
          "base_uri": "https://localhost:8080/",
          "height": 476
        },
        "outputId": "b6fde1d5-3b38-412c-88de-a479991e2bfc"
      },
      "source": [
        "\n",
        "dir_remoto = \"/content/drive/My Drive/\"\n",
        "dir_local = os.getcwd() # path para rodar em máquina local ao invés do colab\n",
        "\n",
        "kar = pd.read_csv(os.path.join(dir_remoto,'data/mfeat-kar'),  delim_whitespace=True, header= None)\n",
        "fou = pd.read_csv(os.path.join(dir_remoto,'data/mfeat-fou'),  delim_whitespace=True, header= None)\n",
        "fac = pd.read_csv(os.path.join(dir_remoto,'data/mfeat-fac'),  delim_whitespace=True, header= None)\n",
        "\n",
        "print(\"mfeat-kar\")\n",
        "print(kar.shape, kar.head())\n",
        "print(\"mfeat-fou\")\n",
        "print(fou.shape, fou.head())\n",
        "print(\"mfeat-fac\")\n",
        "print(fac.shape, fac.head())"
      ],
      "execution_count": null,
      "outputs": [
        {
          "output_type": "stream",
          "text": [
            "mfeat-kar\n",
            "(2000, 64)           0          1          2   ...        61        62        63\n",
            "0 -10.297008 -11.666789  11.560669  ...  1.814691 -1.351353 -0.473910\n",
            "1  -5.036009 -12.885333   0.161155  ...  0.485792  0.642451  0.613107\n",
            "2  -9.639157  -6.655898   0.388687  ...  1.097748  0.827182 -1.767840\n",
            "3  -6.650375  -7.043851   4.104350  ... -0.913552 -0.771735  0.304992\n",
            "4 -10.664524 -10.974133   0.194391  ...  0.298318 -0.943213  1.149847\n",
            "\n",
            "[5 rows x 64 columns]\n",
            "mfeat-fou\n",
            "(2000, 76)          0         1         2   ...        73        74        75\n",
            "0  0.065882  0.197312  0.103826  ...  0.394366  0.049971  0.344871\n",
            "1  0.049142  0.175971  0.105515  ...  0.445277  0.083978  0.354092\n",
            "2  0.034172  0.227649  0.108766  ...  0.445029  0.071234  0.261465\n",
            "3  0.062336  0.217979  0.080243  ...  0.408291  0.063010  0.401376\n",
            "4  0.061970  0.198358  0.111239  ...  0.434701  0.069218  0.405403\n",
            "\n",
            "[5 rows x 76 columns]\n",
            "mfeat-fac\n",
            "(2000, 216)    0    1    2    3    4    5    6    ...  209  210  211  212  213  214  215\n",
            "0   98  236  531  673  607  647    2  ...  632   18   36    8   15   12   13\n",
            "1  121  193  607  611  585  665    7  ...  634   15   32   11   13   15   11\n",
            "2  115  141  590  605  557  627   12  ...  656   20   35   16   14   13    6\n",
            "3   90  122  627  692  607  642    0  ...  621   16   35    7   12   15    9\n",
            "4  157  167  681  666  587  666    8  ...  653   16   35   10   15   13   13\n",
            "\n",
            "[5 rows x 216 columns]\n"
          ],
          "name": "stdout"
        }
      ]
    },
    {
      "cell_type": "markdown",
      "metadata": {
        "id": "wfzQU6Ek_Qhm",
        "colab_type": "text"
      },
      "source": [
        "# **Normalizando os Dados**"
      ]
    },
    {
      "cell_type": "code",
      "metadata": {
        "id": "7HnoDIhS_URS",
        "colab_type": "code",
        "colab": {
          "base_uri": "https://localhost:8080/",
          "height": 476
        },
        "outputId": "11b81284-95cd-4113-c306-d88ed47389d9"
      },
      "source": [
        "def normalization(data):\n",
        "  x = data.values #returns a numpy array\n",
        "  min_max_scaler = preprocessing.MinMaxScaler()\n",
        "  x_scaled = min_max_scaler.fit_transform(x)\n",
        "  datapd = pd.DataFrame(x_scaled)\n",
        "  return datapd\n",
        "\n",
        "kar = normalization(kar)\n",
        "fou = normalization(fou)\n",
        "fac = normalization(fac)\n",
        "\n",
        "print(\"mfeat-kar\")\n",
        "print(kar.shape, kar.head())\n",
        "print(\"mfeat-fou\")\n",
        "print(fou.shape, fou.head())\n",
        "print(\"mfeat-fac\")\n",
        "print(fac.shape, fac.head())"
      ],
      "execution_count": null,
      "outputs": [
        {
          "output_type": "stream",
          "text": [
            "mfeat-kar\n",
            "(2000, 64)          0         1         2   ...        61        62        63\n",
            "0  0.191173  0.128265  0.889728  ...  0.836661  0.219735  0.433051\n",
            "1  0.354385  0.089040  0.498033  ...  0.618422  0.565718  0.595312\n",
            "2  0.211582  0.289563  0.505851  ...  0.718921  0.597774  0.239905\n",
            "3  0.304303  0.277075  0.633523  ...  0.388613  0.320316  0.549319\n",
            "4  0.179772  0.150561  0.499175  ...  0.587634  0.290560  0.675432\n",
            "\n",
            "[5 rows x 64 columns]\n",
            "mfeat-fou\n",
            "(2000, 76)          0         1         2   ...        73        74        75\n",
            "0  0.155955  0.247037  0.148847  ...  0.628352  0.095886  0.588917\n",
            "1  0.113125  0.219041  0.151407  ...  0.711892  0.162660  0.604874\n",
            "2  0.074823  0.286835  0.156336  ...  0.711485  0.137636  0.444575\n",
            "3  0.146884  0.274150  0.113103  ...  0.651201  0.121489  0.686703\n",
            "4  0.145945  0.248410  0.160085  ...  0.694537  0.133679  0.693673\n",
            "\n",
            "[5 rows x 76 columns]\n",
            "mfeat-fac\n",
            "(2000, 216)         0         1         2    ...       213       214       215\n",
            "0  0.069196  0.320248  0.040576  ...  0.785714  0.500000  0.565217\n",
            "1  0.120536  0.231405  0.140052  ...  0.642857  0.714286  0.478261\n",
            "2  0.107143  0.123967  0.117801  ...  0.714286  0.571429  0.260870\n",
            "3  0.051339  0.084711  0.166230  ...  0.571429  0.714286  0.391304\n",
            "4  0.200893  0.177686  0.236911  ...  0.785714  0.571429  0.565217\n",
            "\n",
            "[5 rows x 216 columns]\n"
          ],
          "name": "stdout"
        }
      ]
    },
    {
      "cell_type": "markdown",
      "metadata": {
        "id": "Zpoiuykf_ajC",
        "colab_type": "text"
      },
      "source": [
        "# **Matriz de Dissimilaridade**"
      ]
    },
    {
      "cell_type": "code",
      "metadata": {
        "id": "zD4Nt2AG_XFV",
        "colab_type": "code",
        "colab": {
          "base_uri": "https://localhost:8080/",
          "height": 782
        },
        "outputId": "203c91f4-15e0-4413-a339-578a7d68c83a"
      },
      "source": [
        "\n",
        "def dissimilaridade(data):\n",
        "  pairwise = pd.DataFrame(squareform(pdist(data)),columns = data.index,index = data.index)\n",
        "  return pairwise\n",
        "\n",
        "# default metric: euclidian distance para a função pdist\n",
        "\n",
        "matriz_kar = dissimilaridade(kar)\n",
        "matriz_fou = dissimilaridade(fou)\n",
        "matriz_fac = dissimilaridade(fac)\n",
        "\n",
        "\n",
        "print(\"mfeat-kar\")\n",
        "print(matriz_kar.shape, matriz_kar)\n",
        "print(\"mfeat-fou\")\n",
        "print(matriz_fou.shape, matriz_fou)\n",
        "print(\"mfeat-fac\")\n",
        "print(matriz_fac.shape, matriz_fac)"
      ],
      "execution_count": null,
      "outputs": [
        {
          "output_type": "stream",
          "text": [
            "mfeat-kar\n",
            "(2000, 2000)           0         1         2     ...      1997      1998      1999\n",
            "0     0.000000  1.270193  1.397034  ...  1.605476  1.375733  1.655586\n",
            "1     1.270193  0.000000  1.470758  ...  1.616383  1.314507  1.666247\n",
            "2     1.397034  1.470758  0.000000  ...  1.495470  1.353730  1.698088\n",
            "3     1.330976  1.379091  1.438538  ...  1.469890  1.398961  1.585118\n",
            "4     1.333689  1.141953  1.638747  ...  1.773640  1.408295  1.821250\n",
            "...        ...       ...       ...  ...       ...       ...       ...\n",
            "1995  1.589321  1.776687  1.552311  ...  1.389383  1.157987  1.394733\n",
            "1996  1.567723  1.378748  1.741908  ...  1.686252  1.467261  1.342234\n",
            "1997  1.605476  1.616383  1.495470  ...  0.000000  1.246467  1.742059\n",
            "1998  1.375733  1.314507  1.353730  ...  1.246467  0.000000  1.466838\n",
            "1999  1.655586  1.666247  1.698088  ...  1.742059  1.466838  0.000000\n",
            "\n",
            "[2000 rows x 2000 columns]\n",
            "mfeat-fou\n",
            "(2000, 2000)           0         1         2     ...      1997      1998      1999\n",
            "0     0.000000  1.353952  1.308675  ...  2.243905  1.966262  2.135231\n",
            "1     1.353952  0.000000  0.989246  ...  2.653470  2.302680  2.427257\n",
            "2     1.308675  0.989246  0.000000  ...  2.584899  2.295063  2.339336\n",
            "3     1.509073  1.483755  1.554480  ...  2.493053  2.332205  2.156193\n",
            "4     0.950964  1.098226  1.200663  ...  2.398640  2.097823  2.192949\n",
            "...        ...       ...       ...  ...       ...       ...       ...\n",
            "1995  1.934992  2.225521  2.146542  ...  2.009816  1.680042  1.941845\n",
            "1996  2.071977  2.381274  2.346521  ...  2.082268  1.817247  1.825216\n",
            "1997  2.243905  2.653470  2.584899  ...  0.000000  1.836826  2.155979\n",
            "1998  1.966262  2.302680  2.295063  ...  1.836826  0.000000  1.596391\n",
            "1999  2.135231  2.427257  2.339336  ...  2.155979  1.596391  0.000000\n",
            "\n",
            "[2000 rows x 2000 columns]\n",
            "mfeat-fac\n",
            "(2000, 2000)           0         1         2     ...      1997      1998      1999\n",
            "0     0.000000  1.725886  1.869928  ...  4.040457  3.805022  4.600745\n",
            "1     1.725886  0.000000  1.571679  ...  3.680461  3.236586  4.153686\n",
            "2     1.869928  1.571679  0.000000  ...  3.969217  3.423565  4.545220\n",
            "3     1.759965  1.553570  1.616104  ...  3.741590  3.379092  4.255227\n",
            "4     1.645997  1.329155  1.646691  ...  3.692037  3.454330  4.287492\n",
            "...        ...       ...       ...  ...       ...       ...       ...\n",
            "1995  4.160920  3.738831  3.881553  ...  2.129954  1.753430  2.997773\n",
            "1996  4.348320  3.868827  4.203490  ...  2.970610  2.898650  2.449822\n",
            "1997  4.040457  3.680461  3.969217  ...  0.000000  1.899134  2.582854\n",
            "1998  3.805022  3.236586  3.423565  ...  1.899134  0.000000  3.206297\n",
            "1999  4.600745  4.153686  4.545220  ...  2.582854  3.206297  0.000000\n",
            "\n",
            "[2000 rows x 2000 columns]\n"
          ],
          "name": "stdout"
        }
      ]
    },
    {
      "cell_type": "code",
      "metadata": {
        "id": "v0a7YpEW_jUx",
        "colab_type": "code",
        "colab": {}
      },
      "source": [
        "## salvando as matrizes\n",
        "#matriz_kar.to_csv(os.path.join('data/matriz_kar.csv'), sep = \";\")\n",
        "#matriz_fou.to_csv(os.path.join('data/matriz_fou.csv'), sep = \";\")\n",
        "#matriz_fac.to_csv(os.path.join('data/matriz_fac.csv'), sep = \";\")"
      ],
      "execution_count": null,
      "outputs": []
    },
    {
      "cell_type": "code",
      "metadata": {
        "id": "XTp_Vea0ERyw",
        "colab_type": "code",
        "colab": {}
      },
      "source": [
        "# PARÂMETROS INICIAIS\n",
        "\n",
        "K = 10 # Número de classes\n",
        "N = 2000 # Número de objetos\n",
        "t = 0 # tempo inicial\n",
        "m = 1.6 # valor m \n",
        "T = 8  # Número máximo de rodadas\n",
        "e = 1e-10 # Erro permissível\n",
        "s = 1 # valor s \n",
        "q = 1 # cardinalidade q"
      ],
      "execution_count": null,
      "outputs": []
    },
    {
      "cell_type": "code",
      "metadata": {
        "id": "kQ501IXMhL_F",
        "colab_type": "code",
        "colab": {
          "base_uri": "https://localhost:8080/",
          "height": 697
        },
        "outputId": "9c86abe9-451b-4f46-c0c6-2930becfb668"
      },
      "source": [
        "# Criar a matriz de dissimilaridade com P visoões\n",
        "dj = matriz_kar # Matriz Kar\n",
        "di = matriz_fou # Matriz Fou\n",
        "dz = matriz_fac # Matriz Fac\n",
        "Dj = [[0],[0],[0]] # Cria-se uma matriz nula\n",
        "Dj[0] = dj # Acrescenta na posição 0, a matriz Kar\n",
        "Dj[1] = di # Acrescenta na posição 1, a matriz Fou\n",
        "Dj[2] = dz # Acrescenta na posição 2, a matriz Fac\n",
        "print(Dj)"
      ],
      "execution_count": null,
      "outputs": [
        {
          "output_type": "stream",
          "text": [
            "[          0         1         2     ...      1997      1998      1999\n",
            "0     0.000000  1.270193  1.397034  ...  1.605476  1.375733  1.655586\n",
            "1     1.270193  0.000000  1.470758  ...  1.616383  1.314507  1.666247\n",
            "2     1.397034  1.470758  0.000000  ...  1.495470  1.353730  1.698088\n",
            "3     1.330976  1.379091  1.438538  ...  1.469890  1.398961  1.585118\n",
            "4     1.333689  1.141953  1.638747  ...  1.773640  1.408295  1.821250\n",
            "...        ...       ...       ...  ...       ...       ...       ...\n",
            "1995  1.589321  1.776687  1.552311  ...  1.389383  1.157987  1.394733\n",
            "1996  1.567723  1.378748  1.741908  ...  1.686252  1.467261  1.342234\n",
            "1997  1.605476  1.616383  1.495470  ...  0.000000  1.246467  1.742059\n",
            "1998  1.375733  1.314507  1.353730  ...  1.246467  0.000000  1.466838\n",
            "1999  1.655586  1.666247  1.698088  ...  1.742059  1.466838  0.000000\n",
            "\n",
            "[2000 rows x 2000 columns],           0         1         2     ...      1997      1998      1999\n",
            "0     0.000000  1.353952  1.308675  ...  2.243905  1.966262  2.135231\n",
            "1     1.353952  0.000000  0.989246  ...  2.653470  2.302680  2.427257\n",
            "2     1.308675  0.989246  0.000000  ...  2.584899  2.295063  2.339336\n",
            "3     1.509073  1.483755  1.554480  ...  2.493053  2.332205  2.156193\n",
            "4     0.950964  1.098226  1.200663  ...  2.398640  2.097823  2.192949\n",
            "...        ...       ...       ...  ...       ...       ...       ...\n",
            "1995  1.934992  2.225521  2.146542  ...  2.009816  1.680042  1.941845\n",
            "1996  2.071977  2.381274  2.346521  ...  2.082268  1.817247  1.825216\n",
            "1997  2.243905  2.653470  2.584899  ...  0.000000  1.836826  2.155979\n",
            "1998  1.966262  2.302680  2.295063  ...  1.836826  0.000000  1.596391\n",
            "1999  2.135231  2.427257  2.339336  ...  2.155979  1.596391  0.000000\n",
            "\n",
            "[2000 rows x 2000 columns],           0         1         2     ...      1997      1998      1999\n",
            "0     0.000000  1.725886  1.869928  ...  4.040457  3.805022  4.600745\n",
            "1     1.725886  0.000000  1.571679  ...  3.680461  3.236586  4.153686\n",
            "2     1.869928  1.571679  0.000000  ...  3.969217  3.423565  4.545220\n",
            "3     1.759965  1.553570  1.616104  ...  3.741590  3.379092  4.255227\n",
            "4     1.645997  1.329155  1.646691  ...  3.692037  3.454330  4.287492\n",
            "...        ...       ...       ...  ...       ...       ...       ...\n",
            "1995  4.160920  3.738831  3.881553  ...  2.129954  1.753430  2.997773\n",
            "1996  4.348320  3.868827  4.203490  ...  2.970610  2.898650  2.449822\n",
            "1997  4.040457  3.680461  3.969217  ...  0.000000  1.899134  2.582854\n",
            "1998  3.805022  3.236586  3.423565  ...  1.899134  0.000000  3.206297\n",
            "1999  4.600745  4.153686  4.545220  ...  2.582854  3.206297  0.000000\n",
            "\n",
            "[2000 rows x 2000 columns]]\n"
          ],
          "name": "stdout"
        }
      ]
    },
    {
      "cell_type": "code",
      "metadata": {
        "id": "vNp1-s_MhfSj",
        "colab_type": "code",
        "colab": {
          "base_uri": "https://localhost:8080/",
          "height": 323
        },
        "outputId": "6f76b356-ac67-4ca9-b3ca-0bf2631e9fda"
      },
      "source": [
        "P = len(Dj) # Número de Partições Fuzzy\n",
        "print(P)\n",
        "\n",
        "# Matriz V de vetores de pesos de relevância\n",
        "v = np.arange(K*P)  \n",
        "v = v.reshape((K, P))\n",
        "v = np.ones_like(v, dtype=float) # Inicialmente é igual a 1 para todo v_kj\n",
        "print('v =',v)\n",
        "\n",
        "# Matriz U (dimensão NxK)\n",
        "U = np.arange(N*K) \n",
        "U = U.reshape((N, K))\n",
        "U = np.zeros_like(U, dtype=float) # Inicialmente é igual a 0 para todo U_ik\n",
        "print('U =',U)\n"
      ],
      "execution_count": null,
      "outputs": [
        {
          "output_type": "stream",
          "text": [
            "3\n",
            "v = [[1. 1. 1.]\n",
            " [1. 1. 1.]\n",
            " [1. 1. 1.]\n",
            " [1. 1. 1.]\n",
            " [1. 1. 1.]\n",
            " [1. 1. 1.]\n",
            " [1. 1. 1.]\n",
            " [1. 1. 1.]\n",
            " [1. 1. 1.]\n",
            " [1. 1. 1.]]\n",
            "U = [[0. 0. 0. ... 0. 0. 0.]\n",
            " [0. 0. 0. ... 0. 0. 0.]\n",
            " [0. 0. 0. ... 0. 0. 0.]\n",
            " ...\n",
            " [0. 0. 0. ... 0. 0. 0.]\n",
            " [0. 0. 0. ... 0. 0. 0.]\n",
            " [0. 0. 0. ... 0. 0. 0.]]\n"
          ],
          "name": "stdout"
        }
      ]
    },
    {
      "cell_type": "code",
      "metadata": {
        "id": "JELp_-rJiPCb",
        "colab_type": "code",
        "colab": {}
      },
      "source": [
        "# Função de Adequação \"J\" (Equações: 06 e 07)\n",
        "def FMatching(ki, ii): # Equação 07\n",
        "  vkj1 = 0\n",
        "  for j in range(0,P):\n",
        "    dj1 = 0\n",
        "    for e in G[ki]:\n",
        "      dj1 += Dj[j][ii][e-1]\n",
        "    vkj1 += dj1 * v[ki][j]\n",
        "  return vkj1\n",
        "\n",
        "def fitnessFunction(): # Equação 06\n",
        "  J = 0\n",
        "  for i in range(0, N):\n",
        "    for j in range(0, K):\n",
        "      J += ((U[i][j])**m) * FMatching(j, i)\n",
        "  return J\n",
        "\n",
        "# Etapa 1: Cálculo dos melhores protótipos (Procedimento 2.3):\n",
        "# A partição Fuzzy U e o vetor de vetores de pesos de relevância V_k são fixos\n",
        "def prototype(clt, G_verificação):\n",
        "  G_out = [] # Para armazenar os prototipos para todos os K cluster\n",
        "  G_in = []  # Para armazenar os argumentos internos de cada k\n",
        "  for h in range(0, N):\n",
        "    G_in.append(argumentos(clt, h))\n",
        "  L = np.argmin(G_in, axis=0)\n",
        "  while len(G_out) == 0:\n",
        "    if (L+1) not in G_verificação:\n",
        "      G_out.append(L+1)\n",
        "    else:\n",
        "      G_in[L] = 10000000000\n",
        "      L = np.argmin(G_in, axis=0)\n",
        "  return G_out[0]\n",
        "\n",
        "def argumentos(ki, hi): # Essa função vai retornar o calculo dos somatórios para o k-ésimo cluster e o h-éssimo argumento.\n",
        "  L = 0\n",
        "  somaUVD = 0\n",
        "  for i in range(0, N):\n",
        "    somaVD = 0\n",
        "    for j in range(0, P):\n",
        "       somaVD += ((v[ki][j])**s) * Dj[j][i][hi] # Não ficou tão claro na função, se ele soma também cada matriz de dissimilaridade Dj para as p visões diferentes\n",
        "    somaUVD += ((U[i][ki])**m) * somaVD\n",
        "  L += somaUVD\n",
        "  return L\n",
        "\n",
        "#Etapa 2: Cálculo do melhor vetor de pesos de relevância das visões nos grupos (Equação 09)\n",
        "# Partição Fuzzy U e vetor de representantes G fixos!\n",
        "def relevanceWeights(ki, ji):\n",
        "  prodUP = 1\n",
        "  for h in range(0, P):\n",
        "    uik2 = 0\n",
        "    for i in range(0,N):\n",
        "      DjUp2 = 0\n",
        "      for e in G[ki]:\n",
        "        DjUp2 += Dj[h][i][(e)-1]\n",
        "      uik2 += ((U[i][ki])**m) * DjUp2\n",
        "    prodUP *= uik2\n",
        "  DjUDown2 = 0\n",
        "  for i in range(0,N):\n",
        "    DjDown2 = 0\n",
        "    for e in G[ki]:\n",
        "      DjDown2 += Dj[ji][i][(e)-1]\n",
        "    DjUDown2 += ((U[i][ki])**m) * DjDown2 \n",
        "  resultado = (prodUP**(1/P))/(DjUDown2)\n",
        "  return resultado\n",
        "\n",
        "# Etapa 3: Definição da Melhor Partição Fuzzy (Equação 11)\n",
        "# Vetores de representantes G e vetores dos pesos V são fixos!\n",
        "def fuzzyPartition(ii, ki, s):\n",
        "  total3 = 0\n",
        "  soma3 = 0\n",
        "  for h in range(0,K):\n",
        "    vikUP3 = 0\n",
        "    for j in range(0,P):\n",
        "      djUP3 = 0\n",
        "      for e in G[ki]:\n",
        "        djUP3 += Dj[j][ii][(e)-1]\n",
        "      vikUP3 += (v[ki][j]**s) * djUP3\n",
        "    vikDown3 = 0\n",
        "    for j in range(0,P):\n",
        "      djDown3 = 0\n",
        "      for e in G[h]:\n",
        "        djDown3 += Dj[j][ii][(e)-1]\n",
        "      vikDown3 += (v[h][j]**s) * djDown3\n",
        "    if vikDown3 == 0:\n",
        "      soma3 += 0\n",
        "    else:\n",
        "      soma3 += (vikUP3/vikDown3)**(1/(m-1))\n",
        "  if soma3 == 0:\n",
        "    total3 = 0\n",
        "  else:\n",
        "    total3 = (soma3**(-1))\n",
        "  return total3\n"
      ],
      "execution_count": null,
      "outputs": []
    },
    {
      "cell_type": "code",
      "metadata": {
        "id": "rGPJkraPjCkC",
        "colab_type": "code",
        "colab": {
          "base_uri": "https://localhost:8080/",
          "height": 632
        },
        "outputId": "eb2bd947-1130-41c8-a269-df92b29b4a0d"
      },
      "source": [
        "import time\n",
        "inicio=time.time()\n",
        "\n",
        "# Algoritmo, união de todas as etapas:\n",
        "\n",
        "#1) Inicialização\n",
        "Jt = [10000000] # A lista de soluções J inicia com números com diferença bem alta\n",
        "t = 0 # tempo inicial\n",
        "# Matriz de representantes Gk para cada cluster k\n",
        "G = []\n",
        "check_list = []\n",
        "for c in range(0,K):\n",
        "  G_i = []\n",
        "  while len(G_i) < q:\n",
        "    num = random.randint(1,N)\n",
        "    if num not in check_list:\n",
        "      G_i.append(num)\n",
        "      check_list.append(num)\n",
        "  G.append(G_i)\n",
        "print('G(t=0)=',G)\n",
        "print('')\n",
        "# Para o grau de pertinência Uik inicial.\n",
        "for i in range(0,N):\n",
        "  for k in range(0,K):\n",
        "    U[i][k] = fuzzyPartition(i, k, s)\n",
        "print(\"U_ij (t=0)\", U) # A matriz com a Partição Fuzzy calculada na Inicialização\n",
        "print('')\n",
        "Jt.append(fitnessFunction()) # Etapa Inicial para o J(0)\n",
        "print(\"J(t=0)\", Jt[-1])\n",
        "parada = True\n",
        "while parada == True:\n",
        "  if ((Jt[-2]-Jt[-1]) > e) and (t < T):\n",
        "    t += 1\n",
        "    #2) Etapa 1:\n",
        "    G_verificação = []  # Uma lista para armazenar todos os protótipos de G e servir para verificar se o elemento eL já está na lista\n",
        "    for cluster in range(0,K):\n",
        "      eL = []\n",
        "      while len(eL) < q:\n",
        "        eL.append(prototype(cluster, G_verificação))\n",
        "        if len(eL) == 1:\n",
        "          G_verificação.append(eL[0])\n",
        "        elif len(eL) == 2:\n",
        "          G_verificação.append(eL[1])\n",
        "      G[cluster] = eL\n",
        "    print(G)\n",
        "\n",
        "    #3) Etapa 2:\n",
        "    for k in range(0, K):\n",
        "      for j in range(0, P):\n",
        "        v[k][j] = relevanceWeights(k, j) \n",
        "    \n",
        "    #4) Etapa 3:\n",
        "    for i in range(0,N):\n",
        "      for k in range(0,K):\n",
        "        U[i][k] = fuzzyPartition(i, k, s)\n",
        "\n",
        "    #5) Critério de parada:\n",
        "    Jt.append(fitnessFunction())\n",
        "    print(\"ERRO\", abs(Jt[-1]-Jt[-2]))\n",
        "    print(\"t = %.f e J(t) = %.10f\" %(t, Jt[-1]))\n",
        "    print('')\n",
        "    #print(\"U = \",U)\n",
        "    #print(\"V = \",v)\n",
        "  else:\n",
        "    parada = False\n",
        "    print(\"FIM do algoritmo\")\n",
        "\n",
        "print(\"J: \",Jt[-1])\n",
        "print(\"G = \",G)\n",
        "print(\"U = \",U)\n",
        "print(\"V = \",v)\n",
        "fim=time.time()\n",
        "print(\"Tempo total de execução do modelo: %f\" %(fim-inicio))\n",
        "\n",
        "# Salvar a saída em csv:\n",
        "dir_remoto = \"/content/drive/My Drive/\"\n",
        "dir_local = os.getcwd() # path para rodar em máquina local ao invés do colab\n",
        "\n",
        "pd.DataFrame(U).to_csv('drive/My Drive/data/matriz_U_q1.csv')\n",
        "pd.DataFrame(v).to_csv('drive/My Drive/data/matriz_v_q1.csv')\n",
        "print(U.shape)\n",
        "print(v.shape)"
      ],
      "execution_count": null,
      "outputs": [
        {
          "output_type": "stream",
          "text": [
            "G(t=0)= [[833, 118], [307, 1710], [513, 1281], [324, 1546], [175, 182], [1445, 71], [1244, 1826], [594, 1483], [1681, 76], [13, 1622]]\n",
            "\n",
            "U_ij (t=0) [[0.10782003 0.07682607 0.06770869 ... 0.06438266 0.100008   0.1439595 ]\n",
            " [0.10681428 0.07780442 0.06432273 ... 0.06071012 0.10123439 0.13171643]\n",
            " [0.11313302 0.07435849 0.06379046 ... 0.06195383 0.10176691 0.12396051]\n",
            " ...\n",
            " [0.09249338 0.10070929 0.10233459 ... 0.09061256 0.09354002 0.09534656]\n",
            " [0.0894432  0.11074681 0.09129648 ... 0.08234094 0.09932442 0.09699435]\n",
            " [0.08329237 0.08902236 0.10381144 ... 0.11895211 0.08592617 0.08955567]]\n",
            "\n",
            "J(t=0) 7634.309542201845\n",
            "[[1723, 1690], [693, 1716], [754, 798], [1891, 1865], [79, 37], [1994, 1886], [1663, 1100], [594, 567], [1644, 1766], [1656, 1620]]\n",
            "ERRO 934.6622790860793\n",
            "t = 1 e J(t) = 6699.6472631158\n",
            "\n",
            "[[1723, 1690], [693, 662], [754, 798], [1891, 1832], [79, 26], [1886, 1994], [1718, 1663], [567, 589], [1766, 1644], [1656, 1620]]\n",
            "ERRO 24.986099082208057\n",
            "t = 2 e J(t) = 6674.6611640336\n",
            "\n",
            "[[1723, 1690], [693, 662], [754, 798], [1891, 1832], [79, 26], [1886, 1994], [1718, 1663], [589, 505], [1766, 1644], [1656, 1620]]\n",
            "ERRO 2.4812222691489296\n",
            "t = 3 e J(t) = 6672.1799417644\n",
            "\n",
            "[[1723, 1690], [693, 662], [754, 798], [1891, 1832], [79, 26], [1886, 1994], [1718, 1663], [589, 505], [1766, 1644], [1656, 1620]]\n",
            "ERRO 0.0032671413518983172\n",
            "t = 4 e J(t) = 6672.1766746231\n",
            "\n",
            "[[1723, 1690], [693, 662], [754, 798], [1891, 1832], [79, 26], [1886, 1994], [1718, 1663], [589, 505], [1766, 1644], [1656, 1620]]\n",
            "ERRO 1.602087650098838e-06\n",
            "t = 5 e J(t) = 6672.1766730210\n",
            "\n",
            "[[1723, 1690], [693, 662], [754, 798], [1891, 1832], [79, 26], [1886, 1994], [1718, 1663], [589, 505], [1766, 1644], [1656, 1620]]\n",
            "ERRO 9.51331458054483e-10\n",
            "t = 6 e J(t) = 6672.1766730200\n",
            "\n"
          ],
          "name": "stdout"
        }
      ]
    },
    {
      "cell_type": "code",
      "metadata": {
        "id": "N1NZZH243Rx3",
        "colab_type": "code",
        "colab": {}
      },
      "source": [
        ""
      ],
      "execution_count": null,
      "outputs": []
    }
  ]
}