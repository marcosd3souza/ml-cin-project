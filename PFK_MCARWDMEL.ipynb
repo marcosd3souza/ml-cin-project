{
  "nbformat": 4,
  "nbformat_minor": 0,
  "metadata": {
    "colab": {
      "name": "PFK-MCARWDMEL.ipynb",
      "provenance": [],
      "collapsed_sections": []
    },
    "kernelspec": {
      "name": "python3",
      "display_name": "Python 3"
    }
  },
  "cells": [
    {
      "cell_type": "markdown",
      "metadata": {
        "id": "gtPXHTBzGte6",
        "colab_type": "text"
      },
      "source": [
        "Este algoritmo é projetado para fornecer uma partição fuzzy e um protótipo para cada cluster fuzzy, além de aprender um peso de relevância para cada matriz de dissimilaridade que muda na iteração de cada algoritmo e é diferente de um cluster fuzzy para outro."
      ]
    },
    {
      "cell_type": "code",
      "metadata": {
        "id": "43XWlIhzEf_x",
        "colab_type": "code",
        "colab": {}
      },
      "source": [
        "# PARÂMETROS INICIAIS\n",
        "\n",
        "K = 3 # Número de classes\n",
        "N = 6 # Número de objetos\n",
        "t = 0 # tempo inicial\n",
        "m = 1.6 # valor m \n",
        "T = 150  # Número máximo de rodadas\n",
        "e = 1e-10 # Erro permissível\n",
        "s = 1 # valor s \n",
        "q = 1 # cardinalidade q"
      ],
      "execution_count": null,
      "outputs": []
    },
    {
      "cell_type": "code",
      "metadata": {
        "id": "aJhhcX0AFuN9",
        "colab_type": "code",
        "colab": {}
      },
      "source": [
        "# Dados de entrada\n",
        "p1 = 3 # 3 variaveis descritivas para cada objeto\n",
        "p2 = 4 # 4 variaveis descritivas para cada objeto\n",
        "\n",
        "# Matrizes de objetos e_i normalziados\n",
        "E1 = [[0.13043, 0.32609, 0.44022],\n",
        "     [0.45109, 0.03804, 0.91304],\n",
        "     [0.4837, 0.34783, 0.47283],\n",
        "     [0.34783, 0.4837, 1.0],\n",
        "     [0.49457, 0.0, 0.57609],\n",
        "     [0.49457, 0.0, 0.40761]]\n",
        "E2 = [[0.1005, 0.80905, 1.0, 0.8593],\n",
        "      [0.31658, 0.64824, 0.46231, 0.61809],\n",
        "      [0.31658, 0.1809, 0.66332, 0.84422],\n",
        "      [0.79899, 0.08543, 0.78392, 0.78392],\n",
        "      [0.67839, 0.71357, 0.85427, 0.73367],\n",
        "      [0.73367, 0.40201, 0.0, 0.1005]]\n",
        "\n",
        "# Matrizes de Dissimilaridade\n",
        "D1 = [[0.0, 0.6398, 0.3554, 0.6208, 0.5073, 0.4898],\n",
        "     [0.6398, 0.0, 0.5392, 0.4656, 0.3418, 0.5087],\n",
        "     [0.3554, 0.5392, 0.0, 0.5610, 0.3629, 0.3540],\n",
        "     [0.6208, 0.4656, 0.5610, 0.0, 0.6596, 0.7787],\n",
        "     [0.5073, 0.3418, 0.3629, 0.6596, 0.0, 0.1684],\n",
        "     [0.4898, 0.5087, 0.3540, 0.7787, 0.1684, 0.0]]\n",
        "D2 = [[0.0, 0.64795, 0.74488, 1.03145, 0.61652, 1.46368],\n",
        "      [0.64795, 0.0, 0.55673, 0.82487, 0.5497, 0.8463],\n",
        "      [0.74488, 0.55673, 0.0, 0.50992, 0.68068, 1.10271],\n",
        "      [1.03145, 0.82487, 0.50992, 0.0, 0.64543, 1.08907],\n",
        "      [0.61652, 0.5497, 0.68068, 0.64543, 0.0, 1.10942],\n",
        "      [1.46368, 0.8463, 1.10271, 1.08907, 1.10942, 0.0]]\n",
        "# Dj = D[0] = = D1 e D[1] = D2  Matriz de dissimilaridade com \"p\" visões\n",
        "Dj = [[[0.0, 0.6398, 0.3554, 0.6208, 0.5073, 0.4898],\n",
        "      [0.6398, 0.0, 0.5392, 0.4656, 0.3418, 0.5087],\n",
        "      [0.3554, 0.5392, 0.0, 0.5610, 0.3629, 0.3540],\n",
        "      [0.6208, 0.4656, 0.5610, 0.0, 0.6596, 0.7787],\n",
        "      [0.5073, 0.3418, 0.3629, 0.6596, 0.0, 0.1684],\n",
        "      [0.4898, 0.5087, 0.3540, 0.7787, 0.1684, 0.0]],\n",
        "     [[0.0, 0.64795, 0.74488, 1.03145, 0.61652, 1.46368],\n",
        "      [0.64795, 0.0, 0.55673, 0.82487, 0.5497, 0.8463],\n",
        "      [0.74488, 0.55673, 0.0, 0.50992, 0.68068, 1.10271],\n",
        "      [1.03145, 0.82487, 0.50992, 0.0, 0.64543, 1.08907],\n",
        "      [0.61652, 0.5497, 0.68068, 0.64543, 0.0, 1.10942],\n",
        "      [1.46368, 0.8463, 1.10271, 1.08907, 1.10942, 0.0]]]\n",
        "P = len(Dj) # Número de Partições Fuzzy\n",
        "# Gk é o representante do grupo Pk (1 <= k <= K)\n",
        "'''G = [[g1 = g11, g12, ..., g1p],\n",
        "     [g2 = g21, g22, ..., g2p],\n",
        "     [g3 = g31, g32, ..., g3p],\n",
        "     [gK = gK1, gK2, ..., gKp]]'''\n",
        "G = [[2],\n",
        "     [3],\n",
        "     [1]]\n",
        "\n",
        "#Uik é o grau de pertinência exclusivo do objeto i no grupo k. Logo, uik = 1, se o objeto i estiver no grupo k; e 0, otherwise.\n",
        "#Uik é o representante do grupo Pk (i = 1,..., N) e (k= 1,...,K)\n",
        "'''U = [[u1 = u11, u12, u13],\n",
        "     [u2 = u21, u22, u23],\n",
        "     [u3 = u31, u32, u33],\n",
        "     [u4 = u41, u42, u43],\n",
        "     [u5 = u51, u52, u53],\n",
        "     [u6 = u61, u62, u63]]'''\n",
        "U = [[1, 0, 0],\n",
        "     [0, 0, 1],\n",
        "     [1, 0, 0],\n",
        "     [0, 0, 1],\n",
        "     [0, 1, 0],\n",
        "     [0, 1, 0]]\n",
        "\n",
        "# V é um vetor k-dimensional de vetores de peso de relevância (um para cada partição fuzzy P)\n",
        "'''v = [[v1 = v11, v12, ..., v1p],\n",
        "        [v2 = v21, v22, ..., v2p],\n",
        "        [v3 = v31, v32, ..., v3p]]'''\n",
        "v = [[1, 1],\n",
        "     [1, 1],\n",
        "     [1, 1]]"
      ],
      "execution_count": null,
      "outputs": []
    },
    {
      "cell_type": "code",
      "metadata": {
        "id": "0baJF81KFF0m",
        "colab_type": "code",
        "colab": {}
      },
      "source": [
        "# Função de Adequação \"J\" (Equações: 06 e 07)\n",
        "\n",
        "def FMatching(ki, ii): # Equação 07\n",
        "  vkj1 = 0\n",
        "  for j in range(0,P):\n",
        "    dj1 = 0\n",
        "    for e in G[ki]:\n",
        "      dj1 += Dj[j][ii][e-1]\n",
        "    vkj1 += dj1 * v[ki][j]\n",
        "  return vkj1\n",
        "\n",
        "def fitnessFunction(): # Equação 06\n",
        "  J = 0\n",
        "  for i in range(0, N):\n",
        "    for j in range(0, K):\n",
        "      J += ((U[i][j])**m) * FMatching(j, i)\n",
        "  return J\n",
        "\n",
        "#print(fitnessFunction())"
      ],
      "execution_count": null,
      "outputs": []
    },
    {
      "cell_type": "code",
      "metadata": {
        "id": "eQMWHeKOLQWj",
        "colab_type": "code",
        "colab": {
          "base_uri": "https://localhost:8080/",
          "height": 52
        },
        "outputId": "20047eb9-b163-41df-8927-650dc842d000"
      },
      "source": [
        "# Etapa 1: Cálculo dos melhores protótipos:\n",
        "# A partição Fuzzy U e o vetor de vetores de pesos de relevância V_k são fixos\n",
        "\n",
        "#Procedimento 2.3\n",
        "import numpy as np # Usar o numpy para utilizar a função \"argmin\"\n",
        "\n",
        "def prototype(clt, G_verificação):\n",
        "  G_out = [] # Para armazenar os prototipos para todos os K cluster\n",
        "  G_in = []  # Para armazenar os argumentos internos de cada k\n",
        "  for h in range(0, N):\n",
        "    G_in.append(argumentos(clt, h))\n",
        "    #print(\"G_in: \", G_in)\n",
        "  L = np.argmin(G_in, axis=0)\n",
        "  #print(\"L:\", L)\n",
        "  while len(G_out) == 0:\n",
        "    if (L+1) not in G_verificação:\n",
        "      G_out.append(L+1)\n",
        "    else:\n",
        "      G_in[L] = 10000\n",
        "      L = np.argmin(G_in, axis=0)\n",
        "  return G_out\n",
        "\n",
        "def argumentos(ki, hi): # Essa função vai retornar o calculo dos somatórios para o k-ésimo cluster e o h-éssimo argumento.\n",
        "  L = 0\n",
        "  somaUVD = 0\n",
        "  for i in range(0, N):\n",
        "    somaVD = 0\n",
        "    for j in range(0, P):\n",
        "       somaVD += ((v[ki][j])**s) * Dj[j][i][hi] # Não ficou tão claro na função, se ele soma também cada matriz de dissimilaridade Dj para as p visões diferentes\n",
        "    somaUVD += ((U[i][ki])**m) * somaVD\n",
        "  L += somaUVD\n",
        "  return L\n",
        "'''  \n",
        "G_verificação = []  # Uma lista para armazenar todos os protótipos de G e servir para verificar se o elemento eL já está na lista\n",
        "for cluster in range(0,K):\n",
        "  eL = prototype(cluster, G_verificação)\n",
        "  G_verificação.append(eL)\n",
        "  print(eL)\n",
        "  G[cluster] = eL\n",
        "print(G)'''"
      ],
      "execution_count": null,
      "outputs": [
        {
          "output_type": "execute_result",
          "data": {
            "application/vnd.google.colaboratory.intrinsic+json": {
              "type": "string"
            },
            "text/plain": [
              "'  \\nG_verificação = []  # Uma lista para armazenar todos os protótipos de G e servir para verificar se o elemento eL já está na lista\\nfor cluster in range(0,K):\\n  eL = prototype(cluster, G_verificação)\\n  G_verificação.append(eL)\\n  print(eL)\\n  G[cluster] = eL\\nprint(G)'"
            ]
          },
          "metadata": {
            "tags": []
          },
          "execution_count": 4
        }
      ]
    },
    {
      "cell_type": "code",
      "metadata": {
        "id": "lZSTOTBWUWsg",
        "colab_type": "code",
        "colab": {
          "base_uri": "https://localhost:8080/",
          "height": 52
        },
        "outputId": "6b0ac0fd-f94c-4b4d-c706-5d1238c29ff9"
      },
      "source": [
        "#Etapa 2: Cálculo do melhor vetor de pesos de relevância (Equação 09)\n",
        "# Partição Fuzzy U e vetor de representantes G fixos!\n",
        "print(v) # A matriz de pesos de relevância antes da etapa 2\n",
        "\n",
        "def relevanceWeights(ki, ji):\n",
        "  prodUP = 1\n",
        "  for h in range(0, P):\n",
        "    uik2 = 0\n",
        "    for i in range(0,N):\n",
        "      DjUp2 = 0\n",
        "      for e in G[ki]:\n",
        "        DjUp2 += Dj[h][i][(e)-1]\n",
        "      uik2 += ((U[i][ki])**m) * DjUp2\n",
        "    prodUP *= uik2\n",
        "\n",
        "    DjUDown2 = 0\n",
        "    for i in range(0,N):\n",
        "      DjDown2 = 0\n",
        "      for e in G[ki]:\n",
        "        DjDown2 += Dj[ji][i][(e)-1]\n",
        "      DjUDown2 += ((U[i][ki])**m) * DjDown2\n",
        "                                  \n",
        "    resultado = (prodUP**(1/P))/(DjUDown2)\n",
        "    return resultado\n",
        "'''\n",
        "for k in range(0, K):\n",
        "  for j in range(0, P):\n",
        "    v[k][j] = relevanceWeights(k, j) \n",
        "print(v) # A matriz de pesos de relevância depois da etapa 2'''"
      ],
      "execution_count": null,
      "outputs": [
        {
          "output_type": "stream",
          "text": [
            "[[1, 1], [1, 1], [1, 1]]\n"
          ],
          "name": "stdout"
        },
        {
          "output_type": "execute_result",
          "data": {
            "application/vnd.google.colaboratory.intrinsic+json": {
              "type": "string"
            },
            "text/plain": [
              "'\\nfor k in range(0, K):\\n  for j in range(0, P):\\n    v[k][j] = relevanceWeights(k, j) \\nprint(v) # A matriz de pesos de relevância depois da etapa 2'"
            ]
          },
          "metadata": {
            "tags": []
          },
          "execution_count": 5
        }
      ]
    },
    {
      "cell_type": "code",
      "metadata": {
        "id": "X_33loOnkHdI",
        "colab_type": "code",
        "colab": {
          "base_uri": "https://localhost:8080/",
          "height": 52
        },
        "outputId": "7b362769-68d8-48af-9175-b61c527aed8c"
      },
      "source": [
        "# Etapa 3: Definição da Melhor Partição Fuzzy (Equação 11)\n",
        "# Vetores de representantes G e vetores dos pesos V são fixos!\n",
        "print(U) # A matriz com a Partição Fuzzy antes da etapa 3\n",
        "\n",
        "def fuzzyPartition(ii, ki, s):\n",
        "  total3 = 0\n",
        "  soma3 = 0\n",
        "  for h in range(0,K):\n",
        "    vikUP3 = 0\n",
        "    for j in range(0,P):\n",
        "      djUP3 = 0\n",
        "      for e in G[ki]:\n",
        "        djUP3 += Dj[j][ii][(e)-1]\n",
        "      vikUP3 += (v[ki][j]**s) * djUP3\n",
        "    vikDown3 = 0\n",
        "    for j in range(0,P):\n",
        "      djDown3 = 0\n",
        "      for e in G[h]:\n",
        "        djDown3 += Dj[j][ii][(e)-1]\n",
        "      vikDown3 += (v[h][j]**s) * djDown3\n",
        "    if vikDown3 == 0:\n",
        "      soma3 += 0\n",
        "    else:\n",
        "      soma3 += (vikUP3/vikDown3)**(1/(m-1))\n",
        "  if soma3 == 0:\n",
        "    total3 = 0\n",
        "  else:\n",
        "    total3 = (soma3**(-1))\n",
        "  return total3\n",
        "'''\n",
        "for i in range(0,N):\n",
        "  for k in range(0,K):\n",
        "    U[i][k] = fuzzyPartition(i, k, s)\n",
        "print(U) # A matriz com a Partição Fuzzy depois da etapa 3'''"
      ],
      "execution_count": null,
      "outputs": [
        {
          "output_type": "stream",
          "text": [
            "[[1, 0, 0], [0, 0, 1], [1, 0, 0], [0, 0, 1], [0, 1, 0], [0, 1, 0]]\n"
          ],
          "name": "stdout"
        },
        {
          "output_type": "execute_result",
          "data": {
            "application/vnd.google.colaboratory.intrinsic+json": {
              "type": "string"
            },
            "text/plain": [
              "'\\nfor i in range(0,N):\\n  for k in range(0,K):\\n    U[i][k] = fuzzyPartition(i, k, s)\\nprint(U) # A matriz com a Partição Fuzzy depois da etapa 3'"
            ]
          },
          "metadata": {
            "tags": []
          },
          "execution_count": 6
        }
      ]
    },
    {
      "cell_type": "code",
      "metadata": {
        "id": "kEVJzJJ1SgXM",
        "colab_type": "code",
        "colab": {
          "base_uri": "https://localhost:8080/",
          "height": 1000
        },
        "outputId": "cfe7248f-b321-446a-a795-faff7c318574"
      },
      "source": [
        "# Algoritmo, união de todas as etapas:\n",
        "\n",
        "#1) Inicialização\n",
        "Jt = [10000] # A lista de soluções J inicia com números com diferença bem alta\n",
        "t = 0 # tempo inicial\n",
        "T = 10\n",
        "e = 0.00001\n",
        "# Para o grau de pertinência Uik inicial.\n",
        "for i in range(0,N):\n",
        "  for k in range(0,K):\n",
        "    U[i][k] = fuzzyPartition(i, k, s)\n",
        "print(U) # A matriz com a Partição Fuzzy calculada na Inicialização\n",
        "\n",
        "Jt.append(fitnessFunction()) # Etapa Inicial para o J(0)\n",
        "print(\"J('t=0')\", Jt[-1])\n",
        "\n",
        "while (abs(Jt[-1]-Jt[-2])>e) or (t < T):\n",
        "  t += 1\n",
        "  #2) Etapa 1:\n",
        "  G = [] # Armazenar os K clusters designados\n",
        "  for particao in range(0,K):\n",
        "    G.append([])\n",
        "  G_verificação = []  # Uma lista para armazenar todos os protótipos de G e servir para verificar se o elemento eL já está na lista\n",
        "  for cluster in range(0,K):\n",
        "    eL = prototype(cluster, G_verificação)\n",
        "    G_verificação.append(eL)\n",
        "    G[cluster] = eL\n",
        "  print(G)\n",
        "  #3) Etapa 2:\n",
        "  for k in range(0, K):\n",
        "    for j in range(0, P):\n",
        "      v[k][j] = relevanceWeights(k, j) \n",
        "  \n",
        "  #4) Etapa 3:\n",
        "  for i in range(0,N):\n",
        "    for k in range(0,K):\n",
        "      U[i][k] = fuzzyPartition(i, k, s)\n",
        "\n",
        "  #5) Critério de parada:\n",
        "  Jt.append(fitnessFunction())\n",
        "\n",
        "print(\"J: \",Jt[-1])\n",
        "print(\"U = \",U)\n",
        "print(\"V = \",V)"
      ],
      "execution_count": null,
      "outputs": [
        {
          "output_type": "stream",
          "text": [
            "[[0.4348181366644634, 0.5651818633355365, 0], [0, 0.5668036814162779, 0.4331963185837222], [0.5016505669187326, 0, 0.4983494330812675], [0.3303671550203165, 0.45079767677009935, 0.2188351682095842], [0.40834548013530936, 0.3140656358907923, 0.27758888397389836], [0.41154254054081385, 0.3647749923064576, 0.2236824671527286]]\n",
            "J('t=0') 4.265570847209421\n",
            "[[3], [2], [5]]\n",
            "[[5], [3], [2]]\n",
            "[[3], [5], [2]]\n",
            "[[5], [3], [2]]\n",
            "[[3], [5], [2]]\n",
            "[[5], [3], [2]]\n",
            "[[2], [5], [3]]\n",
            "[[5], [2], [3]]\n",
            "[[3], [5], [2]]\n",
            "[[2], [3], [5]]\n",
            "[[5], [2], [3]]\n",
            "[[3], [5], [2]]\n",
            "[[2], [3], [5]]\n",
            "[[5], [2], [3]]\n",
            "[[3], [5], [2]]\n",
            "[[2], [3], [5]]\n",
            "[[5], [2], [3]]\n",
            "[[2], [3], [5]]\n",
            "[[5], [2], [3]]\n",
            "[[3], [5], [2]]\n",
            "[[5], [2], [3]]\n",
            "[[2], [3], [5]]\n",
            "[[5], [2], [3]]\n",
            "[[3], [5], [2]]\n",
            "[[5], [2], [3]]\n",
            "[[2], [3], [5]]\n",
            "[[5], [2], [3]]\n",
            "[[3], [5], [2]]\n",
            "[[5], [2], [3]]\n",
            "[[2], [3], [5]]\n",
            "[[5], [2], [3]]\n",
            "[[3], [5], [2]]\n",
            "[[5], [2], [3]]\n",
            "[[3], [5], [2]]\n",
            "[[5], [2], [3]]\n",
            "[[2], [3], [5]]\n",
            "[[5], [2], [3]]\n",
            "[[1], [3], [2]]\n"
          ],
          "name": "stdout"
        },
        {
          "output_type": "error",
          "ename": "ZeroDivisionError",
          "evalue": "ignored",
          "traceback": [
            "\u001b[0;31m---------------------------------------------------------------------------\u001b[0m",
            "\u001b[0;31mZeroDivisionError\u001b[0m                         Traceback (most recent call last)",
            "\u001b[0;32m<ipython-input-7-9215b82931d3>\u001b[0m in \u001b[0;36m<module>\u001b[0;34m()\u001b[0m\n\u001b[1;32m     30\u001b[0m   \u001b[0;32mfor\u001b[0m \u001b[0mk\u001b[0m \u001b[0;32min\u001b[0m \u001b[0mrange\u001b[0m\u001b[0;34m(\u001b[0m\u001b[0;36m0\u001b[0m\u001b[0;34m,\u001b[0m \u001b[0mK\u001b[0m\u001b[0;34m)\u001b[0m\u001b[0;34m:\u001b[0m\u001b[0;34m\u001b[0m\u001b[0;34m\u001b[0m\u001b[0m\n\u001b[1;32m     31\u001b[0m     \u001b[0;32mfor\u001b[0m \u001b[0mj\u001b[0m \u001b[0;32min\u001b[0m \u001b[0mrange\u001b[0m\u001b[0;34m(\u001b[0m\u001b[0;36m0\u001b[0m\u001b[0;34m,\u001b[0m \u001b[0mP\u001b[0m\u001b[0;34m)\u001b[0m\u001b[0;34m:\u001b[0m\u001b[0;34m\u001b[0m\u001b[0;34m\u001b[0m\u001b[0m\n\u001b[0;32m---> 32\u001b[0;31m       \u001b[0mv\u001b[0m\u001b[0;34m[\u001b[0m\u001b[0mk\u001b[0m\u001b[0;34m]\u001b[0m\u001b[0;34m[\u001b[0m\u001b[0mj\u001b[0m\u001b[0;34m]\u001b[0m \u001b[0;34m=\u001b[0m \u001b[0mrelevanceWeights\u001b[0m\u001b[0;34m(\u001b[0m\u001b[0mk\u001b[0m\u001b[0;34m,\u001b[0m \u001b[0mj\u001b[0m\u001b[0;34m)\u001b[0m\u001b[0;34m\u001b[0m\u001b[0;34m\u001b[0m\u001b[0m\n\u001b[0m\u001b[1;32m     33\u001b[0m \u001b[0;34m\u001b[0m\u001b[0m\n\u001b[1;32m     34\u001b[0m   \u001b[0;31m#4) Etapa 3:\u001b[0m\u001b[0;34m\u001b[0m\u001b[0;34m\u001b[0m\u001b[0;34m\u001b[0m\u001b[0m\n",
            "\u001b[0;32m<ipython-input-5-f8809e77d151>\u001b[0m in \u001b[0;36mrelevanceWeights\u001b[0;34m(ki, ji)\u001b[0m\n\u001b[1;32m     21\u001b[0m       \u001b[0mDjUDown2\u001b[0m \u001b[0;34m+=\u001b[0m \u001b[0;34m(\u001b[0m\u001b[0;34m(\u001b[0m\u001b[0mU\u001b[0m\u001b[0;34m[\u001b[0m\u001b[0mi\u001b[0m\u001b[0;34m]\u001b[0m\u001b[0;34m[\u001b[0m\u001b[0mki\u001b[0m\u001b[0;34m]\u001b[0m\u001b[0;34m)\u001b[0m\u001b[0;34m**\u001b[0m\u001b[0mm\u001b[0m\u001b[0;34m)\u001b[0m \u001b[0;34m*\u001b[0m \u001b[0mDjDown2\u001b[0m\u001b[0;34m\u001b[0m\u001b[0;34m\u001b[0m\u001b[0m\n\u001b[1;32m     22\u001b[0m \u001b[0;34m\u001b[0m\u001b[0m\n\u001b[0;32m---> 23\u001b[0;31m     \u001b[0mresultado\u001b[0m \u001b[0;34m=\u001b[0m \u001b[0;34m(\u001b[0m\u001b[0mprodUP\u001b[0m\u001b[0;34m**\u001b[0m\u001b[0;34m(\u001b[0m\u001b[0;36m1\u001b[0m\u001b[0;34m/\u001b[0m\u001b[0mP\u001b[0m\u001b[0;34m)\u001b[0m\u001b[0;34m)\u001b[0m\u001b[0;34m/\u001b[0m\u001b[0;34m(\u001b[0m\u001b[0mDjUDown2\u001b[0m\u001b[0;34m)\u001b[0m\u001b[0;34m\u001b[0m\u001b[0;34m\u001b[0m\u001b[0m\n\u001b[0m\u001b[1;32m     24\u001b[0m     \u001b[0;32mreturn\u001b[0m \u001b[0mresultado\u001b[0m\u001b[0;34m\u001b[0m\u001b[0;34m\u001b[0m\u001b[0m\n\u001b[1;32m     25\u001b[0m '''\n",
            "\u001b[0;31mZeroDivisionError\u001b[0m: float division by zero"
          ]
        }
      ]
    },
    {
      "cell_type": "code",
      "metadata": {
        "id": "KRYSNTOdWyGv",
        "colab_type": "code",
        "colab": {}
      },
      "source": [
        "lista = [15,52,63,54,-15,5,15,-68]\n",
        "print(lista[-1])\n",
        "print(lista[-2])"
      ],
      "execution_count": null,
      "outputs": []
    },
    {
      "cell_type": "markdown",
      "metadata": {
        "id": "HTyvLTXeGfO8",
        "colab_type": "text"
      },
      "source": [
        ""
      ]
    }
  ]
}